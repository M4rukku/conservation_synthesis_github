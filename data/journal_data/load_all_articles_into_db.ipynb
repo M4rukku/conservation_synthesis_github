{
 "cells": [
  {
   "cell_type": "code",
   "execution_count": 1,
   "metadata": {
    "collapsed": true,
    "pycharm": {
     "is_executing": false
    }
   },
   "outputs": [],
   "source": [
    "import pandas as pd"
   ]
  },
  {
   "cell_type": "code",
   "execution_count": 2,
   "outputs": [],
   "source": [
    "articles = pd.read_json(\"articles_from_all_used_journals_ss.pd\")"
   ],
   "metadata": {
    "collapsed": false,
    "pycharm": {
     "name": "#%%\n",
     "is_executing": false
    }
   }
  },
  {
   "cell_type": "code",
   "execution_count": 3,
   "outputs": [
    {
     "data": {
      "text/plain": "                                               title  \\\n0  Cupular sense organs in Ciona (Tunicata: Ascid...   \n1    On Flagellar Movement in Unicellular Organisms.   \n2  Role of nitrogen and herbicides in integrated ...   \n3  Analysis of runoff in the Han River basin by S...   \n4  Relationships Between Soil Nitrogen Availabili...   \n\n                                       paperAbstract  \\\n0  The cupular organs of the atrial (exhalent) si...   \n1  Summary. \\n1. The flagellum is an active unit ...   \n2  Abstract Mugwort (Artemisia vulgaris L.) is be...   \n3  This study begins to address the need for a ru...   \n4  The success of variable rate N fertilizer appl...   \n\n                                             authors  \\\n0  [{'name': 'Q.  Bone', 'ids': ['7010725']}, {'n...   \n1   [{'name': 'A. G. Lowndes', 'ids': ['40702165']}]   \n2  [{'name': 'Jatinder S. Aulakh', 'ids': ['14670...   \n3  [{'name': 'Sang-Jin  Lee', 'ids': ['1707797']}...   \n4  [{'name': 'Fran  Walley', 'ids': ['114202093']...   \n\n                                  doi    year journalVolume journalPages  \\\n0  10.1111/J.1469-7998.1978.TB03931.X  2009.0           186      417-429   \n1  10.1111/J.1469-7998.1941.TB08476.X  2010.0                    111-134   \n2                 10.1017/inp.2020.19  2020.0            13    189 - 198   \n3           10.1007/s10333-011-0278-y  2011.0            10      265-280   \n4              10.2136/SSSAJ2002.1549  2002.0            66    1549-1561   \n\n             fieldsOfStudy                             journal_name  \n0                [Biology]                       Journal of Zoology  \n1                [Biology]                       Journal of Zoology  \n2                [Biology]    Invasive Plant Science and Management  \n3  [Environmental Science]              Paddy and Water Environment  \n4  [Environmental Science]  Soil Science Society of America Journal  ",
      "text/html": "<div>\n<style scoped>\n    .dataframe tbody tr th:only-of-type {\n        vertical-align: middle;\n    }\n\n    .dataframe tbody tr th {\n        vertical-align: top;\n    }\n\n    .dataframe thead th {\n        text-align: right;\n    }\n</style>\n<table border=\"1\" class=\"dataframe\">\n  <thead>\n    <tr style=\"text-align: right;\">\n      <th></th>\n      <th>title</th>\n      <th>paperAbstract</th>\n      <th>authors</th>\n      <th>doi</th>\n      <th>year</th>\n      <th>journalVolume</th>\n      <th>journalPages</th>\n      <th>fieldsOfStudy</th>\n      <th>journal_name</th>\n    </tr>\n  </thead>\n  <tbody>\n    <tr>\n      <th>0</th>\n      <td>Cupular sense organs in Ciona (Tunicata: Ascid...</td>\n      <td>The cupular organs of the atrial (exhalent) si...</td>\n      <td>[{'name': 'Q.  Bone', 'ids': ['7010725']}, {'n...</td>\n      <td>10.1111/J.1469-7998.1978.TB03931.X</td>\n      <td>2009.0</td>\n      <td>186</td>\n      <td>417-429</td>\n      <td>[Biology]</td>\n      <td>Journal of Zoology</td>\n    </tr>\n    <tr>\n      <th>1</th>\n      <td>On Flagellar Movement in Unicellular Organisms.</td>\n      <td>Summary. \\n1. The flagellum is an active unit ...</td>\n      <td>[{'name': 'A. G. Lowndes', 'ids': ['40702165']}]</td>\n      <td>10.1111/J.1469-7998.1941.TB08476.X</td>\n      <td>2010.0</td>\n      <td></td>\n      <td>111-134</td>\n      <td>[Biology]</td>\n      <td>Journal of Zoology</td>\n    </tr>\n    <tr>\n      <th>2</th>\n      <td>Role of nitrogen and herbicides in integrated ...</td>\n      <td>Abstract Mugwort (Artemisia vulgaris L.) is be...</td>\n      <td>[{'name': 'Jatinder S. Aulakh', 'ids': ['14670...</td>\n      <td>10.1017/inp.2020.19</td>\n      <td>2020.0</td>\n      <td>13</td>\n      <td>189 - 198</td>\n      <td>[Biology]</td>\n      <td>Invasive Plant Science and Management</td>\n    </tr>\n    <tr>\n      <th>3</th>\n      <td>Analysis of runoff in the Han River basin by S...</td>\n      <td>This study begins to address the need for a ru...</td>\n      <td>[{'name': 'Sang-Jin  Lee', 'ids': ['1707797']}...</td>\n      <td>10.1007/s10333-011-0278-y</td>\n      <td>2011.0</td>\n      <td>10</td>\n      <td>265-280</td>\n      <td>[Environmental Science]</td>\n      <td>Paddy and Water Environment</td>\n    </tr>\n    <tr>\n      <th>4</th>\n      <td>Relationships Between Soil Nitrogen Availabili...</td>\n      <td>The success of variable rate N fertilizer appl...</td>\n      <td>[{'name': 'Fran  Walley', 'ids': ['114202093']...</td>\n      <td>10.2136/SSSAJ2002.1549</td>\n      <td>2002.0</td>\n      <td>66</td>\n      <td>1549-1561</td>\n      <td>[Environmental Science]</td>\n      <td>Soil Science Society of America Journal</td>\n    </tr>\n  </tbody>\n</table>\n</div>"
     },
     "metadata": {},
     "output_type": "execute_result",
     "execution_count": 3
    }
   ],
   "source": [
    "articles.head()\n"
   ],
   "metadata": {
    "collapsed": false,
    "pycharm": {
     "name": "#%%\n",
     "is_executing": false
    }
   }
  }
 ],
 "metadata": {
  "kernelspec": {
   "display_name": "Python 3",
   "language": "python",
   "name": "python3"
  },
  "language_info": {
   "codemirror_mode": {
    "name": "ipython",
    "version": 2
   },
   "file_extension": ".py",
   "mimetype": "text/x-python",
   "name": "python",
   "nbconvert_exporter": "python",
   "pygments_lexer": "ipython2",
   "version": "2.7.6"
  },
  "pycharm": {
   "stem_cell": {
    "cell_type": "raw",
    "source": [],
    "metadata": {
     "collapsed": false
    }
   }
  }
 },
 "nbformat": 4,
 "nbformat_minor": 0
}