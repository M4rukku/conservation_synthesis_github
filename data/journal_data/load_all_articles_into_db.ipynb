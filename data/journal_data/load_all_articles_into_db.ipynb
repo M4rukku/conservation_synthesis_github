{
 "cells": [
  {
   "cell_type": "code",
   "execution_count": 1,
   "metadata": {
    "collapsed": true,
    "pycharm": {
     "is_executing": false
    }
   },
   "outputs": [],
   "source": [
    "import pandas as pd"
   ]
  },
  {
   "cell_type": "code",
   "execution_count": 2,
   "outputs": [],
   "source": [
    "articles = pd.read_json(\"articles_from_all_used_journals_ss.pd\")"
   ],
   "metadata": {
    "collapsed": false,
    "pycharm": {
     "name": "#%%\n",
     "is_executing": false
    }
   }
  },
  {
   "cell_type": "code",
   "execution_count": 3,
   "outputs": [
    {
     "data": {
      "text/plain": "1401513"
     },
     "metadata": {},
     "output_type": "execute_result",
     "execution_count": 3
    }
   ],
   "source": [
    "len(articles)"
   ],
   "metadata": {
    "collapsed": false,
    "pycharm": {
     "name": "#%%\n",
     "is_executing": false
    }
   }
  },
  {
   "cell_type": "code",
   "execution_count": 4,
   "outputs": [
    {
     "data": {
      "text/plain": "title            Cupular sense organs in Ciona (Tunicata: Ascid...\npaperAbstract    The cupular organs of the atrial (exhalent) si...\nauthors          [{'name': 'Q.  Bone', 'ids': ['7010725']}, {'n...\ndoi                             10.1111/J.1469-7998.1978.TB03931.X\nyear                                                        2009.0\njournalVolume                                                  186\njournalPages                                               417-429\nfieldsOfStudy                                            [Biology]\njournal_name                                    Journal of Zoology\nName: 0, dtype: object"
     },
     "metadata": {},
     "output_type": "execute_result",
     "execution_count": 4
    }
   ],
   "source": [
    "def extract_authors(authors):\n",
    "    return [d[\"name\"] for d in authors]\n",
    "\n",
    "articles.loc[0,:]"
   ],
   "metadata": {
    "collapsed": false,
    "pycharm": {
     "name": "#%%\n",
     "is_executing": false
    }
   }
  },
  {
   "cell_type": "code",
   "execution_count": 21,
   "outputs": [],
   "source": [
    "import json\n",
    "with open(\"journal_name_to_standard.json\") as f:\n",
    "    st = json.load(f)"
   ],
   "metadata": {
    "collapsed": false,
    "pycharm": {
     "name": "#%%\n",
     "is_executing": false
    }
   }
  },
  {
   "cell_type": "code",
   "execution_count": 18,
   "outputs": [
    {
     "data": {
      "text/plain": "{'the journal of applied ecology': 'journal of applied ecology',\n 'agriculture ecosystems and environment': 'agriculture, ecosystems & environment',\n 'agriculture, ecosystems and environment': 'agriculture, ecosystems & environment',\n 'restoration ecology': 'restoration ecology',\n 'the journal of wildlife management': 'journal of wildlife management',\n 'waterbirds: the international journal of waterbird biology': 'waterbirds',\n 'animal conservation': 'animal conservation',\n 'vegetatio': 'vegetatio',\n 'ices journal of marine science: journal du conseil': 'ices journal of marine science',\n 'the journal of animal ecology': 'journal of animal ecology',\n 'journal of insect conservation': 'journal of insect conservation',\n 'acta oecologica': 'acta oecologica',\n 'plos one': 'plos one',\n 'the journal of ecology': 'journal of ecology',\n 'mammalian biology - zeitschrift für säugetierkunde': 'mammalian biology',\n 'animal welfare': 'animal welfare',\n 'mammalia': 'mammalia',\n 'knowledge and management of aquatic ecosystems': 'knowledge & management of aquatic ecosystems',\n 'ambio': 'ambio',\n 'limnologica': 'limnologica - ecology and management of inland waters',\n 'flora': 'flora - morphology, distribution, functional ecology of plants',\n 'bulletin francais de la peche et de la pisciculture': 'knowledge & management of aquatic ecosystems',\n 'lichenologist': 'the lichenologist',\n 'forestry chronicle': 'the forestry chronicle',\n 'canadian field-naturalist': 'the canadian field-naturalist',\n 'american midland naturalist': 'the american midland naturalist',\n 'canadian entomologist': 'the canadian entomologist',\n 'acta agriculturae scandinavica': 'acta agriculturae scandinavica, section b - plant soil science',\n 'journal of the torrey botanical society': 'the journal of the torrey botanical society'}"
     },
     "metadata": {},
     "output_type": "execute_result",
     "execution_count": 18
    }
   ],
   "source": [
    "st"
   ],
   "metadata": {
    "collapsed": false,
    "pycharm": {
     "name": "#%%\n",
     "is_executing": false
    }
   }
  },
  {
   "cell_type": "code",
   "execution_count": 22,
   "outputs": [],
   "source": [
    "from sources.databases.db_definitions import DBArticleMetadata\n",
    "from sources.databases.internal_databases import SQLiteDB\n",
    "from sources.databases.article_data_db import ArticleRepositoryAPI\n",
    "from sources.databases.journal_name_issn_database import JournalNameIssnDatabase\n",
    "from datetime import date\n",
    "\n",
    "def map_row_to_db_entry(row, issn_db: JournalNameIssnDatabase):\n",
    "     jn = row.journal_name\n",
    "    \n",
    "    if jn.lower() in st:\n",
    "        jn = st[jn.lower()]\n",
    "    issn = issn_db.get_issn_from_name(jn)\n",
    "    \n",
    "\n",
    "    \n",
    "    return DBArticleMetadata(title=row.title,\n",
    "                             authors=extract_authors(row.authors),\n",
    "                             doi=row.doi,\n",
    "                             publication_date=row.year,\n",
    "                             abstract=row.paperAbstract,\n",
    "                             journal_name=jn,\n",
    "                             journal_volume=row.journalVolume,\n",
    "                             repo_identifier=\"sem_scholar\",\n",
    "                             issn=issn,\n",
    "                             url=f\"www.doi.org/{row.doi}\",\n",
    "                             sync_date=date.today().isoformat(),\n",
    "                             )"
   ],
   "metadata": {
    "collapsed": false,
    "pycharm": {
     "name": "#%%\n",
     "is_executing": false
    }
   }
  },
  {
   "cell_type": "code",
   "execution_count": 15,
   "outputs": [
    {
     "name": "stdout",
     "text": [
      "\n",
      " \n",
      " Title: Cupular sense organs in Ciona (Tunicata: Ascidiacea) \n",
      "            \n",
      " Authors: Q.  Bone, K. P. Ryan \n",
      "            \n",
      " Published: 2009.0 \n",
      " DOI: 10.1111/J.1469-7998.1978.TB03931.X\n",
      " Abstract: \n",
      " The cupular organs of the atrial (exhalent) siphon of Ciona have been studied\n",
      "with scanning and transmission microscopy and are shown to resemble those of the\n",
      "vertebrate acoustico-lateralis system in several respects. The sensory cells are\n",
      "ciliated, and their cilia are apparently non-motile, having a modified inner\n",
      "tubular array. These cells lie amongst supporting cells that probably secrete\n",
      "the cupula, which is composed of polysaccharide and proteins as is the test.\n",
      "Ciona is sensitive to near-field vibrations, even after the brain has been\n",
      "removed; the significance of this observation and of the arrangement of the\n",
      "cupular organs is discussed. It is concluded that the tunicates show a suitable\n",
      "morphological starting point for the vertebrate acoustico-lateralis system. \n",
      "\n",
      "\n"
     ],
     "output_type": "stream"
    }
   ],
   "source": [
    "with JournalNameIssnDatabase() as db:\n",
    "    res = (map_row_to_db_entry(articles.loc[0,:], db))\n",
    "    print(res)"
   ],
   "metadata": {
    "collapsed": false,
    "pycharm": {
     "name": "#%%\n",
     "is_executing": false
    }
   }
  },
  {
   "cell_type": "code",
   "execution_count": 23,
   "outputs": [],
   "source": [
    "with ArticleRepositoryAPI(SQLiteDB()) as article_db:\n",
    "    with JournalNameIssnDatabase() as issn_db:\n",
    "        for ind, row in articles.iterrows():\n",
    "             res = (map_row_to_db_entry(row, issn_db))\n",
    "             article_db.store_article(res)\n"
   ],
   "metadata": {
    "collapsed": false,
    "pycharm": {
     "name": "#%%\n",
     "is_executing": false
    }
   }
  },
  {
   "cell_type": "code",
   "execution_count": 24,
   "outputs": [
    {
     "name": "stdout",
     "text": [
      "Hello\n"
     ],
     "output_type": "stream"
    }
   ],
   "source": [
    "print(\"Hello\")"
   ],
   "metadata": {
    "collapsed": false,
    "pycharm": {
     "name": "#%%\n",
     "is_executing": false
    }
   }
  }
 ],
 "metadata": {
  "kernelspec": {
   "display_name": "Python 3",
   "language": "python",
   "name": "python3"
  },
  "language_info": {
   "codemirror_mode": {
    "name": "ipython",
    "version": 2
   },
   "file_extension": ".py",
   "mimetype": "text/x-python",
   "name": "python",
   "nbconvert_exporter": "python",
   "pygments_lexer": "ipython2",
   "version": "2.7.6"
  },
  "pycharm": {
   "stem_cell": {
    "cell_type": "raw",
    "source": [],
    "metadata": {
     "collapsed": false
    }
   }
  }
 },
 "nbformat": 4,
 "nbformat_minor": 0
}