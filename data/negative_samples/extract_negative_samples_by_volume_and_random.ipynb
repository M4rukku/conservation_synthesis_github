{
 "cells": [
  {
   "cell_type": "markdown",
   "metadata": {},
   "source": [
    "# Goal: Get all Data from volumes that have been looked at!"
   ]
  },
  {
   "cell_type": "code",
   "execution_count": 1,
   "metadata": {},
   "outputs": [],
   "source": [
    "import pandas as pd"
   ]
  },
  {
   "cell_type": "code",
   "execution_count": 3,
   "metadata": {},
   "outputs": [],
   "source": [
    "d1 = pd.read_json(\"data_from_0_to_1000\")\n",
    "d2 = pd.read_json(\"data_from_1000_to_2500\")\n",
    "d3 = pd.read_json(\"data_from_2500_to_4500\")\n",
    "d4 = pd.read_json(\"data_from_4500_to_5999\")"
   ]
  },
  {
   "cell_type": "code",
   "execution_count": 5,
   "metadata": {},
   "outputs": [],
   "source": [
    "data = pd.concat( [d1, d2, d3, d4], ignore_index=True)"
   ]
  },
  {
   "cell_type": "code",
   "execution_count": 15,
   "metadata": {},
   "outputs": [],
   "source": [
    "data.to_json(\"all_relevant_journal_data.pd\")"
   ]
  },
  {
   "cell_type": "code",
   "execution_count": 8,
   "metadata": {},
   "outputs": [],
   "source": [
    "grouped = data.groupby(by=\"journal_name\")"
   ]
  },
  {
   "cell_type": "code",
   "execution_count": 70,
   "metadata": {},
   "outputs": [],
   "source": [
    "import json\n",
    "import unidecode \n",
    "\n",
    "with open(\"journal_name_to_standard.json\") as f:\n",
    "    journal_name_standard = json.load(f)\n",
    "    \n",
    "with open(\"issn_journal_map.json\") as f:\n",
    "    issn_journal = json.load(f)\n",
    "    \n",
    "with open(\"issn_vol_iss_map.json\") as f:\n",
    "    issn_vol_iss = json.load(f)"
   ]
  },
  {
   "cell_type": "code",
   "execution_count": 71,
   "metadata": {},
   "outputs": [],
   "source": [
    "journal_name_standard = {key.lower():val.lower() for key, val in journal_name_standard.items()}"
   ]
  },
  {
   "cell_type": "markdown",
   "metadata": {},
   "source": [
    "Get all data from journals for which we have at least one volume"
   ]
  },
  {
   "cell_type": "code",
   "execution_count": 74,
   "metadata": {},
   "outputs": [],
   "source": [
    "from collections import defaultdict\n",
    "cleaned_groups = defaultdict(lambda: pd.Int64Index([])) # Sometimes group occur more than once due to capitalisation #Default to lower\n",
    "\n",
    "for name, group in grouped.groups.items():\n",
    "    name = name.strip().lower()\n",
    "    \n",
    "    if name in journal_name_standard.keys():\n",
    "        name = journal_name_standard[name]\n",
    "        \n",
    "    standardised_name = name.strip().lower()\n",
    "    \n",
    "    cleaned_groups[standardised_name] = cleaned_groups[standardised_name].union(group)"
   ]
  },
  {
   "cell_type": "code",
   "execution_count": 108,
   "metadata": {},
   "outputs": [
    {
     "data": {
      "text/plain": [
       "{'the journal of applied ecology': 'journal of applied ecology',\n",
       " 'agriculture ecosystems and environment': 'agriculture, ecosystems & environment',\n",
       " 'agriculture, ecosystems and environment': 'agriculture, ecosystems & environment',\n",
       " 'restoration ecology': 'restoration ecology',\n",
       " 'the journal of wildlife management': 'journal of wildlife management',\n",
       " 'waterbirds: the international journal of waterbird biology': 'waterbirds',\n",
       " 'animal conservation': 'animal conservation',\n",
       " 'vegetatio': 'vegetatio',\n",
       " 'ices journal of marine science: journal du conseil': 'ices journal of marine science',\n",
       " 'the journal of animal ecology': 'journal of animal ecology',\n",
       " 'journal of insect conservation': 'journal of insect conservation',\n",
       " 'acta oecologica': 'acta oecologica',\n",
       " 'plos one': 'plos one',\n",
       " 'the journal of ecology': 'journal of ecology',\n",
       " 'mammalian biology - zeitschrift für säugetierkunde': 'mammalian biology',\n",
       " 'animal welfare': 'animal welfare',\n",
       " 'mammalia': 'mammalia',\n",
       " 'knowledge and management of aquatic ecosystems': 'knowledge & management of aquatic ecosystems',\n",
       " 'ambio': 'ambio',\n",
       " 'limnologica': 'limnologica - ecology and management of inland waters',\n",
       " 'flora': 'flora - morphology, distribution, functional ecology of plants',\n",
       " 'bulletin francais de la peche et de la pisciculture': 'knowledge & management of aquatic ecosystems',\n",
       " 'lichenologist': 'the lichenologist',\n",
       " 'forestry chronicle': 'the forestry chronicle',\n",
       " 'canadian field-naturalist': 'the canadian field-naturalist',\n",
       " 'american midland naturalist': 'the american midland naturalist',\n",
       " 'canadian entomologist': 'the canadian entomologist',\n",
       " 'acta agriculturae scandinavica': 'acta agriculturae scandinavica, section b - plant soil science',\n",
       " 'journal of the torrey botanical society': 'the journal of the torrey botanical society'}"
      ]
     },
     "execution_count": 108,
     "metadata": {},
     "output_type": "execute_result"
    }
   ],
   "source": [
    "journal_name_standard"
   ]
  },
  {
   "cell_type": "markdown",
   "metadata": {},
   "source": [
    "Get a mapping between standardised names and volumes we have in pos data"
   ]
  },
  {
   "cell_type": "code",
   "execution_count": 112,
   "metadata": {},
   "outputs": [],
   "source": [
    "def standardise_journal_name(name):\n",
    "    if name is None:\n",
    "        return None\n",
    "    name = unidecode.unidecode(name.strip()).lower()\n",
    "    if name in journal_name_standard.keys():\n",
    "        return journal_name_standard[name]\n",
    "    else:\n",
    "        return name"
   ]
  },
  {
   "cell_type": "code",
   "execution_count": 75,
   "metadata": {},
   "outputs": [],
   "source": [
    "name_issn = {unidecode.unidecode(name.strip()).lower() : issn for issn, name in issn_journal.items()}"
   ]
  },
  {
   "cell_type": "code",
   "execution_count": 76,
   "metadata": {},
   "outputs": [],
   "source": [
    "name_vols = {name: issn_vol_iss[issn] for name, issn in name_issn.items() if issn in issn_vol_iss}"
   ]
  },
  {
   "cell_type": "code",
   "execution_count": 77,
   "metadata": {},
   "outputs": [],
   "source": [
    "name_vols = {name : {vol for vol, iss in vols} for name, vols in name_vols.items()} #extract only vols"
   ]
  },
  {
   "cell_type": "markdown",
   "metadata": {},
   "source": [
    "Extract the relevant volumes from the journals"
   ]
  },
  {
   "cell_type": "code",
   "execution_count": 78,
   "metadata": {},
   "outputs": [
    {
     "name": "stdout",
     "output_type": "stream",
     "text": [
      "southwestern naturalist\n"
     ]
    }
   ],
   "source": [
    "journals_relevant_volumes = defaultdict(list)\n",
    "for name, index in cleaned_groups.items():\n",
    "    if name in name_vols:\n",
    "        working_set = data.loc[index]\n",
    "        rel_vols = name_vols[name]\n",
    "        for index, row in working_set.iterrows():\n",
    "            if row[\"journalVolume\"] in rel_vols:\n",
    "                journals_relevant_volumes[name].append(row)\n",
    "    else:\n",
    "        print(name)\n",
    "    "
   ]
  },
  {
   "cell_type": "code",
   "execution_count": 136,
   "metadata": {},
   "outputs": [],
   "source": [
    "journals_relevant_volumes = {key:val for key, val in journals_relevant_volumes.items() if len(val)>0}"
   ]
  },
  {
   "cell_type": "code",
   "execution_count": 103,
   "metadata": {},
   "outputs": [],
   "source": [
    "for journal, data in journals_relevant_volumes.items():\n",
    "    journals_relevant_volumes[journal] = [dat.to_dict() for dat in data]"
   ]
  },
  {
   "cell_type": "code",
   "execution_count": 105,
   "metadata": {},
   "outputs": [],
   "source": [
    "with open(\"negative_data_from_relevant_volumes_unclean.json\", \"w\") as f:\n",
    "    json.dump(journals_relevant_volumes, f)"
   ]
  },
  {
   "cell_type": "markdown",
   "metadata": {},
   "source": [
    "Now we will erase all positive samples in the negative data we created"
   ]
  },
  {
   "cell_type": "code",
   "execution_count": 106,
   "metadata": {},
   "outputs": [],
   "source": [
    "with open(\"positive_samples_v2_170221_corrected_journals_removed_tags\") as f:\n",
    "    positive_samples = pd.read_json(f)"
   ]
  },
  {
   "cell_type": "code",
   "execution_count": 115,
   "metadata": {},
   "outputs": [],
   "source": [
    "positive_samples.loc[:,\"journal_name\"] = positive_samples[\"journal_name\"].apply(standardise_journal_name)"
   ]
  },
  {
   "cell_type": "code",
   "execution_count": 121,
   "metadata": {},
   "outputs": [],
   "source": [
    "pos_samples_grby_name = positive_samples.groupby(\"journal_name\")"
   ]
  },
  {
   "cell_type": "code",
   "execution_count": 122,
   "metadata": {},
   "outputs": [],
   "source": [
    "pos_samples_name_groups = pos_samples_grby_name.groups"
   ]
  },
  {
   "cell_type": "code",
   "execution_count": 154,
   "metadata": {},
   "outputs": [],
   "source": [
    "cnt = 0\n",
    "for name, indices in pos_samples_name_groups.items():\n",
    "    if name==\"\":\n",
    "        continue\n",
    "    \n",
    "    to_modify = journals_relevant_volumes.get(name, None)\n",
    "    if to_modify is None: #Volumes are not given in description\n",
    "        continue\n",
    "    \n",
    "    to_delete_from_df = positive_samples.loc[indices, \"doi\"].apply(lambda s: s.strip().lower() if s is not None else None)\n",
    "    df_modify = pd.DataFrame(to_modify)\n",
    "    to_modify = df_modify.loc[:, \"doi\"].apply(lambda s: s.strip().lower())\n",
    "    \n",
    "    dois_to_delete = set(to_delete_from_df)\n",
    "    ind_to_delete = to_modify.isin(dois_to_delete)\n",
    "    cnt = cnt + sum(ind_to_delete)\n",
    "    journals_relevant_volumes[name] = df_modify.loc[ind_to_delete==False]    "
   ]
  },
  {
   "cell_type": "markdown",
   "metadata": {},
   "source": [
    "Now the data no longer contains obvious positives!"
   ]
  },
  {
   "cell_type": "code",
   "execution_count": 159,
   "metadata": {},
   "outputs": [],
   "source": [
    "journals_relevant_volumes = {name : val.to_dict() for name, val in journals_relevant_volumes.items()}"
   ]
  },
  {
   "cell_type": "code",
   "execution_count": 160,
   "metadata": {},
   "outputs": [],
   "source": [
    "with open(\"negative_data_from_relevant_volumes_no_obv_positives.json\", \"w\") as f:\n",
    "    json.dump(journals_relevant_volumes, f)"
   ]
  },
  {
   "cell_type": "markdown",
   "metadata": {},
   "source": [
    "Now we want to ensure that the ratio of sampling is alright "
   ]
  },
  {
   "cell_type": "code",
   "execution_count": 164,
   "metadata": {},
   "outputs": [
    {
     "data": {
      "text/html": [
       "<div>\n",
       "<style scoped>\n",
       "    .dataframe tbody tr th:only-of-type {\n",
       "        vertical-align: middle;\n",
       "    }\n",
       "\n",
       "    .dataframe tbody tr th {\n",
       "        vertical-align: top;\n",
       "    }\n",
       "\n",
       "    .dataframe thead th {\n",
       "        text-align: right;\n",
       "    }\n",
       "</style>\n",
       "<table border=\"1\" class=\"dataframe\">\n",
       "  <thead>\n",
       "    <tr style=\"text-align: right;\">\n",
       "      <th></th>\n",
       "      <th>title</th>\n",
       "      <th>authors</th>\n",
       "      <th>doi</th>\n",
       "      <th>publication_date</th>\n",
       "      <th>abstract</th>\n",
       "      <th>repo_identifier</th>\n",
       "      <th>language</th>\n",
       "      <th>publisher</th>\n",
       "      <th>journal_volume</th>\n",
       "      <th>journal_issue</th>\n",
       "      <th>issn</th>\n",
       "      <th>url</th>\n",
       "      <th>index</th>\n",
       "      <th>abstract_origin</th>\n",
       "      <th>topic_classification</th>\n",
       "    </tr>\n",
       "    <tr>\n",
       "      <th>journal_name</th>\n",
       "      <th></th>\n",
       "      <th></th>\n",
       "      <th></th>\n",
       "      <th></th>\n",
       "      <th></th>\n",
       "      <th></th>\n",
       "      <th></th>\n",
       "      <th></th>\n",
       "      <th></th>\n",
       "      <th></th>\n",
       "      <th></th>\n",
       "      <th></th>\n",
       "      <th></th>\n",
       "      <th></th>\n",
       "      <th></th>\n",
       "    </tr>\n",
       "  </thead>\n",
       "  <tbody>\n",
       "    <tr>\n",
       "      <th></th>\n",
       "      <td>1603</td>\n",
       "      <td>1603</td>\n",
       "      <td>1198</td>\n",
       "      <td>1603</td>\n",
       "      <td>1399</td>\n",
       "      <td>1603</td>\n",
       "      <td>1603</td>\n",
       "      <td>1473</td>\n",
       "      <td>1603</td>\n",
       "      <td>1603</td>\n",
       "      <td>1603</td>\n",
       "      <td>1603</td>\n",
       "      <td>1603</td>\n",
       "      <td>1603</td>\n",
       "      <td>1603</td>\n",
       "    </tr>\n",
       "    <tr>\n",
       "      <th>acta agriculturae scandinavica, section b - plant soil science</th>\n",
       "      <td>1</td>\n",
       "      <td>1</td>\n",
       "      <td>1</td>\n",
       "      <td>1</td>\n",
       "      <td>1</td>\n",
       "      <td>1</td>\n",
       "      <td>1</td>\n",
       "      <td>1</td>\n",
       "      <td>1</td>\n",
       "      <td>1</td>\n",
       "      <td>1</td>\n",
       "      <td>1</td>\n",
       "      <td>1</td>\n",
       "      <td>1</td>\n",
       "      <td>1</td>\n",
       "    </tr>\n",
       "    <tr>\n",
       "      <th>acta chiropterologica</th>\n",
       "      <td>12</td>\n",
       "      <td>12</td>\n",
       "      <td>12</td>\n",
       "      <td>12</td>\n",
       "      <td>12</td>\n",
       "      <td>12</td>\n",
       "      <td>12</td>\n",
       "      <td>12</td>\n",
       "      <td>12</td>\n",
       "      <td>12</td>\n",
       "      <td>12</td>\n",
       "      <td>12</td>\n",
       "      <td>12</td>\n",
       "      <td>12</td>\n",
       "      <td>12</td>\n",
       "    </tr>\n",
       "    <tr>\n",
       "      <th>acta horticulturae</th>\n",
       "      <td>2</td>\n",
       "      <td>2</td>\n",
       "      <td>2</td>\n",
       "      <td>2</td>\n",
       "      <td>2</td>\n",
       "      <td>2</td>\n",
       "      <td>2</td>\n",
       "      <td>2</td>\n",
       "      <td>0</td>\n",
       "      <td>2</td>\n",
       "      <td>2</td>\n",
       "      <td>2</td>\n",
       "      <td>2</td>\n",
       "      <td>2</td>\n",
       "      <td>2</td>\n",
       "    </tr>\n",
       "    <tr>\n",
       "      <th>acta oecologica</th>\n",
       "      <td>11</td>\n",
       "      <td>11</td>\n",
       "      <td>11</td>\n",
       "      <td>11</td>\n",
       "      <td>11</td>\n",
       "      <td>11</td>\n",
       "      <td>11</td>\n",
       "      <td>11</td>\n",
       "      <td>11</td>\n",
       "      <td>8</td>\n",
       "      <td>11</td>\n",
       "      <td>11</td>\n",
       "      <td>11</td>\n",
       "      <td>11</td>\n",
       "      <td>11</td>\n",
       "    </tr>\n",
       "    <tr>\n",
       "      <th>...</th>\n",
       "      <td>...</td>\n",
       "      <td>...</td>\n",
       "      <td>...</td>\n",
       "      <td>...</td>\n",
       "      <td>...</td>\n",
       "      <td>...</td>\n",
       "      <td>...</td>\n",
       "      <td>...</td>\n",
       "      <td>...</td>\n",
       "      <td>...</td>\n",
       "      <td>...</td>\n",
       "      <td>...</td>\n",
       "      <td>...</td>\n",
       "      <td>...</td>\n",
       "      <td>...</td>\n",
       "    </tr>\n",
       "    <tr>\n",
       "      <th>wildlife biology</th>\n",
       "      <td>10</td>\n",
       "      <td>10</td>\n",
       "      <td>10</td>\n",
       "      <td>10</td>\n",
       "      <td>10</td>\n",
       "      <td>10</td>\n",
       "      <td>10</td>\n",
       "      <td>10</td>\n",
       "      <td>10</td>\n",
       "      <td>10</td>\n",
       "      <td>10</td>\n",
       "      <td>10</td>\n",
       "      <td>10</td>\n",
       "      <td>10</td>\n",
       "      <td>10</td>\n",
       "    </tr>\n",
       "    <tr>\n",
       "      <th>wildlife research</th>\n",
       "      <td>79</td>\n",
       "      <td>79</td>\n",
       "      <td>79</td>\n",
       "      <td>79</td>\n",
       "      <td>78</td>\n",
       "      <td>79</td>\n",
       "      <td>79</td>\n",
       "      <td>79</td>\n",
       "      <td>79</td>\n",
       "      <td>79</td>\n",
       "      <td>79</td>\n",
       "      <td>79</td>\n",
       "      <td>79</td>\n",
       "      <td>79</td>\n",
       "      <td>79</td>\n",
       "    </tr>\n",
       "    <tr>\n",
       "      <th>wildlife society bulletin</th>\n",
       "      <td>114</td>\n",
       "      <td>114</td>\n",
       "      <td>114</td>\n",
       "      <td>113</td>\n",
       "      <td>114</td>\n",
       "      <td>114</td>\n",
       "      <td>114</td>\n",
       "      <td>114</td>\n",
       "      <td>112</td>\n",
       "      <td>112</td>\n",
       "      <td>114</td>\n",
       "      <td>113</td>\n",
       "      <td>114</td>\n",
       "      <td>114</td>\n",
       "      <td>114</td>\n",
       "    </tr>\n",
       "    <tr>\n",
       "      <th>zoo biology</th>\n",
       "      <td>685</td>\n",
       "      <td>685</td>\n",
       "      <td>685</td>\n",
       "      <td>669</td>\n",
       "      <td>685</td>\n",
       "      <td>685</td>\n",
       "      <td>685</td>\n",
       "      <td>685</td>\n",
       "      <td>657</td>\n",
       "      <td>657</td>\n",
       "      <td>685</td>\n",
       "      <td>669</td>\n",
       "      <td>685</td>\n",
       "      <td>685</td>\n",
       "      <td>685</td>\n",
       "    </tr>\n",
       "    <tr>\n",
       "      <th>zoological science</th>\n",
       "      <td>1</td>\n",
       "      <td>1</td>\n",
       "      <td>1</td>\n",
       "      <td>0</td>\n",
       "      <td>1</td>\n",
       "      <td>1</td>\n",
       "      <td>1</td>\n",
       "      <td>1</td>\n",
       "      <td>0</td>\n",
       "      <td>0</td>\n",
       "      <td>1</td>\n",
       "      <td>0</td>\n",
       "      <td>1</td>\n",
       "      <td>1</td>\n",
       "      <td>1</td>\n",
       "    </tr>\n",
       "  </tbody>\n",
       "</table>\n",
       "<p>359 rows × 15 columns</p>\n",
       "</div>"
      ],
      "text/plain": [
       "                                                    title  authors   doi  \\\n",
       "journal_name                                                               \n",
       "                                                     1603     1603  1198   \n",
       "acta agriculturae scandinavica, section b - pla...      1        1     1   \n",
       "acta chiropterologica                                  12       12    12   \n",
       "acta horticulturae                                      2        2     2   \n",
       "acta oecologica                                        11       11    11   \n",
       "...                                                   ...      ...   ...   \n",
       "wildlife biology                                       10       10    10   \n",
       "wildlife research                                      79       79    79   \n",
       "wildlife society bulletin                             114      114   114   \n",
       "zoo biology                                           685      685   685   \n",
       "zoological science                                      1        1     1   \n",
       "\n",
       "                                                    publication_date  \\\n",
       "journal_name                                                           \n",
       "                                                                1603   \n",
       "acta agriculturae scandinavica, section b - pla...                 1   \n",
       "acta chiropterologica                                             12   \n",
       "acta horticulturae                                                 2   \n",
       "acta oecologica                                                   11   \n",
       "...                                                              ...   \n",
       "wildlife biology                                                  10   \n",
       "wildlife research                                                 79   \n",
       "wildlife society bulletin                                        113   \n",
       "zoo biology                                                      669   \n",
       "zoological science                                                 0   \n",
       "\n",
       "                                                    abstract  repo_identifier  \\\n",
       "journal_name                                                                    \n",
       "                                                        1399             1603   \n",
       "acta agriculturae scandinavica, section b - pla...         1                1   \n",
       "acta chiropterologica                                     12               12   \n",
       "acta horticulturae                                         2                2   \n",
       "acta oecologica                                           11               11   \n",
       "...                                                      ...              ...   \n",
       "wildlife biology                                          10               10   \n",
       "wildlife research                                         78               79   \n",
       "wildlife society bulletin                                114              114   \n",
       "zoo biology                                              685              685   \n",
       "zoological science                                         1                1   \n",
       "\n",
       "                                                    language  publisher  \\\n",
       "journal_name                                                              \n",
       "                                                        1603       1473   \n",
       "acta agriculturae scandinavica, section b - pla...         1          1   \n",
       "acta chiropterologica                                     12         12   \n",
       "acta horticulturae                                         2          2   \n",
       "acta oecologica                                           11         11   \n",
       "...                                                      ...        ...   \n",
       "wildlife biology                                          10         10   \n",
       "wildlife research                                         79         79   \n",
       "wildlife society bulletin                                114        114   \n",
       "zoo biology                                              685        685   \n",
       "zoological science                                         1          1   \n",
       "\n",
       "                                                    journal_volume  \\\n",
       "journal_name                                                         \n",
       "                                                              1603   \n",
       "acta agriculturae scandinavica, section b - pla...               1   \n",
       "acta chiropterologica                                           12   \n",
       "acta horticulturae                                               0   \n",
       "acta oecologica                                                 11   \n",
       "...                                                            ...   \n",
       "wildlife biology                                                10   \n",
       "wildlife research                                               79   \n",
       "wildlife society bulletin                                      112   \n",
       "zoo biology                                                    657   \n",
       "zoological science                                               0   \n",
       "\n",
       "                                                    journal_issue  issn   url  \\\n",
       "journal_name                                                                    \n",
       "                                                             1603  1603  1603   \n",
       "acta agriculturae scandinavica, section b - pla...              1     1     1   \n",
       "acta chiropterologica                                          12    12    12   \n",
       "acta horticulturae                                              2     2     2   \n",
       "acta oecologica                                                 8    11    11   \n",
       "...                                                           ...   ...   ...   \n",
       "wildlife biology                                               10    10    10   \n",
       "wildlife research                                              79    79    79   \n",
       "wildlife society bulletin                                     112   114   113   \n",
       "zoo biology                                                   657   685   669   \n",
       "zoological science                                              0     1     0   \n",
       "\n",
       "                                                    index  abstract_origin  \\\n",
       "journal_name                                                                 \n",
       "                                                     1603             1603   \n",
       "acta agriculturae scandinavica, section b - pla...      1                1   \n",
       "acta chiropterologica                                  12               12   \n",
       "acta horticulturae                                      2                2   \n",
       "acta oecologica                                        11               11   \n",
       "...                                                   ...              ...   \n",
       "wildlife biology                                       10               10   \n",
       "wildlife research                                      79               79   \n",
       "wildlife society bulletin                             114              114   \n",
       "zoo biology                                           685              685   \n",
       "zoological science                                      1                1   \n",
       "\n",
       "                                                    topic_classification  \n",
       "journal_name                                                              \n",
       "                                                                    1603  \n",
       "acta agriculturae scandinavica, section b - pla...                     1  \n",
       "acta chiropterologica                                                 12  \n",
       "acta horticulturae                                                     2  \n",
       "acta oecologica                                                       11  \n",
       "...                                                                  ...  \n",
       "wildlife biology                                                      10  \n",
       "wildlife research                                                     79  \n",
       "wildlife society bulletin                                            114  \n",
       "zoo biology                                                          685  \n",
       "zoological science                                                     1  \n",
       "\n",
       "[359 rows x 15 columns]"
      ]
     },
     "execution_count": 164,
     "metadata": {},
     "output_type": "execute_result"
    }
   ],
   "source": [
    "counts = pos_samples_grby_name.count()\n",
    "counts"
   ]
  },
  {
   "cell_type": "code",
   "execution_count": 170,
   "metadata": {},
   "outputs": [],
   "source": [
    "#counts = counts['title']\n",
    "counts = pd.DataFrame(counts)"
   ]
  },
  {
   "cell_type": "code",
   "execution_count": 174,
   "metadata": {},
   "outputs": [],
   "source": [
    "counts.rename(columns={\"title\" : \"counts\"}, inplace = True)"
   ]
  },
  {
   "cell_type": "code",
   "execution_count": 185,
   "metadata": {},
   "outputs": [],
   "source": [
    "counts = counts.sort_values(by=\"counts\", ascending=False)"
   ]
  },
  {
   "cell_type": "code",
   "execution_count": 187,
   "metadata": {},
   "outputs": [],
   "source": [
    "import matplotlib.pyplot as plt"
   ]
  },
  {
   "cell_type": "code",
   "execution_count": 197,
   "metadata": {},
   "outputs": [
    {
     "data": {
      "text/plain": [
       "[<matplotlib.lines.Line2D at 0x1caf0706608>]"
      ]
     },
     "execution_count": 197,
     "metadata": {},
     "output_type": "execute_result"
    },
    {
     "data": {
      "image/png": "[encoded data removed]",
      "text/plain": [
       "<Figure size 432x288 with 1 Axes>"
      ]
     },
     "metadata": {
      "needs_background": "light"
     },
     "output_type": "display_data"
    }
   ],
   "source": [
    "plt.plot(counts[\"counts\"][1:100])"
   ]
  },
  {
   "cell_type": "markdown",
   "metadata": {},
   "source": [
    "GET NOISE (RANDOM DATA)"
   ]
  },
  {
   "cell_type": "code",
   "execution_count": 214,
   "metadata": {},
   "outputs": [],
   "source": [
    "from pathlib import Path\n",
    "from multiprocess import Pool\n",
    "\n",
    "def get_noise_from_data(path):\n",
    "    import pandas as pd\n",
    "    from numpy import random\n",
    "    test_data =pd.read_json(path, compression=\"infer\", lines=True)\n",
    "    print(test_data.head(10))\n",
    "    subset = [\"title\", \"paperAbstract\", \"authors\", \"doi\", \"year\", \"journalName\", \"journalVolume\", \"journalPages\", \"fieldsOfStudy\"]\n",
    "    #test_data = test_data.loc[: , subset]\n",
    "    test_data = test_data.loc[(pd.isna(test_data[\"paperAbstract\"])==False) &\n",
    "                          (test_data[\"paperAbstract\"]!=\"\")].reset_index(drop=True)\n",
    "\n",
    "    return test_data.loc[random.choice(len(test_data), replace=False, size=50)]"
   ]
  },
  {
   "cell_type": "code",
   "execution_count": 221,
   "metadata": {},
   "outputs": [],
   "source": [
    "start=3000\n",
    "end=5999\n",
    "acc = []\n",
    "files = Path(\".\") / \"Data Dump\"\n",
    "to_process = list(files.iterdir())\n",
    "relevant = list(filter(lambda f: f.name.startswith(\"s2-corpus\"), files.iterdir()))[start:end]\n",
    "func = get_noise_from_data\n",
    "    \n",
    "with Pool() as pool:\n",
    "    acc = pool.map(func,relevant) "
   ]
  },
  {
   "cell_type": "code",
   "execution_count": 222,
   "metadata": {},
   "outputs": [],
   "source": [
    "noise_1 = pd.concat(acc, ignore_index=True)"
   ]
  },
  {
   "cell_type": "code",
   "execution_count": 223,
   "metadata": {},
   "outputs": [],
   "source": [
    "noise_1.to_json(\"random_data_3000_5999\")"
   ]
  },
  {
   "cell_type": "code",
   "execution_count": 225,
   "metadata": {},
   "outputs": [],
   "source": [
    "noise_2 = pd.read_json(\"random_data_0_3000\")"
   ]
  },
  {
   "cell_type": "code",
   "execution_count": 226,
   "metadata": {},
   "outputs": [],
   "source": [
    "random_samples = pd.concat([noise_1, noise_2])"
   ]
  },
  {
   "cell_type": "code",
   "execution_count": 228,
   "metadata": {},
   "outputs": [],
   "source": [
    "random_samples.reset_index(inplace=True, drop=True)"
   ]
  },
  {
   "cell_type": "code",
   "execution_count": 229,
   "metadata": {},
   "outputs": [],
   "source": [
    "random_samples.to_json(\"random_data\")"
   ]
  }
 ],
 "metadata": {
  "kernelspec": {
   "display_name": "Python 3",
   "language": "python",
   "name": "python3"
  },
  "language_info": {
   "codemirror_mode": {
    "name": "ipython",
    "version": 3
   },
   "file_extension": ".py",
   "mimetype": "text/x-python",
   "name": "python",
   "nbconvert_exporter": "python",
   "pygments_lexer": "ipython3",
   "version": "3.7.7"
  }
 },
 "nbformat": 4,
 "nbformat_minor": 4
}
