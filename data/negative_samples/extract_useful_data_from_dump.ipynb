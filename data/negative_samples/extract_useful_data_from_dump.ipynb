{
 "cells": [
  {
   "cell_type": "code",
   "execution_count": 60,
   "metadata": {},
   "outputs": [],
   "source": [
    "import pandas as pd\n",
    "from pathlib import Path\n",
    "import json"
   ]
  },
  {
   "cell_type": "markdown",
   "metadata": {},
   "source": [
    "Load data from disk"
   ]
  },
  {
   "cell_type": "code",
   "execution_count": 68,
   "metadata": {},
   "outputs": [],
   "source": [
    "test_data =pd.read_json(\"Data Dump/s2-corpus-000.gz\", compression=\"infer\", lines=True)"
   ]
  },
  {
   "cell_type": "code",
   "execution_count": 62,
   "metadata": {},
   "outputs": [],
   "source": [
    "subset = [\"title\", \"paperAbstract\", \"authors\", \"doi\", \"year\", \"journalName\", \"journalVolume\", \"journalPages\", \"fieldsOfStudy\"]"
   ]
  },
  {
   "cell_type": "code",
   "execution_count": 63,
   "metadata": {},
   "outputs": [],
   "source": [
    "test_data = test_data.loc[: , subset]"
   ]
  },
  {
   "cell_type": "code",
   "execution_count": 64,
   "metadata": {},
   "outputs": [],
   "source": [
    "test_data = test_data.loc[(pd.isna(test_data[\"paperAbstract\"])==False) &\n",
    "                          (test_data[\"paperAbstract\"]!=\"\")]"
   ]
  },
  {
   "cell_type": "code",
   "execution_count": 65,
   "metadata": {},
   "outputs": [],
   "source": [
    "test_data.loc[:,\"journal_name\"] = test_data[\"journalName\"]\n",
    "test_data.loc[:,\"journalName\"] = test_data[\"journalName\"].apply(lambda f: f.strip().lower())"
   ]
  },
  {
   "cell_type": "code",
   "execution_count": 8,
   "metadata": {
    "scrolled": true
   },
   "outputs": [],
   "source": [
    "test_data = test_data.set_index(keys=\"journalName\", drop=True)"
   ]
  },
  {
   "cell_type": "markdown",
   "metadata": {},
   "source": [
    "### Prepare Journal Name Set"
   ]
  },
  {
   "cell_type": "code",
   "execution_count": 9,
   "metadata": {},
   "outputs": [],
   "source": [
    "journalpath = Path(r\"C:\\Users\\Markus\\Documents\\Cambridge_Projects\\GroupProject\\conservation_synthesis\\data\\issn_journal_map.json\")\n",
    "standardNamePath = Path(r\"C:\\Users\\Markus\\Documents\\Cambridge_Projects\\GroupProject\\conservation_synthesis\\data\\journal_name_to_standard.json\")"
   ]
  },
  {
   "cell_type": "code",
   "execution_count": 10,
   "metadata": {},
   "outputs": [],
   "source": [
    "with journalpath.open(\"rb\") as f:\n",
    "    journals = json.load(f)\n",
    "with standardNamePath.open(\"rb\") as f:\n",
    "    standardName = json.load(f)"
   ]
  },
  {
   "cell_type": "code",
   "execution_count": 11,
   "metadata": {},
   "outputs": [],
   "source": [
    "all_names = set(journals.values()) | set(standardName.keys())"
   ]
  },
  {
   "cell_type": "code",
   "execution_count": 12,
   "metadata": {},
   "outputs": [],
   "source": [
    "import unidecode"
   ]
  },
  {
   "cell_type": "code",
   "execution_count": 13,
   "metadata": {},
   "outputs": [],
   "source": [
    "all_names_standardised = [unidecode.unidecode(name.strip()).lower() for name in all_names]\n",
    "all_names_standardised.append(\"australian ecology\")\n",
    "all_names_standardised.append('acta agriculturae scandinavica')"
   ]
  },
  {
   "cell_type": "code",
   "execution_count": 14,
   "metadata": {},
   "outputs": [],
   "source": [
    "import re\n",
    "the_pattern = re.compile(\"^\\s*the\\s*(.*)\", flags=re.IGNORECASE)"
   ]
  },
  {
   "cell_type": "code",
   "execution_count": 15,
   "metadata": {},
   "outputs": [],
   "source": [
    "more_names = []\n",
    "for name in all_names_standardised:\n",
    "    match = the_pattern.search(name)\n",
    "    if match is not None:\n",
    "        more_names.append(match.group(1))"
   ]
  },
  {
   "cell_type": "code",
   "execution_count": 16,
   "metadata": {},
   "outputs": [],
   "source": [
    "all_names_standardised.extend(more_names)"
   ]
  },
  {
   "cell_type": "code",
   "execution_count": 17,
   "metadata": {},
   "outputs": [],
   "source": [
    "all_names_set = set(all_names_standardised)"
   ]
  },
  {
   "cell_type": "markdown",
   "metadata": {},
   "source": [
    "### Get all working indices"
   ]
  },
  {
   "cell_type": "code",
   "execution_count": 18,
   "metadata": {},
   "outputs": [],
   "source": [
    "indices_to_query = all_names_set & set(test_data.index)"
   ]
  },
  {
   "cell_type": "code",
   "execution_count": 19,
   "metadata": {
    "scrolled": true
   },
   "outputs": [
    {
     "data": {
      "text/html": [
       "<div>\n",
       "<style scoped>\n",
       "    .dataframe tbody tr th:only-of-type {\n",
       "        vertical-align: middle;\n",
       "    }\n",
       "\n",
       "    .dataframe tbody tr th {\n",
       "        vertical-align: top;\n",
       "    }\n",
       "\n",
       "    .dataframe thead th {\n",
       "        text-align: right;\n",
       "    }\n",
       "</style>\n",
       "<table border=\"1\" class=\"dataframe\">\n",
       "  <thead>\n",
       "    <tr style=\"text-align: right;\">\n",
       "      <th></th>\n",
       "      <th>title</th>\n",
       "      <th>paperAbstract</th>\n",
       "      <th>authors</th>\n",
       "      <th>doi</th>\n",
       "      <th>year</th>\n",
       "      <th>journalVolume</th>\n",
       "      <th>journalPages</th>\n",
       "      <th>fieldsOfStudy</th>\n",
       "      <th>journal_name</th>\n",
       "    </tr>\n",
       "    <tr>\n",
       "      <th>journalName</th>\n",
       "      <th></th>\n",
       "      <th></th>\n",
       "      <th></th>\n",
       "      <th></th>\n",
       "      <th></th>\n",
       "      <th></th>\n",
       "      <th></th>\n",
       "      <th></th>\n",
       "      <th></th>\n",
       "    </tr>\n",
       "  </thead>\n",
       "  <tbody>\n",
       "    <tr>\n",
       "      <th>international journal of tropical insect science</th>\n",
       "      <td>Influence of Maize, Cowpea and Sorghum Intercr...</td>\n",
       "      <td>The paper which covers a two season study from...</td>\n",
       "      <td>[{'name': 'B.  Amoako-Atta', 'ids': ['14363179...</td>\n",
       "      <td>10.1017/S1742758400004021</td>\n",
       "      <td>1983.0</td>\n",
       "      <td>4</td>\n",
       "      <td>47-57</td>\n",
       "      <td>[Biology]</td>\n",
       "      <td>International Journal of Tropical Insect Science</td>\n",
       "    </tr>\n",
       "    <tr>\n",
       "      <th>weed research</th>\n",
       "      <td>Spatial distribution of weeds in arable crops:...</td>\n",
       "      <td>This paper reviews the literature concerning t...</td>\n",
       "      <td>[{'name': 'Lisa J. Rew', 'ids': ['2549851']}, ...</td>\n",
       "      <td>10.1046/J.1365-3180.2001.00215.X</td>\n",
       "      <td>2001.0</td>\n",
       "      <td>41</td>\n",
       "      <td>1-18</td>\n",
       "      <td>[Computer Science]</td>\n",
       "      <td>Weed Research</td>\n",
       "    </tr>\n",
       "    <tr>\n",
       "      <th>the journal of animal ecology</th>\n",
       "      <td>Early life learning ability predicts adult soc...</td>\n",
       "      <td>Social environments influence important ecolog...</td>\n",
       "      <td>[{'name': 'Ellis J G Langley', 'ids': ['836577...</td>\n",
       "      <td>10.1111/1365-2656.13194</td>\n",
       "      <td>2020.0</td>\n",
       "      <td></td>\n",
       "      <td></td>\n",
       "      <td>[Psychology, Medicine]</td>\n",
       "      <td>The Journal of animal ecology</td>\n",
       "    </tr>\n",
       "    <tr>\n",
       "      <th>hydrobiologia</th>\n",
       "      <td>Oligochaetes from six tropical crater lakes in...</td>\n",
       "      <td>The assemblage of littoral oligochaetes in six...</td>\n",
       "      <td>[{'name': 'Laura  Peralta', 'ids': ['145552933...</td>\n",
       "      <td>10.1007/978-94-010-0415-2_9</td>\n",
       "      <td>2002.0</td>\n",
       "      <td>467</td>\n",
       "      <td>109-116</td>\n",
       "      <td>[Biology]</td>\n",
       "      <td>Hydrobiologia</td>\n",
       "    </tr>\n",
       "    <tr>\n",
       "      <th>hydrobiologia</th>\n",
       "      <td>Landscape responses to wetland eutrophication:...</td>\n",
       "      <td>Much of the historical Everglades has been eit...</td>\n",
       "      <td>[{'name': 'Paul V.  McCormick', 'ids': ['15255...</td>\n",
       "      <td>10.1007/s10750-008-9635-2</td>\n",
       "      <td>2008.0</td>\n",
       "      <td>621</td>\n",
       "      <td>105-114</td>\n",
       "      <td>[Environmental Science]</td>\n",
       "      <td>Hydrobiologia</td>\n",
       "    </tr>\n",
       "    <tr>\n",
       "      <th>...</th>\n",
       "      <td>...</td>\n",
       "      <td>...</td>\n",
       "      <td>...</td>\n",
       "      <td>...</td>\n",
       "      <td>...</td>\n",
       "      <td>...</td>\n",
       "      <td>...</td>\n",
       "      <td>...</td>\n",
       "      <td>...</td>\n",
       "    </tr>\n",
       "    <tr>\n",
       "      <th>plant disease</th>\n",
       "      <td>Development of Phytophthora Fruit Rot Caused b...</td>\n",
       "      <td>Watermelon is an important crop grown in 44 st...</td>\n",
       "      <td>[{'name': 'Chandrasekar S Kousik', 'ids': ['35...</td>\n",
       "      <td>10.1094/PDIS-06-17-0898-RE</td>\n",
       "      <td>2018.0</td>\n",
       "      <td>102 2</td>\n",
       "      <td>\\n          370-374\\n</td>\n",
       "      <td>[Biology, Medicine]</td>\n",
       "      <td>Plant disease</td>\n",
       "    </tr>\n",
       "    <tr>\n",
       "      <th>west african journal of applied ecology</th>\n",
       "      <td>Use of Corn Cob and Rice Husk Biochar as Limin...</td>\n",
       "      <td>Most soils in Ghana are acid with those of the...</td>\n",
       "      <td>[{'name': 'E. Frimpong Manso', 'ids': ['418548...</td>\n",
       "      <td></td>\n",
       "      <td>2019.0</td>\n",
       "      <td>27</td>\n",
       "      <td>32-50</td>\n",
       "      <td>[Chemistry]</td>\n",
       "      <td>West African Journal of Applied Ecology</td>\n",
       "    </tr>\n",
       "    <tr>\n",
       "      <th>aquacultural engineering</th>\n",
       "      <td>Energy use in Recirculating Aquaculture System...</td>\n",
       "      <td>Abstract Recirculating aquaculture systems (RA...</td>\n",
       "      <td>[{'name': 'Maddi  Badiola', 'ids': ['89678734'...</td>\n",
       "      <td>10.1016/J.AQUAENG.2018.03.003</td>\n",
       "      <td>2018.0</td>\n",
       "      <td>81</td>\n",
       "      <td>57-70</td>\n",
       "      <td>[Environmental Science]</td>\n",
       "      <td>Aquacultural Engineering</td>\n",
       "    </tr>\n",
       "    <tr>\n",
       "      <th>invasive plant science and management</th>\n",
       "      <td>Role of nitrogen and herbicides in integrated ...</td>\n",
       "      <td>Abstract Mugwort (Artemisia vulgaris L.) is be...</td>\n",
       "      <td>[{'name': 'Jatinder S. Aulakh', 'ids': ['14670...</td>\n",
       "      <td>10.1017/inp.2020.19</td>\n",
       "      <td>2020.0</td>\n",
       "      <td>13</td>\n",
       "      <td>189 - 198</td>\n",
       "      <td>[Biology]</td>\n",
       "      <td>Invasive Plant Science and Management</td>\n",
       "    </tr>\n",
       "    <tr>\n",
       "      <th>insect conservation and diversity</th>\n",
       "      <td>Trade‐offs in arthropod conservation between p...</td>\n",
       "      <td>Productive and non‐productive agri‐environment...</td>\n",
       "      <td>[{'name': 'Viktoria  Mader', 'ids': ['3855230'...</td>\n",
       "      <td>10.1111/icad.12220</td>\n",
       "      <td>2017.0</td>\n",
       "      <td>10</td>\n",
       "      <td></td>\n",
       "      <td>[Biology]</td>\n",
       "      <td>Insect Conservation and Diversity</td>\n",
       "    </tr>\n",
       "  </tbody>\n",
       "</table>\n",
       "<p>240 rows × 9 columns</p>\n",
       "</div>"
      ],
      "text/plain": [
       "                                                                                              title  \\\n",
       "journalName                                                                                           \n",
       "international journal of tropical insect science  Influence of Maize, Cowpea and Sorghum Intercr...   \n",
       "weed research                                     Spatial distribution of weeds in arable crops:...   \n",
       "the journal of animal ecology                     Early life learning ability predicts adult soc...   \n",
       "hydrobiologia                                     Oligochaetes from six tropical crater lakes in...   \n",
       "hydrobiologia                                     Landscape responses to wetland eutrophication:...   \n",
       "...                                                                                             ...   \n",
       "plant disease                                     Development of Phytophthora Fruit Rot Caused b...   \n",
       "west african journal of applied ecology           Use of Corn Cob and Rice Husk Biochar as Limin...   \n",
       "aquacultural engineering                          Energy use in Recirculating Aquaculture System...   \n",
       "invasive plant science and management             Role of nitrogen and herbicides in integrated ...   \n",
       "insect conservation and diversity                 Trade‐offs in arthropod conservation between p...   \n",
       "\n",
       "                                                                                      paperAbstract  \\\n",
       "journalName                                                                                           \n",
       "international journal of tropical insect science  The paper which covers a two season study from...   \n",
       "weed research                                     This paper reviews the literature concerning t...   \n",
       "the journal of animal ecology                     Social environments influence important ecolog...   \n",
       "hydrobiologia                                     The assemblage of littoral oligochaetes in six...   \n",
       "hydrobiologia                                     Much of the historical Everglades has been eit...   \n",
       "...                                                                                             ...   \n",
       "plant disease                                     Watermelon is an important crop grown in 44 st...   \n",
       "west african journal of applied ecology           Most soils in Ghana are acid with those of the...   \n",
       "aquacultural engineering                          Abstract Recirculating aquaculture systems (RA...   \n",
       "invasive plant science and management             Abstract Mugwort (Artemisia vulgaris L.) is be...   \n",
       "insect conservation and diversity                 Productive and non‐productive agri‐environment...   \n",
       "\n",
       "                                                                                            authors  \\\n",
       "journalName                                                                                           \n",
       "international journal of tropical insect science  [{'name': 'B.  Amoako-Atta', 'ids': ['14363179...   \n",
       "weed research                                     [{'name': 'Lisa J. Rew', 'ids': ['2549851']}, ...   \n",
       "the journal of animal ecology                     [{'name': 'Ellis J G Langley', 'ids': ['836577...   \n",
       "hydrobiologia                                     [{'name': 'Laura  Peralta', 'ids': ['145552933...   \n",
       "hydrobiologia                                     [{'name': 'Paul V.  McCormick', 'ids': ['15255...   \n",
       "...                                                                                             ...   \n",
       "plant disease                                     [{'name': 'Chandrasekar S Kousik', 'ids': ['35...   \n",
       "west african journal of applied ecology           [{'name': 'E. Frimpong Manso', 'ids': ['418548...   \n",
       "aquacultural engineering                          [{'name': 'Maddi  Badiola', 'ids': ['89678734'...   \n",
       "invasive plant science and management             [{'name': 'Jatinder S. Aulakh', 'ids': ['14670...   \n",
       "insect conservation and diversity                 [{'name': 'Viktoria  Mader', 'ids': ['3855230'...   \n",
       "\n",
       "                                                                               doi  \\\n",
       "journalName                                                                          \n",
       "international journal of tropical insect science         10.1017/S1742758400004021   \n",
       "weed research                                     10.1046/J.1365-3180.2001.00215.X   \n",
       "the journal of animal ecology                              10.1111/1365-2656.13194   \n",
       "hydrobiologia                                          10.1007/978-94-010-0415-2_9   \n",
       "hydrobiologia                                            10.1007/s10750-008-9635-2   \n",
       "...                                                                            ...   \n",
       "plant disease                                           10.1094/PDIS-06-17-0898-RE   \n",
       "west african journal of applied ecology                                              \n",
       "aquacultural engineering                             10.1016/J.AQUAENG.2018.03.003   \n",
       "invasive plant science and management                          10.1017/inp.2020.19   \n",
       "insect conservation and diversity                               10.1111/icad.12220   \n",
       "\n",
       "                                                    year journalVolume  \\\n",
       "journalName                                                              \n",
       "international journal of tropical insect science  1983.0             4   \n",
       "weed research                                     2001.0            41   \n",
       "the journal of animal ecology                     2020.0                 \n",
       "hydrobiologia                                     2002.0           467   \n",
       "hydrobiologia                                     2008.0           621   \n",
       "...                                                  ...           ...   \n",
       "plant disease                                     2018.0         102 2   \n",
       "west african journal of applied ecology           2019.0            27   \n",
       "aquacultural engineering                          2018.0            81   \n",
       "invasive plant science and management             2020.0            13   \n",
       "insect conservation and diversity                 2017.0            10   \n",
       "\n",
       "                                                                   journalPages  \\\n",
       "journalName                                                                       \n",
       "international journal of tropical insect science                          47-57   \n",
       "weed research                                                              1-18   \n",
       "the journal of animal ecology                                                     \n",
       "hydrobiologia                                                           109-116   \n",
       "hydrobiologia                                                           105-114   \n",
       "...                                                                         ...   \n",
       "plant disease                                     \\n          370-374\\n           \n",
       "west african journal of applied ecology                                   32-50   \n",
       "aquacultural engineering                                                  57-70   \n",
       "invasive plant science and management                                 189 - 198   \n",
       "insect conservation and diversity                                                 \n",
       "\n",
       "                                                            fieldsOfStudy  \\\n",
       "journalName                                                                 \n",
       "international journal of tropical insect science                [Biology]   \n",
       "weed research                                          [Computer Science]   \n",
       "the journal of animal ecology                      [Psychology, Medicine]   \n",
       "hydrobiologia                                                   [Biology]   \n",
       "hydrobiologia                                     [Environmental Science]   \n",
       "...                                                                   ...   \n",
       "plant disease                                         [Biology, Medicine]   \n",
       "west african journal of applied ecology                       [Chemistry]   \n",
       "aquacultural engineering                          [Environmental Science]   \n",
       "invasive plant science and management                           [Biology]   \n",
       "insect conservation and diversity                               [Biology]   \n",
       "\n",
       "                                                                                      journal_name  \n",
       "journalName                                                                                         \n",
       "international journal of tropical insect science  International Journal of Tropical Insect Science  \n",
       "weed research                                                                        Weed Research  \n",
       "the journal of animal ecology                                        The Journal of animal ecology  \n",
       "hydrobiologia                                                                        Hydrobiologia  \n",
       "hydrobiologia                                                                        Hydrobiologia  \n",
       "...                                                                                            ...  \n",
       "plant disease                                                                        Plant disease  \n",
       "west african journal of applied ecology                    West African Journal of Applied Ecology  \n",
       "aquacultural engineering                                                  Aquacultural Engineering  \n",
       "invasive plant science and management                        Invasive Plant Science and Management  \n",
       "insect conservation and diversity                                Insect Conservation and Diversity  \n",
       "\n",
       "[240 rows x 9 columns]"
      ]
     },
     "execution_count": 19,
     "metadata": {},
     "output_type": "execute_result"
    }
   ],
   "source": [
    "test_data.loc[indices_to_query]"
   ]
  },
  {
   "cell_type": "markdown",
   "metadata": {},
   "source": [
    "### MAKE IT FAST"
   ]
  },
  {
   "cell_type": "code",
   "execution_count": 20,
   "metadata": {},
   "outputs": [],
   "source": [
    "#!pip install multiprocess -- to work with ipython"
   ]
  },
  {
   "cell_type": "code",
   "execution_count": 23,
   "metadata": {},
   "outputs": [],
   "source": [
    "from multiprocess import Pool\n",
    "import functools\n",
    "\n",
    "def get_relevant_data(relevant_journal_names, filepath):\n",
    "    import pandas as pd\n",
    "    test_data =pd.read_json(filepath, compression=\"infer\", lines=True)\n",
    "    subset = [\"title\", \"paperAbstract\", \"authors\", \"doi\", \"year\", \"journalName\", \"journalVolume\", \"journalPages\", \"fieldsOfStudy\"]\n",
    "    test_data = test_data.loc[: , subset]\n",
    "    test_data = test_data.loc[(pd.isna(test_data[\"paperAbstract\"])==False) &\n",
    "                          (test_data[\"paperAbstract\"]!=\"\")]\n",
    "    test_data.loc[:,\"journal_name\"] = test_data[\"journalName\"]\n",
    "    test_data.loc[:,\"journalName\"] = test_data[\"journalName\"].apply(lambda f: f.strip().lower())\n",
    "    test_data = test_data.set_index(keys=\"journalName\", drop=True)\n",
    "    indices_to_query = relevant_journal_names & set(test_data.index)\n",
    "    return test_data.loc[indices_to_query]"
   ]
  },
  {
   "cell_type": "code",
   "execution_count": null,
   "metadata": {},
   "outputs": [],
   "source": [
    "start=4500\n",
    "end=5999\n",
    "files = Path(\".\") / \"Data Dump\"\n",
    "to_process = list(files.iterdir())\n",
    "relevant = list(filter(lambda f: f.name.startswith(\"s2-corpus\"), files.iterdir()))[start:end]\n",
    "func = functools.partial(get_relevant_data, all_names_set)\n",
    "    \n",
    "with Pool() as pool:\n",
    "    acc = pool.map(func,relevant)"
   ]
  },
  {
   "cell_type": "code",
   "execution_count": 51,
   "metadata": {},
   "outputs": [
    {
     "data": {
      "text/plain": [
       "468580"
      ]
     },
     "execution_count": 51,
     "metadata": {},
     "output_type": "execute_result"
    }
   ],
   "source": [
    "len(pd.concat(acc))"
   ]
  },
  {
   "cell_type": "code",
   "execution_count": null,
   "metadata": {},
   "outputs": [],
   "source": [
    "to_save = pd.concat(acc)"
   ]
  },
  {
   "cell_type": "code",
   "execution_count": null,
   "metadata": {},
   "outputs": [],
   "source": [
    "to_save.reset_index(drop=True, inplace=True)"
   ]
  },
  {
   "cell_type": "code",
   "execution_count": 52,
   "metadata": {},
   "outputs": [],
   "source": [
    "del acc\n",
    "del to_save"
   ]
  },
  {
   "cell_type": "code",
   "execution_count": null,
   "metadata": {},
   "outputs": [],
   "source": [
    "to_save.to_json(f\"data_from_4500_to_5999\")"
   ]
  }
 ],
 "metadata": {
  "kernelspec": {
   "display_name": "Python 3",
   "language": "python",
   "name": "python3"
  },
  "language_info": {
   "codemirror_mode": {
    "name": "ipython",
    "version": 3
   },
   "file_extension": ".py",
   "mimetype": "text/x-python",
   "name": "python",
   "nbconvert_exporter": "python",
   "pygments_lexer": "ipython3",
   "version": "3.7.7"
  }
 },
 "nbformat": 4,
 "nbformat_minor": 4
}
