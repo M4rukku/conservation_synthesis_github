{
 "cells": [
  {
   "cell_type": "code",
   "execution_count": 1,
   "id": "official-effect",
   "metadata": {},
   "outputs": [],
   "source": [
    "from pathlib import Path\n",
    "\n",
    "path_merged = Path('.') / \"merged\" / \"merged_data\"\n",
    "path_wiley = Path('.') / \"merged\" / \"wiley_scraped_data\"\n",
    "path_scraped = Path('.') / \"merged\" / \"scraped_data\"\n",
    "path_infuklim = Path('.') / \"merged\" / \"infuklim_scraped_data\"\n",
    "path_oxf = Path('.') / \"merged\" / \"oxf_scraped_data\"\n",
    "\n",
    "scraped_paths = [path_infuklim, path_oxf, path_scraped, path_wiley]\n",
    "\n",
    "path_target = Path(\".\") / \"data_with_abstracts_v1\""
   ]
  },
  {
   "cell_type": "markdown",
   "id": "accepted-season",
   "metadata": {},
   "source": [
    "### Clean Scraped Data"
   ]
  },
  {
   "cell_type": "code",
   "execution_count": 2,
   "id": "deluxe-checkout",
   "metadata": {},
   "outputs": [],
   "source": [
    "import pandas as pd\n",
    "\n",
    "scraped_dfs = []\n",
    "for path in scraped_paths:\n",
    "    with open(path, \"r\") as f:\n",
    "        scraped_dfs.append(pd.read_json(f))"
   ]
  },
  {
   "cell_type": "code",
   "execution_count": 3,
   "id": "further-thousand",
   "metadata": {},
   "outputs": [],
   "source": [
    "#Combine\n",
    "\n",
    "combined_scraped_data = pd.concat(scraped_dfs, ignore_index=True)"
   ]
  },
  {
   "cell_type": "code",
   "execution_count": 4,
   "id": "controlling-newsletter",
   "metadata": {},
   "outputs": [],
   "source": [
    "#Remove all abstracts that remained unchanged\n",
    "combined_scraped_data = combined_scraped_data.loc[pd.isna(combined_scraped_data[\"abstract\"])==False]"
   ]
  },
  {
   "cell_type": "code",
   "execution_count": 5,
   "id": "everyday-philadelphia",
   "metadata": {},
   "outputs": [
    {
     "data": {
      "text/plain": [
       "0       Capsule Clutches of hole-nesting passerines su...\n",
       "1       1 \\nCorridors provide important structural con...\n",
       "2       1. We suggest that two important hypotheses un...\n",
       "3       1 \\nThe capercaillie Tetrao urogallus and blac...\n",
       "4       The maned sloth is a poorly known species ende...\n",
       "                              ...                        \n",
       "5152    Cutting and removal of oil-impacted marsh plan...\n",
       "5539    Abstract  Fish sanctuaries are types of aquati...\n",
       "5550    In regulated rivers, canalization and reduced ...\n",
       "5555    Abstract  Floodplain borrow pits created durin...\n",
       "5580    Road escape ramps are structures developed in ...\n",
       "Name: abstract, Length: 4340, dtype: object"
      ]
     },
     "execution_count": 5,
     "metadata": {},
     "output_type": "execute_result"
    }
   ],
   "source": [
    "combined_scraped_data[\"abstract\"]"
   ]
  },
  {
   "cell_type": "code",
   "execution_count": 6,
   "id": "likely-owner",
   "metadata": {},
   "outputs": [],
   "source": [
    "import re\n",
    "pattern = re.compile(\"^\\s*Abstract\\s*\")"
   ]
  },
  {
   "cell_type": "code",
   "execution_count": 7,
   "id": "funny-ballot",
   "metadata": {},
   "outputs": [],
   "source": [
    "combined_scraped_data.loc[:, \"abstract\"] = combined_scraped_data.loc[:, \"abstract\"].apply(lambda x: pattern.sub(\"\", x))"
   ]
  },
  {
   "cell_type": "code",
   "execution_count": 12,
   "id": "palestinian-discipline",
   "metadata": {},
   "outputs": [],
   "source": [
    "# Add Tag Column (Scraped)\n",
    "combined_scraped_data[\"abstract_origin\"] = \"scraped\""
   ]
  },
  {
   "cell_type": "markdown",
   "id": "unexpected-symbol",
   "metadata": {},
   "source": [
    "Get data from repos"
   ]
  },
  {
   "cell_type": "code",
   "execution_count": 14,
   "id": "closed-calendar",
   "metadata": {
    "scrolled": true
   },
   "outputs": [],
   "source": [
    "with path_merged.open(\"r\") as f:\n",
    "    merged_repo_data = pd.read_json(f)"
   ]
  },
  {
   "cell_type": "code",
   "execution_count": 15,
   "id": "round-hunter",
   "metadata": {},
   "outputs": [],
   "source": [
    "merged_repo_data[\"abstract_origin\"] = \"repo\""
   ]
  },
  {
   "cell_type": "code",
   "execution_count": 24,
   "id": "lesbian-warrant",
   "metadata": {},
   "outputs": [],
   "source": [
    "all_data = pd.concat([combined_scraped_data, merged_repo_data]).sort_values(by=\"index\")"
   ]
  },
  {
   "cell_type": "code",
   "execution_count": 26,
   "id": "rubber-cleanup",
   "metadata": {},
   "outputs": [],
   "source": [
    "cols = set(all_data.columns) - set([\"authors\"])\n",
    "all_data.drop_duplicates(subset=cols, inplace=True, ignore_index=True)"
   ]
  },
  {
   "cell_type": "code",
   "execution_count": 48,
   "id": "shared-retrieval",
   "metadata": {
    "scrolled": true
   },
   "outputs": [],
   "source": [
    "cleaned_data = []\n",
    "cnt=0\n",
    "\n",
    "def merge_rows(rows):\n",
    "    rows = [row.to_dict() for row in rows]\n",
    "    row1 = rows[0]\n",
    "    row2 = rows[1]\n",
    "    if not pd.isna(row1['abstract']):\n",
    "        return row1\n",
    "    elif not pd.isna(row2['abstract']):\n",
    "        return row2\n",
    "    else:\n",
    "        return row1"
   ]
  },
  {
   "cell_type": "code",
   "execution_count": 46,
   "id": "excess-industry",
   "metadata": {},
   "outputs": [],
   "source": [
    "grouped = all_data.groupby(by=\"index\")"
   ]
  },
  {
   "cell_type": "code",
   "execution_count": 49,
   "id": "generic-glasgow",
   "metadata": {},
   "outputs": [],
   "source": [
    "total = []\n",
    "for key, lsInd in grouped.groups.items():\n",
    "    to_merge = [all_data.loc[ind] for ind in lsInd]\n",
    "    total.append(to_merge[0].to_dict() if len(to_merge)==1 else merge_rows(to_merge))"
   ]
  },
  {
   "cell_type": "markdown",
   "id": "endless-advice",
   "metadata": {},
   "source": [
    "Clean Data"
   ]
  },
  {
   "cell_type": "code",
   "execution_count": 50,
   "id": "dense-vintage",
   "metadata": {},
   "outputs": [],
   "source": [
    "combined_dedup_data = pd.DataFrame(total) "
   ]
  },
  {
   "cell_type": "code",
   "execution_count": 52,
   "id": "mounted-sucking",
   "metadata": {},
   "outputs": [
    {
     "data": {
      "text/plain": [
       "17384"
      ]
     },
     "execution_count": 52,
     "metadata": {},
     "output_type": "execute_result"
    }
   ],
   "source": [
    "sum(pd.isna(combined_dedup_data[\"abstract\"])==False)"
   ]
  },
  {
   "cell_type": "code",
   "execution_count": 63,
   "id": "brilliant-designer",
   "metadata": {
    "scrolled": true
   },
   "outputs": [
    {
     "data": {
      "text/html": [
       "<div>\n",
       "<style scoped>\n",
       "    .dataframe tbody tr th:only-of-type {\n",
       "        vertical-align: middle;\n",
       "    }\n",
       "\n",
       "    .dataframe tbody tr th {\n",
       "        vertical-align: top;\n",
       "    }\n",
       "\n",
       "    .dataframe thead th {\n",
       "        text-align: right;\n",
       "    }\n",
       "</style>\n",
       "<table border=\"1\" class=\"dataframe\">\n",
       "  <thead>\n",
       "    <tr style=\"text-align: right;\">\n",
       "      <th></th>\n",
       "      <th>title</th>\n",
       "      <th>authors</th>\n",
       "      <th>doi</th>\n",
       "      <th>publication_date</th>\n",
       "      <th>abstract</th>\n",
       "      <th>repo_identifier</th>\n",
       "      <th>language</th>\n",
       "      <th>publisher</th>\n",
       "      <th>journal_name</th>\n",
       "      <th>journal_volume</th>\n",
       "      <th>journal_issue</th>\n",
       "      <th>issn</th>\n",
       "      <th>url</th>\n",
       "      <th>index</th>\n",
       "      <th>abstract_origin</th>\n",
       "    </tr>\n",
       "  </thead>\n",
       "  <tbody>\n",
       "    <tr>\n",
       "      <th>0</th>\n",
       "      <td>The Management of Grass Pastures for Brent Geese</td>\n",
       "      <td>[J. A.Vickery, W. J.Sutherland, S. J.Lane]</td>\n",
       "      <td>10.2307/2404543</td>\n",
       "      <td>1994-5</td>\n",
       "      <td>An increasing number of brent geese now feed i...</td>\n",
       "      <td>crossref</td>\n",
       "      <td>EN</td>\n",
       "      <td>JSTOR</td>\n",
       "      <td>The Journal of Applied Ecology</td>\n",
       "      <td>31</td>\n",
       "      <td>2</td>\n",
       "      <td>0021-8901</td>\n",
       "      <td>http://dx.doi.org/10.2307/2404543</td>\n",
       "      <td>0</td>\n",
       "      <td>repo</td>\n",
       "    </tr>\n",
       "    <tr>\n",
       "      <th>1</th>\n",
       "      <td>Control of Molinia caerulea on upland moors</td>\n",
       "      <td>[R. H.Marrs, J. D. P.Phillips, P. A.Todd, J.Gh...</td>\n",
       "      <td>10.1111/j.0021-8901.2004.00901.x</td>\n",
       "      <td>2004-4</td>\n",
       "      <td>Summary 1 Molinia encroachment has been viewed...</td>\n",
       "      <td>crossref</td>\n",
       "      <td>EN</td>\n",
       "      <td>Wiley</td>\n",
       "      <td>Journal of Applied Ecology</td>\n",
       "      <td>41</td>\n",
       "      <td>2</td>\n",
       "      <td>0021-8901</td>\n",
       "      <td>http://dx.doi.org/10.1111/j.0021-8901.2004.009...</td>\n",
       "      <td>2</td>\n",
       "      <td>repo</td>\n",
       "    </tr>\n",
       "    <tr>\n",
       "      <th>2</th>\n",
       "      <td>Long-distance relocation of nestboxes reduces ...</td>\n",
       "      <td>[AlbertoSorace, FabrizioPetrassi, CarloConsiglio]</td>\n",
       "      <td>10.1080/00063650409461343</td>\n",
       "      <td>2004-7</td>\n",
       "      <td>Capsule Clutches of hole-nesting passerines su...</td>\n",
       "      <td>crossref</td>\n",
       "      <td>EN</td>\n",
       "      <td>Informa UK Limited</td>\n",
       "      <td>None</td>\n",
       "      <td>51</td>\n",
       "      <td>2</td>\n",
       "      <td>0006-3657</td>\n",
       "      <td>http://dx.doi.org/10.1080/00063650409461343</td>\n",
       "      <td>3</td>\n",
       "      <td>scraped</td>\n",
       "    </tr>\n",
       "    <tr>\n",
       "      <th>3</th>\n",
       "      <td>Reducing the density of breeding gulls influen...</td>\n",
       "      <td>[S. K.Finney, M. P.Harris, L. F.Keller, D. A.E...</td>\n",
       "      <td>10.1046/j.1365-2664.2003.00810.x</td>\n",
       "      <td>2003-6</td>\n",
       "      <td>Summary 1 By acting as both competitors and pr...</td>\n",
       "      <td>crossref</td>\n",
       "      <td>EN</td>\n",
       "      <td>Wiley</td>\n",
       "      <td></td>\n",
       "      <td>40</td>\n",
       "      <td>3</td>\n",
       "      <td>0021-8901</td>\n",
       "      <td>http://dx.doi.org/10.1046/j.1365-2664.2003.008...</td>\n",
       "      <td>4</td>\n",
       "      <td>repo</td>\n",
       "    </tr>\n",
       "    <tr>\n",
       "      <th>4</th>\n",
       "      <td>Elements that promote highway crossing structu...</td>\n",
       "      <td>[WayneMcDonald, Colleen CassadySt Clair]</td>\n",
       "      <td>10.1111/j.1365-2664.2004.00877.x</td>\n",
       "      <td>2004-2-12</td>\n",
       "      <td>1 \\nCorridors provide important structural con...</td>\n",
       "      <td>crossref</td>\n",
       "      <td>EN</td>\n",
       "      <td>Wiley</td>\n",
       "      <td>None</td>\n",
       "      <td>41</td>\n",
       "      <td>1</td>\n",
       "      <td>0021-8901</td>\n",
       "      <td>http://dx.doi.org/10.1111/j.1365-2664.2004.008...</td>\n",
       "      <td>5</td>\n",
       "      <td>scraped</td>\n",
       "    </tr>\n",
       "    <tr>\n",
       "      <th>...</th>\n",
       "      <td>...</td>\n",
       "      <td>...</td>\n",
       "      <td>...</td>\n",
       "      <td>...</td>\n",
       "      <td>...</td>\n",
       "      <td>...</td>\n",
       "      <td>...</td>\n",
       "      <td>...</td>\n",
       "      <td>...</td>\n",
       "      <td>...</td>\n",
       "      <td>...</td>\n",
       "      <td>...</td>\n",
       "      <td>...</td>\n",
       "      <td>...</td>\n",
       "      <td>...</td>\n",
       "    </tr>\n",
       "    <tr>\n",
       "      <th>18188</th>\n",
       "      <td>Historical peat loss explains limited short-te...</td>\n",
       "      <td>[Jennifer Williamson, David Norris, Chris D. E...</td>\n",
       "      <td>10.1016/j.jenvman.2016.12.018</td>\n",
       "      <td>2017-3</td>\n",
       "      <td>Abstract This study assessed the short-term im...</td>\n",
       "      <td>openaire</td>\n",
       "      <td>EN</td>\n",
       "      <td>Elsevier BV</td>\n",
       "      <td>Journal of Environmental Management</td>\n",
       "      <td>188</td>\n",
       "      <td></td>\n",
       "      <td>0301-4797</td>\n",
       "      <td>http://dx.doi.org/10.1016/j.jenvman.2016.12.018</td>\n",
       "      <td>20893</td>\n",
       "      <td>repo</td>\n",
       "    </tr>\n",
       "    <tr>\n",
       "      <th>18189</th>\n",
       "      <td>Wood chip soil amendments in restored wetlands...</td>\n",
       "      <td>[Evan C.Wolf, EliškaRejmánková, David J.Cooper]</td>\n",
       "      <td>10.1111/rec.12942</td>\n",
       "      <td>2019-4-2</td>\n",
       "      <td>Adding chipped wood to soil ameliorates compac...</td>\n",
       "      <td>crossref</td>\n",
       "      <td>EN</td>\n",
       "      <td>Wiley</td>\n",
       "      <td>None</td>\n",
       "      <td>27</td>\n",
       "      <td>5</td>\n",
       "      <td>1061-2971</td>\n",
       "      <td>http://dx.doi.org/10.1111/rec.12942</td>\n",
       "      <td>20894</td>\n",
       "      <td>scraped</td>\n",
       "    </tr>\n",
       "    <tr>\n",
       "      <th>18190</th>\n",
       "      <td>Is the cutting of oil contaminated marshes an ...</td>\n",
       "      <td>[André L.T.O.Wolinski, Paulo C.Lana, LeonardoS...</td>\n",
       "      <td>10.1016/j.marpolbul.2011.03.024</td>\n",
       "      <td>2011-6</td>\n",
       "      <td>Cutting and removal of oil-impacted marsh plan...</td>\n",
       "      <td>crossref</td>\n",
       "      <td>EN</td>\n",
       "      <td>Elsevier BV</td>\n",
       "      <td>None</td>\n",
       "      <td>62</td>\n",
       "      <td>6</td>\n",
       "      <td>0025-326X</td>\n",
       "      <td>http://dx.doi.org/10.1016/j.marpolbul.2011.03.024</td>\n",
       "      <td>20895</td>\n",
       "      <td>scraped</td>\n",
       "    </tr>\n",
       "    <tr>\n",
       "      <th>18191</th>\n",
       "      <td>Restoration of inland brackish vegetation by l...</td>\n",
       "      <td>[MinekeWolters, Saskiade Vries, Wim A.Ozinga, ...</td>\n",
       "      <td>10.1111/avsc.12323</td>\n",
       "      <td>2017-8-20</td>\n",
       "      <td>Question Does large-scale transfer of coastal ...</td>\n",
       "      <td>crossref</td>\n",
       "      <td>EN</td>\n",
       "      <td>Wiley</td>\n",
       "      <td>Applied Vegetation Science</td>\n",
       "      <td>20</td>\n",
       "      <td>4</td>\n",
       "      <td>1402-2001</td>\n",
       "      <td>http://dx.doi.org/10.1111/avsc.12323</td>\n",
       "      <td>20896</td>\n",
       "      <td>repo</td>\n",
       "    </tr>\n",
       "    <tr>\n",
       "      <th>18192</th>\n",
       "      <td>Seed arrival and persistence at the tidal mudf...</td>\n",
       "      <td>[ZZhu, TJBouma, TYsebaert, LZhang, PMJHerman]</td>\n",
       "      <td>10.3354/meps10920</td>\n",
       "      <td>2014-10-22</td>\n",
       "      <td>Salt marshes are highly valuable ecosystems th...</td>\n",
       "      <td>crossref</td>\n",
       "      <td>EN</td>\n",
       "      <td>Inter-Research Science Center</td>\n",
       "      <td></td>\n",
       "      <td>513</td>\n",
       "      <td></td>\n",
       "      <td>0171-8630</td>\n",
       "      <td>http://dx.doi.org/10.3354/meps10920</td>\n",
       "      <td>20898</td>\n",
       "      <td>repo</td>\n",
       "    </tr>\n",
       "  </tbody>\n",
       "</table>\n",
       "<p>18193 rows × 15 columns</p>\n",
       "</div>"
      ],
      "text/plain": [
       "                                                   title  \\\n",
       "0       The Management of Grass Pastures for Brent Geese   \n",
       "1            Control of Molinia caerulea on upland moors   \n",
       "2      Long-distance relocation of nestboxes reduces ...   \n",
       "3      Reducing the density of breeding gulls influen...   \n",
       "4      Elements that promote highway crossing structu...   \n",
       "...                                                  ...   \n",
       "18188  Historical peat loss explains limited short-te...   \n",
       "18189  Wood chip soil amendments in restored wetlands...   \n",
       "18190  Is the cutting of oil contaminated marshes an ...   \n",
       "18191  Restoration of inland brackish vegetation by l...   \n",
       "18192  Seed arrival and persistence at the tidal mudf...   \n",
       "\n",
       "                                                 authors  \\\n",
       "0             [J. A.Vickery, W. J.Sutherland, S. J.Lane]   \n",
       "1      [R. H.Marrs, J. D. P.Phillips, P. A.Todd, J.Gh...   \n",
       "2      [AlbertoSorace, FabrizioPetrassi, CarloConsiglio]   \n",
       "3      [S. K.Finney, M. P.Harris, L. F.Keller, D. A.E...   \n",
       "4               [WayneMcDonald, Colleen CassadySt Clair]   \n",
       "...                                                  ...   \n",
       "18188  [Jennifer Williamson, David Norris, Chris D. E...   \n",
       "18189    [Evan C.Wolf, EliškaRejmánková, David J.Cooper]   \n",
       "18190  [André L.T.O.Wolinski, Paulo C.Lana, LeonardoS...   \n",
       "18191  [MinekeWolters, Saskiade Vries, Wim A.Ozinga, ...   \n",
       "18192      [ZZhu, TJBouma, TYsebaert, LZhang, PMJHerman]   \n",
       "\n",
       "                                    doi publication_date  \\\n",
       "0                       10.2307/2404543           1994-5   \n",
       "1      10.1111/j.0021-8901.2004.00901.x           2004-4   \n",
       "2             10.1080/00063650409461343           2004-7   \n",
       "3      10.1046/j.1365-2664.2003.00810.x           2003-6   \n",
       "4      10.1111/j.1365-2664.2004.00877.x        2004-2-12   \n",
       "...                                 ...              ...   \n",
       "18188     10.1016/j.jenvman.2016.12.018           2017-3   \n",
       "18189                 10.1111/rec.12942         2019-4-2   \n",
       "18190   10.1016/j.marpolbul.2011.03.024           2011-6   \n",
       "18191                10.1111/avsc.12323        2017-8-20   \n",
       "18192                 10.3354/meps10920       2014-10-22   \n",
       "\n",
       "                                                abstract repo_identifier  \\\n",
       "0      An increasing number of brent geese now feed i...        crossref   \n",
       "1      Summary 1 Molinia encroachment has been viewed...        crossref   \n",
       "2      Capsule Clutches of hole-nesting passerines su...        crossref   \n",
       "3      Summary 1 By acting as both competitors and pr...        crossref   \n",
       "4      1 \\nCorridors provide important structural con...        crossref   \n",
       "...                                                  ...             ...   \n",
       "18188  Abstract This study assessed the short-term im...        openaire   \n",
       "18189  Adding chipped wood to soil ameliorates compac...        crossref   \n",
       "18190  Cutting and removal of oil-impacted marsh plan...        crossref   \n",
       "18191  Question Does large-scale transfer of coastal ...        crossref   \n",
       "18192  Salt marshes are highly valuable ecosystems th...        crossref   \n",
       "\n",
       "      language                      publisher  \\\n",
       "0           EN                          JSTOR   \n",
       "1           EN                          Wiley   \n",
       "2           EN             Informa UK Limited   \n",
       "3           EN                          Wiley   \n",
       "4           EN                          Wiley   \n",
       "...        ...                            ...   \n",
       "18188       EN                    Elsevier BV   \n",
       "18189       EN                          Wiley   \n",
       "18190       EN                    Elsevier BV   \n",
       "18191       EN                          Wiley   \n",
       "18192       EN  Inter-Research Science Center   \n",
       "\n",
       "                              journal_name journal_volume journal_issue  \\\n",
       "0           The Journal of Applied Ecology             31             2   \n",
       "1               Journal of Applied Ecology             41             2   \n",
       "2                                     None             51             2   \n",
       "3                                                      40             3   \n",
       "4                                     None             41             1   \n",
       "...                                    ...            ...           ...   \n",
       "18188  Journal of Environmental Management            188                 \n",
       "18189                                 None             27             5   \n",
       "18190                                 None             62             6   \n",
       "18191           Applied Vegetation Science             20             4   \n",
       "18192                                                 513                 \n",
       "\n",
       "            issn                                                url  index  \\\n",
       "0      0021-8901                  http://dx.doi.org/10.2307/2404543      0   \n",
       "1      0021-8901  http://dx.doi.org/10.1111/j.0021-8901.2004.009...      2   \n",
       "2      0006-3657        http://dx.doi.org/10.1080/00063650409461343      3   \n",
       "3      0021-8901  http://dx.doi.org/10.1046/j.1365-2664.2003.008...      4   \n",
       "4      0021-8901  http://dx.doi.org/10.1111/j.1365-2664.2004.008...      5   \n",
       "...          ...                                                ...    ...   \n",
       "18188  0301-4797    http://dx.doi.org/10.1016/j.jenvman.2016.12.018  20893   \n",
       "18189  1061-2971                http://dx.doi.org/10.1111/rec.12942  20894   \n",
       "18190  0025-326X  http://dx.doi.org/10.1016/j.marpolbul.2011.03.024  20895   \n",
       "18191  1402-2001               http://dx.doi.org/10.1111/avsc.12323  20896   \n",
       "18192  0171-8630                http://dx.doi.org/10.3354/meps10920  20898   \n",
       "\n",
       "      abstract_origin  \n",
       "0                repo  \n",
       "1                repo  \n",
       "2             scraped  \n",
       "3                repo  \n",
       "4             scraped  \n",
       "...               ...  \n",
       "18188            repo  \n",
       "18189         scraped  \n",
       "18190         scraped  \n",
       "18191            repo  \n",
       "18192            repo  \n",
       "\n",
       "[18193 rows x 15 columns]"
      ]
     },
     "execution_count": 63,
     "metadata": {},
     "output_type": "execute_result"
    }
   ],
   "source": [
    "combined_dedup_data"
   ]
  },
  {
   "cell_type": "markdown",
   "id": "received-prevention",
   "metadata": {},
   "source": [
    "### Remove leading Abstract / Summary things"
   ]
  },
  {
   "cell_type": "code",
   "execution_count": 56,
   "id": "opposite-battery",
   "metadata": {},
   "outputs": [],
   "source": [
    "import re\n",
    "pattern = re.compile(\"^\\s*Abstract\\s*|^\\s*Summary\\s*\")"
   ]
  },
  {
   "cell_type": "code",
   "execution_count": 64,
   "id": "aerial-notebook",
   "metadata": {},
   "outputs": [],
   "source": [
    "combined_data_w_abstracts = combined_dedup_data.loc[pd.isna(combined_dedup_data[\"abstract\"])==False]"
   ]
  },
  {
   "cell_type": "code",
   "execution_count": 65,
   "id": "initial-kidney",
   "metadata": {},
   "outputs": [],
   "source": [
    "combined_data_w_abstracts.reset_index(inplace=True, drop=True)"
   ]
  },
  {
   "cell_type": "markdown",
   "id": "protective-rebel",
   "metadata": {},
   "source": [
    "Delete all Abstract <250 characters long and clean text"
   ]
  },
  {
   "cell_type": "code",
   "execution_count": 77,
   "id": "duplicate-realtor",
   "metadata": {},
   "outputs": [],
   "source": [
    "from ftfy import fix_text"
   ]
  },
  {
   "cell_type": "code",
   "execution_count": 81,
   "id": "destroyed-reminder",
   "metadata": {},
   "outputs": [
    {
     "name": "stderr",
     "output_type": "stream",
     "text": [
      "C:\\ProgramData\\Anaconda3\\envs\\conservation_synthesis\\lib\\site-packages\\pandas\\core\\indexing.py:1720: SettingWithCopyWarning: \n",
      "A value is trying to be set on a copy of a slice from a DataFrame.\n",
      "Try using .loc[row_indexer,col_indexer] = value instead\n",
      "\n",
      "See the caveats in the documentation: https://pandas.pydata.org/pandas-docs/stable/user_guide/indexing.html#returning-a-view-versus-a-copy\n",
      "  self._setitem_single_column(loc, value, pi)\n"
     ]
    }
   ],
   "source": [
    "cnt = 0\n",
    "for ind, row in combined_data_w_abstracts.iterrows():\n",
    "    abst = row.to_dict()[\"abstract\"]\n",
    "    if len(abst)<250:\n",
    "        combined_data_w_abstracts.loc[ind, \"abstract\"] = None\n",
    "        combined_data_w_abstracts.loc[ind, \"abstract_origin\"] = \"invalid_repo\""
   ]
  },
  {
   "cell_type": "code",
   "execution_count": 84,
   "id": "herbal-christianity",
   "metadata": {},
   "outputs": [],
   "source": [
    "invalid_repo = combined_data_w_abstracts.loc[combined_data_w_abstracts['abstract_origin']==\"invalid_repo\"]"
   ]
  },
  {
   "cell_type": "markdown",
   "id": "connected-patio",
   "metadata": {},
   "source": [
    "USED WEBSCRAPING (slow_query for result) -- Find in abstractWebscraping.py"
   ]
  },
  {
   "cell_type": "code",
   "execution_count": 102,
   "id": "reverse-regard",
   "metadata": {},
   "outputs": [],
   "source": [
    "# result = slow_query(invalid_repo, 1.3)"
   ]
  },
  {
   "cell_type": "code",
   "execution_count": 110,
   "id": "civic-mathematics",
   "metadata": {
    "scrolled": true
   },
   "outputs": [
    {
     "name": "stderr",
     "output_type": "stream",
     "text": [
      "C:\\ProgramData\\Anaconda3\\envs\\conservation_synthesis\\lib\\site-packages\\pandas\\core\\indexing.py:1700: SettingWithCopyWarning: \n",
      "A value is trying to be set on a copy of a slice from a DataFrame.\n",
      "Try using .loc[row_indexer,col_indexer] = value instead\n",
      "\n",
      "See the caveats in the documentation: https://pandas.pydata.org/pandas-docs/stable/user_guide/indexing.html#returning-a-view-versus-a-copy\n",
      "  self._setitem_single_column(loc, v, pi)\n"
     ]
    }
   ],
   "source": [
    "for ind, row in result.iterrows():\n",
    "    combined_data_w_abstracts.loc[ind, :] = row"
   ]
  },
  {
   "cell_type": "markdown",
   "id": "north-oakland",
   "metadata": {},
   "source": [
    "Combined Data with abstracts!\n",
    "Clean all Abstracts!"
   ]
  },
  {
   "cell_type": "code",
   "execution_count": 118,
   "id": "competent-smith",
   "metadata": {},
   "outputs": [
    {
     "name": "stderr",
     "output_type": "stream",
     "text": [
      "C:\\ProgramData\\Anaconda3\\envs\\conservation_synthesis\\lib\\site-packages\\pandas\\core\\indexing.py:1720: SettingWithCopyWarning: \n",
      "A value is trying to be set on a copy of a slice from a DataFrame.\n",
      "Try using .loc[row_indexer,col_indexer] = value instead\n",
      "\n",
      "See the caveats in the documentation: https://pandas.pydata.org/pandas-docs/stable/user_guide/indexing.html#returning-a-view-versus-a-copy\n",
      "  self._setitem_single_column(loc, value, pi)\n"
     ]
    }
   ],
   "source": [
    "from ftfy import  fix_text\n",
    "for ind, row in combined_data_w_abstracts.iterrows():\n",
    "    combined_data_w_abstracts.loc[ind, \"title\"] = fix_text(row[\"title\"])\n",
    "    combined_data_w_abstracts.loc[ind, \"abstract\"] = fix_text(row[\"abstract\"]) if row['abstract'] is not None else None"
   ]
  },
  {
   "cell_type": "code",
   "execution_count": 119,
   "id": "italian-vegetable",
   "metadata": {},
   "outputs": [],
   "source": [
    "for ind, row in combined_dedup_data.loc[pd.isna(combined_dedup_data[\"abstract\"])==True].iterrows():\n",
    "    combined_dedup_data.loc[ind, \"title\"] = fix_text(combined_dedup_data.loc[ind, \"title\"])"
   ]
  },
  {
   "cell_type": "markdown",
   "id": "naked-pregnancy",
   "metadata": {},
   "source": [
    "Recombine them with the no abstracts from above!"
   ]
  },
  {
   "cell_type": "code",
   "execution_count": 120,
   "id": "literary-donna",
   "metadata": {},
   "outputs": [],
   "source": [
    "total_cleaned_data = pd.concat([combined_dedup_data.loc[pd.isna(combined_dedup_data[\"abstract\"])==True], combined_data_w_abstracts])"
   ]
  },
  {
   "cell_type": "code",
   "execution_count": 136,
   "id": "rocky-membership",
   "metadata": {
    "scrolled": true
   },
   "outputs": [],
   "source": [
    "total_cleaned_data = total_cleaned_data.sort_values(by=\"index\")"
   ]
  },
  {
   "cell_type": "code",
   "execution_count": 139,
   "id": "crazy-sellers",
   "metadata": {},
   "outputs": [],
   "source": [
    "total_cleaned_data[\"topic_classification\"] = None "
   ]
  },
  {
   "cell_type": "markdown",
   "id": "active-senate",
   "metadata": {},
   "source": [
    "Combine them with their classifiers"
   ]
  },
  {
   "cell_type": "code",
   "execution_count": 126,
   "id": "soviet-proposition",
   "metadata": {},
   "outputs": [],
   "source": [
    "cleaned_references = pd.read_csv(\"cleaned_references.csv\")"
   ]
  },
  {
   "cell_type": "code",
   "execution_count": 145,
   "id": "strategic-patio",
   "metadata": {},
   "outputs": [
    {
     "data": {
      "text/plain": [
       "index                                                         25\n",
       "item_type                                                journal\n",
       "pub_year                                                  2000.0\n",
       "authors                             Bokdam, J.; Gleichman, J. M.\n",
       "title          Effects of grazing by free-ranging cattle on v...\n",
       "pub_title                             Journal of Applied Ecology\n",
       "isbn                                                         NaN\n",
       "issn                                                         NaN\n",
       "doi                                                          NaN\n",
       "url                                                          NaN\n",
       "pages                                                    415-431\n",
       "issue                                                        NaN\n",
       "volume                                                        37\n",
       "data_source                                           CE_website\n",
       "topics                                                 Shrubland\n",
       "Name: 9, dtype: object"
      ]
     },
     "execution_count": 145,
     "metadata": {},
     "output_type": "execute_result"
    }
   ],
   "source": [
    "cleaned_references.loc[9]"
   ]
  },
  {
   "cell_type": "code",
   "execution_count": 141,
   "id": "satellite-daily",
   "metadata": {},
   "outputs": [],
   "source": [
    "for ind, row in total_cleaned_data.iterrows():\n",
    "    total_cleaned_data.loc[ind, \"topic_classification\"] = cleaned_references.loc[row[\"index\"],\"topics\"]"
   ]
  },
  {
   "cell_type": "code",
   "execution_count": 152,
   "id": "amber-liverpool",
   "metadata": {},
   "outputs": [],
   "source": [
    "total_cleaned_data.reset_index(drop=True, inplace=True)"
   ]
  },
  {
   "cell_type": "code",
   "execution_count": 153,
   "id": "martial-settle",
   "metadata": {},
   "outputs": [],
   "source": [
    "total_cleaned_data.to_json(\"positive_samples_v1_160221\")"
   ]
  },
  {
   "cell_type": "code",
   "execution_count": 154,
   "id": "declared-checklist",
   "metadata": {},
   "outputs": [],
   "source": [
    "total_cleaned_data.loc[pd.isna(total_cleaned_data[\"abstract\"])==False].to_json(\"positive_samples_only_with_abstract_v1_160221\")"
   ]
  }
 ],
 "metadata": {
  "kernelspec": {
   "display_name": "Python 3",
   "language": "python",
   "name": "python3"
  },
  "language_info": {
   "codemirror_mode": {
    "name": "ipython",
    "version": 3
   },
   "file_extension": ".py",
   "mimetype": "text/x-python",
   "name": "python",
   "nbconvert_exporter": "python",
   "pygments_lexer": "ipython3",
   "version": "3.7.9"
  }
 },
 "nbformat": 4,
 "nbformat_minor": 5
}
