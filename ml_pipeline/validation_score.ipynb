{
 "cells": [
  {
   "cell_type": "code",
   "execution_count": 1,
   "metadata": {
    "pycharm": {
     "name": "#%%\n"
    }
   },
   "outputs": [],
   "source": [
    "from pathlib import Path\n",
    "import pandas as pd"
   ]
  },
  {
   "cell_type": "markdown",
   "metadata": {},
   "source": [
    "## Load Data"
   ]
  },
  {
   "cell_type": "code",
   "execution_count": 2,
   "metadata": {
    "pycharm": {
     "name": "#%%\n"
    }
   },
   "outputs": [],
   "source": [
    "x_relevance_data_path = Path(\".\") / \"ml_data\" / \"x_relevance_data_v1.pd.json\"\n",
    "y_relevance_data_path = Path(\".\") / \"ml_data\" / \"y_relevance_data_v1.pd.json\"\n",
    "x_relevance_data = pd.read_json(x_relevance_data_path)\n",
    "y_relevance_data = pd.read_json(y_relevance_data_path)"
   ]
  },
  {
   "cell_type": "code",
   "execution_count": 3,
   "metadata": {
    "pycharm": {
     "name": "#%%\n"
    }
   },
   "outputs": [],
   "source": [
    "#split the data for training and testing\n",
    "train_size = 0.7\n",
    "df_train=pd.concat([x_relevance_data,y_relevance_data],axis=1)\n",
    "train_dataset=df_train.sample(frac=train_size,random_state=0).reset_index(drop=True)\n",
    "valid_dataset=df_train.drop(train_dataset.index).reset_index(drop=True)"
   ]
  },
  {
   "cell_type": "code",
   "execution_count": 4,
   "metadata": {},
   "outputs": [],
   "source": [
    "import os\n",
    "os.chdir(\"..\")#"
   ]
  },
  {
   "cell_type": "code",
   "execution_count": 17,
   "metadata": {
    "pycharm": {
     "name": "#%%\n"
    }
   },
   "outputs": [
    {
     "name": "stdout",
     "output_type": "stream",
     "text": [
      "Epoch 1\n",
      "Epoch 2\n",
      "Epoch 3\n",
      "Epoch 4\n"
     ]
    }
   ],
   "source": [
    "from sources.ml_model.ml_model import MlModelWrapper\n",
    "from sources.data_processing.queries import ArticleMetadata\n",
    "\n",
    "result = []\n",
    "cnt=0\n",
    "epoch = 0\n",
    "\n",
    "model = MlModelWrapper()\n",
    "for ind, row in valid_dataset.iterrows():\n",
    "    article = ArticleMetadata(title=row[\"title\"], doi=row[\"doi\"], abstract=row[\"abstract\"],\n",
    "                              journal_name=row[\"journal_name\"], authors=[\"bla\"], publication_date=row[\"publication_date\"],\n",
    "                              repo_identifier=\"testing\")\n",
    "    prediction, float_p = model.predict_article(article)\n",
    "    result.append((row[\"doi\"], float_p, prediction, row[\"relevance\"]))\n",
    "    \n",
    "    cnt += 1\n",
    "    if cnt > 10000:\n",
    "        cnt = 0\n",
    "        epoch += 1\n",
    "        print(f\"Epoch {epoch}\")\n"
   ]
  },
  {
   "cell_type": "code",
   "execution_count": 20,
   "metadata": {},
   "outputs": [],
   "source": [
    "for ind, row in enumerate(result):\n",
    "    nrow = row\n",
    "    nrow = (row[0], row[1], 1 if row[2] else 0, row[3])\n",
    "    result[ind] = nrow"
   ]
  },
  {
   "cell_type": "code",
   "execution_count": 25,
   "metadata": {},
   "outputs": [],
   "source": [
    "store = []\n",
    "for ind, row in enumerate(result):\n",
    "    nrow = row\n",
    "    nrow = (row[0], str(row[1]), 1 if row[2] else 0, row[3])\n",
    "    store.append(nrow)"
   ]
  },
  {
   "cell_type": "code",
   "execution_count": 26,
   "metadata": {},
   "outputs": [],
   "source": [
    "import json\n",
    "store_path = Path(\".\") / \"ml_pipeline\" / \"ml_data\" / \"validation_data_results.json\"\n",
    "with store_path.open(\"w\") as f:\n",
    "    json.dump(store, f)"
   ]
  },
  {
   "cell_type": "code",
   "execution_count": 3,
   "outputs": [],
   "source": [
    "import os\n",
    "os.chdir(\"..\")"
   ],
   "metadata": {
    "collapsed": false,
    "pycharm": {
     "name": "#%%\n"
    }
   }
  },
  {
   "cell_type": "code",
   "execution_count": 4,
   "outputs": [],
   "source": [
    "from pathlib import Path\n",
    "import json\n",
    "store_path = Path(\".\") / \"ml_pipeline\" / \"ml_data\" / \"validation_data_results.json\"\n",
    "with store_path.open(\"r\") as f:\n",
    "    store = json.load(f)"
   ],
   "metadata": {
    "collapsed": false,
    "pycharm": {
     "name": "#%%\n"
    }
   }
  },
  {
   "cell_type": "code",
   "execution_count": 6,
   "outputs": [],
   "source": [
    "result = []\n",
    "for row in store:\n",
    "    result.append((row[0], float(row[1]), row[2], row[3]))"
   ],
   "metadata": {
    "collapsed": false,
    "pycharm": {
     "name": "#%%\n"
    }
   }
  },
  {
   "cell_type": "code",
   "execution_count": 15,
   "metadata": {},
   "outputs": [],
   "source": [
    "y_true = [row[3] for row in result]\n",
    "y_pred = [row[1]>0.4 for row in result]"
   ]
  },
  {
   "cell_type": "code",
   "execution_count": 28,
   "metadata": {},
   "outputs": [],
   "source": [
    "true_pos = [row[3]==1 and row[2] == 1 for row in result] \n",
    "false_pos = [row[3]==0 and row[2] == 1 for row in result] \n",
    "true_neg = [row[3]==0 and row[2] == 0 for row in result] \n",
    "false_neg = [row[3]==1 and row[2] == 0 for row in result] "
   ]
  },
  {
   "cell_type": "code",
   "execution_count": 18,
   "metadata": {},
   "outputs": [
    {
     "data": {
      "text/plain": "<Figure size 432x288 with 2 Axes>",
      "image/png": "[encoded data removed]"
     },
     "metadata": {
      "needs_background": "light"
     },
     "output_type": "display_data"
    }
   ],
   "source": [
    "import matplotlib.pyplot as plt\n",
    "from sklearn.metrics import ConfusionMatrixDisplay\n",
    "from sklearn.metrics import *\n",
    "\n",
    "cm = confusion_matrix(y_true, y_pred, sample_weight=None,\n",
    "                    labels=None, normalize=\"all\")\n",
    "\n",
    "disp = ConfusionMatrixDisplay(confusion_matrix=cm,\n",
    "                              display_labels=None)\n",
    "\n",
    "# NOTE: Fill all variables here with default values of the plot_confusion_matrix\n",
    "disp = disp.plot(include_values=True, values_format= '.0%',\n",
    "                 cmap='viridis', ax=None, xticks_rotation='vertical')\n",
    "\n",
    "plt.savefig(\"confusion_matrix_cutoff_0-4_normalized_all.png\", dpi=600)"
   ]
  },
  {
   "cell_type": "code",
   "execution_count": 87,
   "metadata": {},
   "outputs": [
    {
     "name": "stdout",
     "output_type": "stream",
     "text": [
      "Recall Score is: 0.9166982203710715\n",
      "Precision Score is: 0.9008372093023256\n",
      "F1 Score is: 0.9086985080228956\n",
      "Balanced Accuracy is: 0.9521455207165072\n",
      "Cohen's Kappa Score is: 0.8973624555731513\n"
     ]
    }
   ],
   "source": [
    "print(f\"Recall Score is: {recall_score(y_true, y_pred)}\")\n",
    "print(f\"Precision Score is: {precision_score(y_true, y_pred)}\")\n",
    "print(f\"F1 Score is: {f1_score(y_true, y_pred)}\")\n",
    "print(f\"Balanced Accuracy is: {balanced_accuracy_score(y_true, y_pred)}\")\n",
    "print(f\"Cohen's Kappa Score is: {cohen_kappa_score(y_true, y_pred)}\")"
   ]
  }
 ],
 "metadata": {
  "kernelspec": {
   "display_name": "Python 3",
   "language": "python",
   "name": "python3"
  },
  "language_info": {
   "codemirror_mode": {
    "name": "ipython",
    "version": 3
   },
   "file_extension": ".py",
   "mimetype": "text/x-python",
   "name": "python",
   "nbconvert_exporter": "python",
   "pygments_lexer": "ipython3",
   "version": "3.8.5"
  }
 },
 "nbformat": 4,
 "nbformat_minor": 1
}