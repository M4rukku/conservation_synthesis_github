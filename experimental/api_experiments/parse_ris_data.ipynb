{
 "cells": [
  {
   "cell_type": "code",
   "execution_count": 1,
   "metadata": {
    "pycharm": {
     "is_executing": false
    }
   },
   "outputs": [],
   "source": [
    "import rispy\n",
    "import pandas"
   ]
  },
  {
   "cell_type": "code",
   "execution_count": 2,
   "metadata": {},
   "outputs": [
    {
     "name": "stdout",
     "output_type": "stream",
     "text": [
      "API_Metadata_Search_Experiment.ipynb\r\n",
      "API_Wiki_Info.md\r\n",
      "Complete_Studies_Data.ris\r\n",
      "curated_apis.md\r\n",
      "Multithreaded\\ -\\ DataProcessingArchitecture.pdf\r\n",
      "parse_ris_data.ipynb\r\n",
      "risfiles\r\n",
      "UnithreadedDataProcessingArchitecture.pdf\r\n"
     ]
    }
   ],
   "source": [
    "!dir"
   ]
  },
  {
   "cell_type": "code",
   "execution_count": 3,
   "metadata": {},
   "outputs": [],
   "source": [
    "\n",
    "with open(\"Complete_Studies_Data.ris\", \"r\", encoding='utf-8') as bibliography_file:\n",
    "    entries = rispy.load(bibliography_file)\n",
    "    arr = pandas.DataFrame(entries)"
   ]
  },
  {
   "cell_type": "code",
   "execution_count": 5,
   "metadata": {},
   "outputs": [
    {
     "data": {
      "text/plain": [
       "<bound method NDFrame.head of      type_of_reference                                              title  \\\n",
       "0                 CONF  A botanical survey of conservation headlands i...   \n",
       "1                 JOUR  A comparison of constructed and natural habita...   \n",
       "2                 JOUR  A comparison of the area extent of fish habita...   \n",
       "3                 JOUR  A critical evaluation of augmentative biologic...   \n",
       "4                 JOUR  A comparative test of mechanized and manual tr...   \n",
       "...                ...                                                ...   \n",
       "7184              JOUR  Wolf predation on cattle in Portugal: Assessin...   \n",
       "7185              JOUR  Will an artificial scent boundary prevent coyo...   \n",
       "7186              JOUR  Will harbour porpoises (Phocoena phocoena) hab...   \n",
       "7187              JOUR  Whale-watching trips in Peru lead to increases...   \n",
       "7188              RPRT           Whale watching: more than meets the eyes   \n",
       "\n",
       "        id                                   alternate_title3 start_page  \\\n",
       "0       42    The Brighton Crop Protection Conference – Weeds        979   \n",
       "1      190                            Biological Conservation         61   \n",
       "2      335                                          Fisheries         18   \n",
       "3      358                                 Biological Control        245   \n",
       "4      410                                Restoration Ecology        214   \n",
       "...    ...                                                ...        ...   \n",
       "7184  8131                            Biological Conservation      17-26   \n",
       "7185  8153                          Wildlife Society Bulletin    494-497   \n",
       "7186  8667        Journal of Cetacean Research and Management         81   \n",
       "7187  8676  Aquatic Conservation: Marine and Freshwater Ec...       1011   \n",
       "7188  8812                                                NaN        NaN   \n",
       "\n",
       "     end_page  year                                           keywords  \\\n",
       "0         984  1997  [conservation headland, Breckland, Environment...   \n",
       "1          71  2004  [Eastern Froglet, Crinia signifera, Spotted Gr...   \n",
       "2          25  2005                          [salmonid, trout, salmon]   \n",
       "3         256  2004                           [crop pests, pesticides]   \n",
       "4         219  2004  [eelgrass Zostera marina, seagrass Halodule wr...   \n",
       "...       ...   ...                                                ...   \n",
       "7184      NaN  2017                                                NaN   \n",
       "7185      NaN  2011                                                NaN   \n",
       "7186       86  2001                                                NaN   \n",
       "7187     1020  2017                                                NaN   \n",
       "7188      NaN  2013                                                NaN   \n",
       "\n",
       "     place_published       unknown_tag  \\\n",
       "0           Brighton    {'U1': ['42']}   \n",
       "1                NaN   {'U1': ['190']}   \n",
       "2                NaN   {'U1': ['335']}   \n",
       "3                NaN   {'U1': ['358']}   \n",
       "4                NaN   {'U1': ['410']}   \n",
       "...              ...               ...   \n",
       "7184             NaN  {'U1': ['8131']}   \n",
       "7185             NaN  {'U1': ['8153']}   \n",
       "7186             NaN  {'U1': ['8667']}   \n",
       "7187             NaN  {'U1': ['8676']}   \n",
       "7188             NaN  {'U1': ['8812']}   \n",
       "\n",
       "                                                authors volume  \\\n",
       "0     [Hodkinson, D.J., Critchley, C.N.R., Sherwood,...    NaN   \n",
       "1     [Hazell, D., Hero, J., Lindenmayer, D., Cunnin...    119   \n",
       "2                         [Harper, D.J., Quigley, J.T.]     30   \n",
       "3                       [Collier, T., Van Steenwyk, R.]     31   \n",
       "4     [Fishman, J.R., Orth, R.J., Marion, S., Bieri,...     12   \n",
       "...                                                 ...    ...   \n",
       "7184   [Pimenta, V., Barros, I., Boitani, L., Beja, P.]    207   \n",
       "7185   [Shivik, J.A., Wilson, R.R., Gilbert‐Norton, L.]     35   \n",
       "7186   [Cox, T.M., Read, A.J., Solow, A., Tregenza, N.]      3   \n",
       "7187              [García-Cegarra, A.M., Pacheco, A.S.]     27   \n",
       "7188        [Harms, M., Asmutis-Silvia, R., Rosner, A.]    NaN   \n",
       "\n",
       "                                                    url number issn  \\\n",
       "0                                                   NaN    NaN  NaN   \n",
       "1                                                   NaN    NaN  NaN   \n",
       "2                                                   NaN    NaN  NaN   \n",
       "3                                                   NaN    NaN  NaN   \n",
       "4                                                   NaN    NaN  NaN   \n",
       "...                                                 ...    ...  ...   \n",
       "7184       https://doi.org/10.1016/j.biocon.2017.01.008    NaN  NaN   \n",
       "7185  https://www.jstor.org/stable/wildsocibull2011....    NaN  NaN   \n",
       "7186  https://archive.iwc.int/pages/terms.php?ref=24...    NaN  NaN   \n",
       "7187                   https://doi.org/10.1002/aqc.2754    NaN  NaN   \n",
       "7188  https://whales.org/wp-content/uploads/2018/08/...    NaN  NaN   \n",
       "\n",
       "                                      publisher  \n",
       "0                                           NaN  \n",
       "1                                           NaN  \n",
       "2                                           NaN  \n",
       "3                                           NaN  \n",
       "4                                           NaN  \n",
       "...                                         ...  \n",
       "7184                                        NaN  \n",
       "7185                                        NaN  \n",
       "7186                                        NaN  \n",
       "7187                                        NaN  \n",
       "7188  NOAA’s Fisheries Northeast Region Program  \n",
       "\n",
       "[7189 rows x 16 columns]>"
      ]
     },
     "execution_count": 5,
     "metadata": {},
     "output_type": "execute_result"
    }
   ],
   "source": [
    "arr.to_csv(\"ris_data_in_csv_format.csv\")"
   ]
  },
  {
   "cell_type": "code",
   "execution_count": 6,
   "metadata": {},
   "outputs": [],
   "source": [
    "arr.to_csv(\"CE_ris_data.csv\")"
   ]
  },
  {
   "cell_type": "code",
   "execution_count": null,
   "metadata": {},
   "outputs": [],
   "source": []
  }
 ],
 "metadata": {
  "kernelspec": {
   "display_name": "Python 3",
   "language": "python",
   "name": "python3"
  },
  "language_info": {
   "codemirror_mode": {
    "name": "ipython",
    "version": 3
   },
   "file_extension": ".py",
   "mimetype": "text/x-python",
   "name": "python",
   "nbconvert_exporter": "python",
   "pygments_lexer": "ipython3",
   "version": "3.9.1"
  }
 },
 "nbformat": 4,
 "nbformat_minor": 1
}
