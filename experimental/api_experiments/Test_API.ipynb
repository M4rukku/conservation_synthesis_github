{
 "cells": [
  {
   "cell_type": "code",
   "execution_count": 2,
   "metadata": {},
   "outputs": [
    {
     "output_type": "execute_result",
     "data": {
      "text/plain": [
       "'c:\\\\Users\\\\Markus\\\\Documents\\\\Cambridge_Projects\\\\GroupProject\\\\conservation_synthesis'"
      ]
     },
     "metadata": {},
     "execution_count": 2
    }
   ],
   "source": [
    "import os\n",
    "os.chdir(\"../..\")\n",
    "%pwd"
   ]
  },
  {
   "cell_type": "code",
   "execution_count": 27,
   "metadata": {
    "pycharm": {
     "is_executing": false
    }
   },
   "outputs": [],
   "source": [
    "from sources.data_processing.repositories import CrossrefRepository, OpenAireRepository, CoreRepository\n",
    "from sources.data_processing.queries import ArticleMetadata, Response, KeywordQuery\n",
    "import pandas as pd\n",
    "import asyncio\n",
    "import aiohttp"
   ]
  },
  {
   "cell_type": "code",
   "execution_count": 30,
   "metadata": {},
   "outputs": [],
   "source": [
    "async def execute_something(repo, query):\n",
    "    async with aiohttp.ClientSession() as session:\n",
    "        search_body, search_params = repo._query_to_params(query)\n",
    "        r = await session.post(\n",
    "                repo.api_endpoint, data=search_body, params=search_params)\n",
    "        return r"
   ]
  },
  {
   "cell_type": "code",
   "execution_count": 6,
   "metadata": {},
   "outputs": [],
   "source": [
    "import requests\n",
    "response = requests.head(\"https://core.ac.uk:443/api-v2/articles/search\")"
   ]
  },
  {
   "cell_type": "code",
   "execution_count": null,
   "outputs": [],
   "source": [
    "query = KeywordQuery(\n",
    "            1,\n",
    "            authors=[\n",
    "                \"H. John\",\n",
    "                \"B. Birks\",\n",
    "            ],  # TODO Authors are wrongly formatted at some parts!\n",
    "            title=r\"Ecological palaeoecology and conservation biology: controversies, challenges, and compromises\",\n",
    "            journal_name=None,\n",
    "            doi=\"10.1080/21513732.2012.701667\",\n",
    "            start_date=None,\n",
    "            end_date=None,\n",
    "        )\n",
    "response = await execute_something(CoreRepository(), query)"
   ],
   "metadata": {
    "collapsed": false,
    "pycharm": {
     "name": "#%%\n"
    }
   }
  },
  {
   "cell_type": "code",
   "execution_count": null,
   "outputs": [],
   "source": [
    "data = pd.read_csv(\"data/cleaned_references.csv\")"
   ],
   "metadata": {
    "collapsed": false,
    "pycharm": {
     "name": "#%%\n"
    }
   }
  },
  {
   "cell_type": "code",
   "execution_count": null,
   "outputs": [],
   "source": [
    "data.head()"
   ],
   "metadata": {
    "collapsed": false,
    "pycharm": {
     "name": "#%%\n"
    }
   }
  },
  {
   "cell_type": "code",
   "execution_count": null,
   "outputs": [],
   "source": [
    "data"
   ],
   "metadata": {
    "collapsed": false,
    "pycharm": {
     "name": "#%%\n"
    }
   }
  },
  {
   "cell_type": "code",
   "execution_count": null,
   "outputs": [],
   "source": [
    "class Test():\n",
    "    def __init__(self):\n",
    "        self._henlo = 10\n",
    "\n",
    "    calculated = None\n",
    "    @property\n",
    "    def test_attr(self):\n",
    "        if calculated is None:\n",
    "            calculated = 5 + 5\n",
    "            print(\"Complex Calc\")\n",
    "        return calculated\n",
    "\n"
   ],
   "metadata": {
    "collapsed": false,
    "pycharm": {
     "name": "#%%\n"
    }
   }
  },
  {
   "cell_type": "code",
   "execution_count": null,
   "outputs": [],
   "source": [
    "t1 = Test()\n",
    "t2 = Test()\n",
    "\n",
    "t1.test_attr"
   ],
   "metadata": {
    "collapsed": false,
    "pycharm": {
     "name": "#%%\n"
    }
   }
  },
  {
   "cell_type": "code",
   "execution_count": null,
   "outputs": [],
   "source": [
    "t1.test_attr = 5"
   ],
   "metadata": {
    "collapsed": false,
    "pycharm": {
     "name": "#%%\n"
    }
   }
  },
  {
   "cell_type": "code",
   "execution_count": null,
   "outputs": [],
   "source": [
    "t2.test_attr"
   ],
   "metadata": {
    "collapsed": false,
    "pycharm": {
     "name": "#%%\n"
    }
   }
  },
  {
   "cell_type": "code",
   "execution_count": 31,
   "metadata": {},
   "outputs": [],
   "source": [
    "t2.test_attr"
   ]
  },
  {
   "cell_type": "code",
   "execution_count": 38,
   "metadata": {
    "pycharm": {
     "name": "#%%\n"
    }
   },
   "outputs": [],
   "source": [
    "data = pd.read_csv(\"data/cleaned_references.csv\")"
   ]
  },
  {
   "cell_type": "code",
   "execution_count": 44,
   "outputs": [
    {
     "output_type": "execute_result",
     "data": {
      "text/plain": [
       "   index item_type  pub_year                                         authors  \\\n",
       "0      1   journal    1994.0  Vickery, J. A.; Sutherland, W. J.; Lane, S. J.   \n",
       "1      2   journal    1994.0  Vickery, J. A.; Sutherland, W. J.; Lane, S. J.   \n",
       "2      3   journal    1994.0  Vickery, J. A.; Sutherland, W. J.; Lane, S. J.   \n",
       "3      4   journal    1994.0  Vickery, J. A.; Sutherland, W. J.; Lane, S. J.   \n",
       "4      5   journal    1994.0                                             NaN   \n",
       "\n",
       "                                               title  \\\n",
       "0  Provide sacrificial grasslands to reduce the i...   \n",
       "1   Employ grazing in artificial grasslands/pastures   \n",
       "2                    Fertilize artificial grasslands   \n",
       "3        Mow or cut semi-natural grasslands/pastures   \n",
       "4  Provide sacrificial grasslands to reduce the i...   \n",
       "\n",
       "                    pub_title isbn issn  doi  url  ...  n_pages  issue volume  \\\n",
       "0  Journal of Applied Ecology  NaN  NaN  NaN  NaN  ...      NaN      0     31   \n",
       "1  Journal of Applied Ecology  NaN  NaN  NaN  NaN  ...      NaN      0     31   \n",
       "2  Journal of Applied Ecology  NaN  NaN  NaN  NaN  ...      NaN      0     31   \n",
       "3  Journal of Applied Ecology  NaN  NaN  NaN  NaN  ...      NaN      0     31   \n",
       "4  Journal of Applied Ecology  NaN  NaN  NaN  NaN  ...      NaN      0     31   \n",
       "\n",
       "  n_volumes  journal_abbrev short_title  series series_num data_source  \\\n",
       "0       NaN             NaN         NaN     NaN        NaN  CE_website   \n",
       "1       NaN             NaN         NaN     NaN        NaN  CE_website   \n",
       "2       NaN             NaN         NaN     NaN        NaN  CE_website   \n",
       "3       NaN             NaN         NaN     NaN        NaN  CE_website   \n",
       "4       NaN             NaN         NaN     NaN        NaN  CE_website   \n",
       "\n",
       "      topic  \n",
       "0  Farmland  \n",
       "1     Birds  \n",
       "2     Birds  \n",
       "3     Birds  \n",
       "4  Farmland  \n",
       "\n",
       "[5 rows x 26 columns]"
      ],
      "text/html": "<div>\n<style scoped>\n    .dataframe tbody tr th:only-of-type {\n        vertical-align: middle;\n    }\n\n    .dataframe tbody tr th {\n        vertical-align: top;\n    }\n\n    .dataframe thead th {\n        text-align: right;\n    }\n</style>\n<table border=\"1\" class=\"dataframe\">\n  <thead>\n    <tr style=\"text-align: right;\">\n      <th></th>\n      <th>index</th>\n      <th>item_type</th>\n      <th>pub_year</th>\n      <th>authors</th>\n      <th>title</th>\n      <th>pub_title</th>\n      <th>isbn</th>\n      <th>issn</th>\n      <th>doi</th>\n      <th>url</th>\n      <th>...</th>\n      <th>n_pages</th>\n      <th>issue</th>\n      <th>volume</th>\n      <th>n_volumes</th>\n      <th>journal_abbrev</th>\n      <th>short_title</th>\n      <th>series</th>\n      <th>series_num</th>\n      <th>data_source</th>\n      <th>topic</th>\n    </tr>\n  </thead>\n  <tbody>\n    <tr>\n      <th>0</th>\n      <td>1</td>\n      <td>journal</td>\n      <td>1994.0</td>\n      <td>Vickery, J. A.; Sutherland, W. J.; Lane, S. J.</td>\n      <td>Provide sacrificial grasslands to reduce the i...</td>\n      <td>Journal of Applied Ecology</td>\n      <td>NaN</td>\n      <td>NaN</td>\n      <td>NaN</td>\n      <td>NaN</td>\n      <td>...</td>\n      <td>NaN</td>\n      <td>0</td>\n      <td>31</td>\n      <td>NaN</td>\n      <td>NaN</td>\n      <td>NaN</td>\n      <td>NaN</td>\n      <td>NaN</td>\n      <td>CE_website</td>\n      <td>Farmland</td>\n    </tr>\n    <tr>\n      <th>1</th>\n      <td>2</td>\n      <td>journal</td>\n      <td>1994.0</td>\n      <td>Vickery, J. A.; Sutherland, W. J.; Lane, S. J.</td>\n      <td>Employ grazing in artificial grasslands/pastures</td>\n      <td>Journal of Applied Ecology</td>\n      <td>NaN</td>\n      <td>NaN</td>\n      <td>NaN</td>\n      <td>NaN</td>\n      <td>...</td>\n      <td>NaN</td>\n      <td>0</td>\n      <td>31</td>\n      <td>NaN</td>\n      <td>NaN</td>\n      <td>NaN</td>\n      <td>NaN</td>\n      <td>NaN</td>\n      <td>CE_website</td>\n      <td>Birds</td>\n    </tr>\n    <tr>\n      <th>2</th>\n      <td>3</td>\n      <td>journal</td>\n      <td>1994.0</td>\n      <td>Vickery, J. A.; Sutherland, W. J.; Lane, S. J.</td>\n      <td>Fertilize artificial grasslands</td>\n      <td>Journal of Applied Ecology</td>\n      <td>NaN</td>\n      <td>NaN</td>\n      <td>NaN</td>\n      <td>NaN</td>\n      <td>...</td>\n      <td>NaN</td>\n      <td>0</td>\n      <td>31</td>\n      <td>NaN</td>\n      <td>NaN</td>\n      <td>NaN</td>\n      <td>NaN</td>\n      <td>NaN</td>\n      <td>CE_website</td>\n      <td>Birds</td>\n    </tr>\n    <tr>\n      <th>3</th>\n      <td>4</td>\n      <td>journal</td>\n      <td>1994.0</td>\n      <td>Vickery, J. A.; Sutherland, W. J.; Lane, S. J.</td>\n      <td>Mow or cut semi-natural grasslands/pastures</td>\n      <td>Journal of Applied Ecology</td>\n      <td>NaN</td>\n      <td>NaN</td>\n      <td>NaN</td>\n      <td>NaN</td>\n      <td>...</td>\n      <td>NaN</td>\n      <td>0</td>\n      <td>31</td>\n      <td>NaN</td>\n      <td>NaN</td>\n      <td>NaN</td>\n      <td>NaN</td>\n      <td>NaN</td>\n      <td>CE_website</td>\n      <td>Birds</td>\n    </tr>\n    <tr>\n      <th>4</th>\n      <td>5</td>\n      <td>journal</td>\n      <td>1994.0</td>\n      <td>NaN</td>\n      <td>Provide sacrificial grasslands to reduce the i...</td>\n      <td>Journal of Applied Ecology</td>\n      <td>NaN</td>\n      <td>NaN</td>\n      <td>NaN</td>\n      <td>NaN</td>\n      <td>...</td>\n      <td>NaN</td>\n      <td>0</td>\n      <td>31</td>\n      <td>NaN</td>\n      <td>NaN</td>\n      <td>NaN</td>\n      <td>NaN</td>\n      <td>NaN</td>\n      <td>CE_website</td>\n      <td>Farmland</td>\n    </tr>\n  </tbody>\n</table>\n<p>5 rows × 26 columns</p>\n</div>"
     },
     "metadata": {},
     "execution_count": 44
    }
   ],
   "source": [
    "data.head()"
   ],
   "metadata": {
    "collapsed": false,
    "pycharm": {
     "name": "#%%\n"
    }
   }
  },
  {
   "cell_type": "code",
   "execution_count": 10,
   "metadata": {},
   "outputs": [
    {
     "data": {
      "text/html": [
       "<div>\n",
       "<style scoped>\n",
       "    .dataframe tbody tr th:only-of-type {\n",
       "        vertical-align: middle;\n",
       "    }\n",
       "\n",
       "    .dataframe tbody tr th {\n",
       "        vertical-align: top;\n",
       "    }\n",
       "\n",
       "    .dataframe thead th {\n",
       "        text-align: right;\n",
       "    }\n",
       "</style>\n",
       "<table border=\"1\" class=\"dataframe\">\n",
       "  <thead>\n",
       "    <tr style=\"text-align: right;\">\n",
       "      <th></th>\n",
       "      <th>index</th>\n",
       "      <th>item_type</th>\n",
       "      <th>pub_year</th>\n",
       "      <th>authors</th>\n",
       "      <th>title</th>\n",
       "      <th>pub_title</th>\n",
       "      <th>isbn</th>\n",
       "      <th>issn</th>\n",
       "      <th>doi</th>\n",
       "      <th>url</th>\n",
       "      <th>...</th>\n",
       "      <th>n_pages</th>\n",
       "      <th>issue</th>\n",
       "      <th>volume</th>\n",
       "      <th>n_volumes</th>\n",
       "      <th>journal_abbrev</th>\n",
       "      <th>short_title</th>\n",
       "      <th>series</th>\n",
       "      <th>series_num</th>\n",
       "      <th>data_source</th>\n",
       "      <th>topic</th>\n",
       "    </tr>\n",
       "  </thead>\n",
       "  <tbody>\n",
       "    <tr>\n",
       "      <th>0</th>\n",
       "      <td>1</td>\n",
       "      <td>journal</td>\n",
       "      <td>1994.0</td>\n",
       "      <td>Vickery, J. A.; Sutherland, W. J.; Lane, S. J.</td>\n",
       "      <td>Provide sacrificial grasslands to reduce the i...</td>\n",
       "      <td>Journal of Applied Ecology</td>\n",
       "      <td>NaN</td>\n",
       "      <td>NaN</td>\n",
       "      <td>NaN</td>\n",
       "      <td>NaN</td>\n",
       "      <td>...</td>\n",
       "      <td>NaN</td>\n",
       "      <td>0</td>\n",
       "      <td>31</td>\n",
       "      <td>NaN</td>\n",
       "      <td>NaN</td>\n",
       "      <td>NaN</td>\n",
       "      <td>NaN</td>\n",
       "      <td>NaN</td>\n",
       "      <td>CE_website</td>\n",
       "      <td>Farmland</td>\n",
       "    </tr>\n",
       "    <tr>\n",
       "      <th>1</th>\n",
       "      <td>2</td>\n",
       "      <td>journal</td>\n",
       "      <td>1994.0</td>\n",
       "      <td>Vickery, J. A.; Sutherland, W. J.; Lane, S. J.</td>\n",
       "      <td>Employ grazing in artificial grasslands/pastures</td>\n",
       "      <td>Journal of Applied Ecology</td>\n",
       "      <td>NaN</td>\n",
       "      <td>NaN</td>\n",
       "      <td>NaN</td>\n",
       "      <td>NaN</td>\n",
       "      <td>...</td>\n",
       "      <td>NaN</td>\n",
       "      <td>0</td>\n",
       "      <td>31</td>\n",
       "      <td>NaN</td>\n",
       "      <td>NaN</td>\n",
       "      <td>NaN</td>\n",
       "      <td>NaN</td>\n",
       "      <td>NaN</td>\n",
       "      <td>CE_website</td>\n",
       "      <td>Birds</td>\n",
       "    </tr>\n",
       "    <tr>\n",
       "      <th>2</th>\n",
       "      <td>3</td>\n",
       "      <td>journal</td>\n",
       "      <td>1994.0</td>\n",
       "      <td>Vickery, J. A.; Sutherland, W. J.; Lane, S. J.</td>\n",
       "      <td>Fertilize artificial grasslands</td>\n",
       "      <td>Journal of Applied Ecology</td>\n",
       "      <td>NaN</td>\n",
       "      <td>NaN</td>\n",
       "      <td>NaN</td>\n",
       "      <td>NaN</td>\n",
       "      <td>...</td>\n",
       "      <td>NaN</td>\n",
       "      <td>0</td>\n",
       "      <td>31</td>\n",
       "      <td>NaN</td>\n",
       "      <td>NaN</td>\n",
       "      <td>NaN</td>\n",
       "      <td>NaN</td>\n",
       "      <td>NaN</td>\n",
       "      <td>CE_website</td>\n",
       "      <td>Birds</td>\n",
       "    </tr>\n",
       "    <tr>\n",
       "      <th>3</th>\n",
       "      <td>4</td>\n",
       "      <td>journal</td>\n",
       "      <td>1994.0</td>\n",
       "      <td>Vickery, J. A.; Sutherland, W. J.; Lane, S. J.</td>\n",
       "      <td>Mow or cut semi-natural grasslands/pastures</td>\n",
       "      <td>Journal of Applied Ecology</td>\n",
       "      <td>NaN</td>\n",
       "      <td>NaN</td>\n",
       "      <td>NaN</td>\n",
       "      <td>NaN</td>\n",
       "      <td>...</td>\n",
       "      <td>NaN</td>\n",
       "      <td>0</td>\n",
       "      <td>31</td>\n",
       "      <td>NaN</td>\n",
       "      <td>NaN</td>\n",
       "      <td>NaN</td>\n",
       "      <td>NaN</td>\n",
       "      <td>NaN</td>\n",
       "      <td>CE_website</td>\n",
       "      <td>Birds</td>\n",
       "    </tr>\n",
       "    <tr>\n",
       "      <th>4</th>\n",
       "      <td>5</td>\n",
       "      <td>journal</td>\n",
       "      <td>1994.0</td>\n",
       "      <td>NaN</td>\n",
       "      <td>Provide sacrificial grasslands to reduce the i...</td>\n",
       "      <td>Journal of Applied Ecology</td>\n",
       "      <td>NaN</td>\n",
       "      <td>NaN</td>\n",
       "      <td>NaN</td>\n",
       "      <td>NaN</td>\n",
       "      <td>...</td>\n",
       "      <td>NaN</td>\n",
       "      <td>0</td>\n",
       "      <td>31</td>\n",
       "      <td>NaN</td>\n",
       "      <td>NaN</td>\n",
       "      <td>NaN</td>\n",
       "      <td>NaN</td>\n",
       "      <td>NaN</td>\n",
       "      <td>CE_website</td>\n",
       "      <td>Farmland</td>\n",
       "    </tr>\n",
       "    <tr>\n",
       "      <th>...</th>\n",
       "      <td>...</td>\n",
       "      <td>...</td>\n",
       "      <td>...</td>\n",
       "      <td>...</td>\n",
       "      <td>...</td>\n",
       "      <td>...</td>\n",
       "      <td>...</td>\n",
       "      <td>...</td>\n",
       "      <td>...</td>\n",
       "      <td>...</td>\n",
       "      <td>...</td>\n",
       "      <td>...</td>\n",
       "      <td>...</td>\n",
       "      <td>...</td>\n",
       "      <td>...</td>\n",
       "      <td>...</td>\n",
       "      <td>...</td>\n",
       "      <td>...</td>\n",
       "      <td>...</td>\n",
       "      <td>...</td>\n",
       "      <td>...</td>\n",
       "    </tr>\n",
       "    <tr>\n",
       "      <th>30988</th>\n",
       "      <td>30989</td>\n",
       "      <td>journalArticle</td>\n",
       "      <td>2017.0</td>\n",
       "      <td>Wood, J. K.; Gold, W. G.; Fridley, J. L.; Ewin...</td>\n",
       "      <td>An analysis of factors driving success in ecol...</td>\n",
       "      <td>Ecological Restoration</td>\n",
       "      <td>NaN</td>\n",
       "      <td>NaN</td>\n",
       "      <td>10.3368/er.35.1.60</td>\n",
       "      <td>https://www.scopus.com/inward/record.uri?eid=2...</td>\n",
       "      <td>...</td>\n",
       "      <td>NaN</td>\n",
       "      <td>1</td>\n",
       "      <td>35</td>\n",
       "      <td>NaN</td>\n",
       "      <td>NaN</td>\n",
       "      <td>NaN</td>\n",
       "      <td>NaN</td>\n",
       "      <td>NaN</td>\n",
       "      <td>post_2016_DB</td>\n",
       "      <td>Wetland</td>\n",
       "    </tr>\n",
       "    <tr>\n",
       "      <th>30989</th>\n",
       "      <td>30990</td>\n",
       "      <td>journalArticle</td>\n",
       "      <td>2019.0</td>\n",
       "      <td>Yando, Erik S.; Osland, Michael J.; Jones, Sco...</td>\n",
       "      <td>Jump-starting coastal wetland restoration: a c...</td>\n",
       "      <td>Restoration Ecology</td>\n",
       "      <td>NaN</td>\n",
       "      <td>NaN</td>\n",
       "      <td>NaN</td>\n",
       "      <td>NaN</td>\n",
       "      <td>...</td>\n",
       "      <td>NaN</td>\n",
       "      <td>5</td>\n",
       "      <td>27</td>\n",
       "      <td>NaN</td>\n",
       "      <td>NaN</td>\n",
       "      <td>NaN</td>\n",
       "      <td>NaN</td>\n",
       "      <td>NaN</td>\n",
       "      <td>post_2016_DB</td>\n",
       "      <td>Wetland</td>\n",
       "    </tr>\n",
       "    <tr>\n",
       "      <th>30990</th>\n",
       "      <td>30991</td>\n",
       "      <td>journalArticle</td>\n",
       "      <td>2018.0</td>\n",
       "      <td>Zhang, M.; Wang, Y.; Li, B.; Feng, Z.; Zhao, Y...</td>\n",
       "      <td>Synergistic succession of the small mammal com...</td>\n",
       "      <td>Mammal Study</td>\n",
       "      <td>NaN</td>\n",
       "      <td>NaN</td>\n",
       "      <td>10.3106/ms2017-0043</td>\n",
       "      <td>https://www.scopus.com/inward/record.uri?eid=2...</td>\n",
       "      <td>...</td>\n",
       "      <td>NaN</td>\n",
       "      <td>NaN</td>\n",
       "      <td>43</td>\n",
       "      <td>NaN</td>\n",
       "      <td>NaN</td>\n",
       "      <td>NaN</td>\n",
       "      <td>NaN</td>\n",
       "      <td>NaN</td>\n",
       "      <td>post_2016_DB</td>\n",
       "      <td>Wetland</td>\n",
       "    </tr>\n",
       "    <tr>\n",
       "      <th>30991</th>\n",
       "      <td>30992</td>\n",
       "      <td>journalArticle</td>\n",
       "      <td>2014.0</td>\n",
       "      <td>Zhong, Y.; Liu, Q.; Liu, C.; Su, Z.; Sun, Y.; ...</td>\n",
       "      <td>The impacts of burrowing activities of introdu...</td>\n",
       "      <td>Acta Theriologica Sinica</td>\n",
       "      <td>NaN</td>\n",
       "      <td>NaN</td>\n",
       "      <td>NaN</td>\n",
       "      <td>https://www.scopus.com/inward/record.uri?eid=2...</td>\n",
       "      <td>...</td>\n",
       "      <td>NaN</td>\n",
       "      <td>1</td>\n",
       "      <td>34</td>\n",
       "      <td>NaN</td>\n",
       "      <td>NaN</td>\n",
       "      <td>NaN</td>\n",
       "      <td>NaN</td>\n",
       "      <td>NaN</td>\n",
       "      <td>post_2016_DB</td>\n",
       "      <td>Wetland</td>\n",
       "    </tr>\n",
       "    <tr>\n",
       "      <th>30992</th>\n",
       "      <td>30993</td>\n",
       "      <td>journalArticle</td>\n",
       "      <td>2014.0</td>\n",
       "      <td>Zhu, Z.; Bouma, T. J.; Ysebaert, T.; Zhang, L....</td>\n",
       "      <td>Seed arrival and persistence at the tidal mudf...</td>\n",
       "      <td>Marine Ecology Progress Series</td>\n",
       "      <td>NaN</td>\n",
       "      <td>NaN</td>\n",
       "      <td>10.3354/meps10920</td>\n",
       "      <td>https://www.scopus.com/inward/record.uri?eid=2...</td>\n",
       "      <td>...</td>\n",
       "      <td>NaN</td>\n",
       "      <td>NaN</td>\n",
       "      <td>513</td>\n",
       "      <td>NaN</td>\n",
       "      <td>NaN</td>\n",
       "      <td>NaN</td>\n",
       "      <td>NaN</td>\n",
       "      <td>NaN</td>\n",
       "      <td>post_2016_DB</td>\n",
       "      <td>Wetland</td>\n",
       "    </tr>\n",
       "  </tbody>\n",
       "</table>\n",
       "<p>30993 rows × 26 columns</p>\n",
       "</div>"
      ],
      "text/plain": [
       "       index       item_type  pub_year  \\\n",
       "0          1         journal    1994.0   \n",
       "1          2         journal    1994.0   \n",
       "2          3         journal    1994.0   \n",
       "3          4         journal    1994.0   \n",
       "4          5         journal    1994.0   \n",
       "...      ...             ...       ...   \n",
       "30988  30989  journalArticle    2017.0   \n",
       "30989  30990  journalArticle    2019.0   \n",
       "30990  30991  journalArticle    2018.0   \n",
       "30991  30992  journalArticle    2014.0   \n",
       "30992  30993  journalArticle    2014.0   \n",
       "\n",
       "                                                 authors  \\\n",
       "0         Vickery, J. A.; Sutherland, W. J.; Lane, S. J.   \n",
       "1         Vickery, J. A.; Sutherland, W. J.; Lane, S. J.   \n",
       "2         Vickery, J. A.; Sutherland, W. J.; Lane, S. J.   \n",
       "3         Vickery, J. A.; Sutherland, W. J.; Lane, S. J.   \n",
       "4                                                    NaN   \n",
       "...                                                  ...   \n",
       "30988  Wood, J. K.; Gold, W. G.; Fridley, J. L.; Ewin...   \n",
       "30989  Yando, Erik S.; Osland, Michael J.; Jones, Sco...   \n",
       "30990  Zhang, M.; Wang, Y.; Li, B.; Feng, Z.; Zhao, Y...   \n",
       "30991  Zhong, Y.; Liu, Q.; Liu, C.; Su, Z.; Sun, Y.; ...   \n",
       "30992  Zhu, Z.; Bouma, T. J.; Ysebaert, T.; Zhang, L....   \n",
       "\n",
       "                                                   title  \\\n",
       "0      Provide sacrificial grasslands to reduce the i...   \n",
       "1       Employ grazing in artificial grasslands/pastures   \n",
       "2                        Fertilize artificial grasslands   \n",
       "3            Mow or cut semi-natural grasslands/pastures   \n",
       "4      Provide sacrificial grasslands to reduce the i...   \n",
       "...                                                  ...   \n",
       "30988  An analysis of factors driving success in ecol...   \n",
       "30989  Jump-starting coastal wetland restoration: a c...   \n",
       "30990  Synergistic succession of the small mammal com...   \n",
       "30991  The impacts of burrowing activities of introdu...   \n",
       "30992  Seed arrival and persistence at the tidal mudf...   \n",
       "\n",
       "                            pub_title isbn issn                  doi  \\\n",
       "0          Journal of Applied Ecology  NaN  NaN                  NaN   \n",
       "1          Journal of Applied Ecology  NaN  NaN                  NaN   \n",
       "2          Journal of Applied Ecology  NaN  NaN                  NaN   \n",
       "3          Journal of Applied Ecology  NaN  NaN                  NaN   \n",
       "4          Journal of Applied Ecology  NaN  NaN                  NaN   \n",
       "...                               ...  ...  ...                  ...   \n",
       "30988          Ecological Restoration  NaN  NaN   10.3368/er.35.1.60   \n",
       "30989             Restoration Ecology  NaN  NaN                  NaN   \n",
       "30990                    Mammal Study  NaN  NaN  10.3106/ms2017-0043   \n",
       "30991        Acta Theriologica Sinica  NaN  NaN                  NaN   \n",
       "30992  Marine Ecology Progress Series  NaN  NaN    10.3354/meps10920   \n",
       "\n",
       "                                                     url  ...  n_pages  issue  \\\n",
       "0                                                    NaN  ...      NaN      0   \n",
       "1                                                    NaN  ...      NaN      0   \n",
       "2                                                    NaN  ...      NaN      0   \n",
       "3                                                    NaN  ...      NaN      0   \n",
       "4                                                    NaN  ...      NaN      0   \n",
       "...                                                  ...  ...      ...    ...   \n",
       "30988  https://www.scopus.com/inward/record.uri?eid=2...  ...      NaN      1   \n",
       "30989                                                NaN  ...      NaN      5   \n",
       "30990  https://www.scopus.com/inward/record.uri?eid=2...  ...      NaN    NaN   \n",
       "30991  https://www.scopus.com/inward/record.uri?eid=2...  ...      NaN      1   \n",
       "30992  https://www.scopus.com/inward/record.uri?eid=2...  ...      NaN    NaN   \n",
       "\n",
       "      volume n_volumes  journal_abbrev short_title  series series_num  \\\n",
       "0         31       NaN             NaN         NaN     NaN        NaN   \n",
       "1         31       NaN             NaN         NaN     NaN        NaN   \n",
       "2         31       NaN             NaN         NaN     NaN        NaN   \n",
       "3         31       NaN             NaN         NaN     NaN        NaN   \n",
       "4         31       NaN             NaN         NaN     NaN        NaN   \n",
       "...      ...       ...             ...         ...     ...        ...   \n",
       "30988     35       NaN             NaN         NaN     NaN        NaN   \n",
       "30989     27       NaN             NaN         NaN     NaN        NaN   \n",
       "30990     43       NaN             NaN         NaN     NaN        NaN   \n",
       "30991     34       NaN             NaN         NaN     NaN        NaN   \n",
       "30992    513       NaN             NaN         NaN     NaN        NaN   \n",
       "\n",
       "        data_source     topic  \n",
       "0        CE_website  Farmland  \n",
       "1        CE_website     Birds  \n",
       "2        CE_website     Birds  \n",
       "3        CE_website     Birds  \n",
       "4        CE_website  Farmland  \n",
       "...             ...       ...  \n",
       "30988  post_2016_DB   Wetland  \n",
       "30989  post_2016_DB   Wetland  \n",
       "30990  post_2016_DB   Wetland  \n",
       "30991  post_2016_DB   Wetland  \n",
       "30992  post_2016_DB   Wetland  \n",
       "\n",
       "[30993 rows x 26 columns]"
      ]
     },
     "execution_count": 10,
     "metadata": {},
     "output_type": "execute_result"
    }
   ],
   "source": [
    "data"
   ]
  },
  {
   "cell_type": "code",
   "execution_count": 50,
   "metadata": {},
   "outputs": [],
   "source": [
    "class Test():\n",
    "    def __init__(self):\n",
    "        self._henlo = 10\n",
    "\n",
    "    calculated = None\n",
    "    @property\n",
    "    def test_attr(self):\n",
    "        if calculated is None:\n",
    "            calculated = 5 + 5\n",
    "            print(\"Complex Calc\")\n",
    "        return calculated\n",
    "\n"
   ]
  },
  {
   "cell_type": "code",
   "execution_count": 51,
   "metadata": {},
   "outputs": [
    {
     "output_type": "execute_result",
     "data": {
      "text/plain": [
       "10"
      ]
     },
     "metadata": {},
     "execution_count": 51
    }
   ],
   "source": [
    "t1 = Test()\n",
    "t2 = Test()\n",
    "\n",
    "t1.test_attr"
   ]
  },
  {
   "cell_type": "code",
   "execution_count": 52,
   "metadata": {},
   "outputs": [],
   "source": [
    "t1.test_attr = 5"
   ]
  },
  {
   "cell_type": "code",
   "execution_count": 53,
   "metadata": {},
   "outputs": [
    {
     "output_type": "execute_result",
     "data": {
      "text/plain": [
       "10"
      ]
     },
     "metadata": {},
     "execution_count": 53
    }
   ],
   "source": [
    "t2.test_attr"
   ]
  }
 ],
 "metadata": {
  "kernelspec": {
   "name": "python3",
   "display_name": "Python 3.7.9 64-bit ('conservation_synthesis': conda)",
   "metadata": {
    "interpreter": {
     "hash": "495a7ea82e26ae5eb63e306849d1b5b7fc5c1bdce2d2c577afbd477cf1b3a50a"
    }
   }
  },
  "language_info": {
   "codemirror_mode": {
    "name": "ipython",
    "version": 3
   },
   "file_extension": ".py",
   "mimetype": "text/x-python",
   "name": "python",
   "nbconvert_exporter": "python",
   "pygments_lexer": "ipython3",
   "version": "3.7.9-final"
  },
  "pycharm": {
   "stem_cell": {
    "cell_type": "raw",
    "source": [],
    "metadata": {
     "collapsed": false
    }
   }
  }
 },
 "nbformat": 4,
 "nbformat_minor": 1
}