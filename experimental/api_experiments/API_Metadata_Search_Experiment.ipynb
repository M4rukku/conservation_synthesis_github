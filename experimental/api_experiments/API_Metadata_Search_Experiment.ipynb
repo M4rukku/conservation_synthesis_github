{
 "cells": [
  {
   "cell_type": "markdown",
   "metadata": {
    "pycharm": {
     "is_executing": false
    }
   },
   "source": [
    "## Openaire API"
   ]
  },
  {
   "cell_type": "code",
   "execution_count": 1,
   "metadata": {
    "pycharm": {
     "is_executing": false
    }
   },
   "outputs": [],
   "source": [
    "openaire_api_endpoint = \"http://api.openaire.eu/search/publications\"\n",
    "parameters = {\"size\" : \"3\", \"format\" : \"json\", \n",
    "               \"author\": \"Fuwen Wei, Yonggang Nie, Lei Shan; YiBo Hu\"} #\"title\" : \"xxx\","
   ]
  },
  {
   "cell_type": "code",
   "execution_count": null,
   "metadata": {
    "pycharm": {
     "is_executing": false,
     "name": "#%%\n"
    }
   },
   "outputs": [],
   "source": [
    "import requests\n",
    "response = requests.get(openaire_api_endpoint,\n",
    "                        params=parameters)"
   ]
  },
  {
   "cell_type": "code",
   "execution_count": null,
   "metadata": {
    "pycharm": {
     "is_executing": false
    }
   },
   "outputs": [],
   "source": [
    "import json\n",
    "response_dict = json.loads(response.text)\n",
    "#print(response_dict['response']['results']['result'][0]['metadata'])"
   ]
  },
  {
   "cell_type": "code",
   "execution_count": null,
   "metadata": {
    "pycharm": {
     "is_executing": false
    }
   },
   "outputs": [],
   "source": [
    "oaf_result_entity = response_dict['response']['results']['result'][0]['metadata']['oaf:entity']['oaf:result']"
   ]
  },
  {
   "cell_type": "code",
   "execution_count": null,
   "metadata": {
    "pycharm": {
     "is_executing": false
    }
   },
   "outputs": [],
   "source": [
    "oaf_result_entity.keys()\n",
    "#oaf_result_entity[ 'publisher']"
   ]
  },
  {
   "cell_type": "code",
   "execution_count": null,
   "metadata": {
    "pycharm": {
     "is_executing": false
    }
   },
   "outputs": [],
   "source": [
    "oaf_result_entity['pid']\n",
    "#oaf_result_entity['pid']['$']"
   ]
  },
  {
   "cell_type": "code",
   "execution_count": null,
   "metadata": {
    "pycharm": {
     "is_executing": false,
     "name": "#%%\n"
    }
   },
   "outputs": [],
   "source": [
    "oaf_result_entity['originalId'] #Contains DOI and ISSN!"
   ]
  },
  {
   "cell_type": "code",
   "execution_count": null,
   "metadata": {},
   "outputs": [],
   "source": [
    "oaf_result_entity['title'] # Maybe have some sensible string comparison algorithm"
   ]
  },
  {
   "cell_type": "code",
   "execution_count": null,
   "metadata": {},
   "outputs": [],
   "source": [
    "oaf_result_entity['creator']"
   ]
  },
  {
   "cell_type": "code",
   "execution_count": null,
   "metadata": {
    "pycharm": {
     "is_executing": false
    }
   },
   "outputs": [],
   "source": [
    "oaf_result_entity['description']"
   ]
  },
  {
   "cell_type": "markdown",
   "metadata": {},
   "source": [
    "## API OAI"
   ]
  },
  {
   "cell_type": "code",
   "execution_count": null,
   "metadata": {},
   "outputs": [],
   "source": [
    "from sickle import Sickle"
   ]
  },
  {
   "cell_type": "code",
   "execution_count": null,
   "metadata": {},
   "outputs": [],
   "source": [
    "sickle = Sickle(endpoint=\"https://data.mendeley.com/oai\", http_method=\"GET\", max_retries= 2, \n",
    "                protocol_version=\"2.0\", default_retry_after=3)\n",
    "records = sickle.ListRecords(metadataPrefix='oai_dc')"
   ]
  },
  {
   "cell_type": "code",
   "execution_count": null,
   "metadata": {},
   "outputs": [],
   "source": [
    "id = sickle.Identify()"
   ]
  },
  {
   "cell_type": "code",
   "execution_count": null,
   "metadata": {
    "scrolled": true
   },
   "outputs": [],
   "source": [
    "id.granularity"
   ]
  },
  {
   "cell_type": "markdown",
   "metadata": {},
   "source": [
    "## CROSSREF\n",
    "\n",
    "Note: Postponed; xml query only allows lookup of doi from metadata; might be useful (ABSTRACT is just maybe included ) https://github.com/Crossref/rest-api-doc/blob/master/api_format.md"
   ]
  },
  {
   "cell_type": "code",
   "execution_count": null,
   "metadata": {},
   "outputs": [],
   "source": [
    "query = \"https://doi.crossref.org/openurl/?pid=mw784@cam.ac.uk&id=doi:10.1103/PhysRev.47.777&noredirect=true\"\n",
    "response = requests.get(query)"
   ]
  },
  {
   "cell_type": "code",
   "execution_count": null,
   "metadata": {
    "scrolled": true
   },
   "outputs": [],
   "source": [
    "from habanero import Crossref\n",
    "cr = Crossref()\n",
    "#cr.journals(ids = \"0071-3260\", works = True)"
   ]
  },
  {
   "cell_type": "code",
   "execution_count": null,
   "metadata": {},
   "outputs": [],
   "source": [
    "res = cr.journals(ids = \"2167-8359\", works = True, cursor = \"*\", cursor_max = 200, progress_bar = True)"
   ]
  },
  {
   "cell_type": "code",
   "execution_count": null,
   "metadata": {
    "scrolled": true
   },
   "outputs": [],
   "source": [
    "cr.types(works = True)"
   ]
  },
  {
   "cell_type": "code",
   "execution_count": null,
   "metadata": {},
   "outputs": [],
   "source": [
    "journ = cr.journals(works=False, query=\"Evolutionary Biology\", limit=50, progress_bar=True)['message']['items']  #['items-per-page'] #50 i"
   ]
  },
  {
   "cell_type": "code",
   "execution_count": null,
   "metadata": {},
   "outputs": [],
   "source": [
    "journ[0]['title']\n",
    "journ[0]['publisher']\n",
    "journ[0]['issn-type']\n",
    "journ[0]['ISSN']"
   ]
  },
  {
   "cell_type": "code",
   "execution_count": null,
   "metadata": {
    "scrolled": true
   },
   "outputs": [],
   "source": [
    "print(\"\\n\".join([j['title'] + \" published by \" + j['publisher'] \n",
    "                 + \" has ID: \" + \" \".join(j['ISSN']) for j in journ]))"
   ]
  },
  {
   "cell_type": "code",
   "execution_count": null,
   "metadata": {},
   "outputs": [],
   "source": [
    "j_works = cr.journals(ids=[\"1934-2845\"], limit=100, select=[\"title\", \"DOI\", \"issue\", \"volume\"], sort='published-print', order='desc', filter = {'from_pub_date': '2019-01-01'}, works=True, progress_bar=True)"
   ]
  },
  {
   "cell_type": "code",
   "execution_count": null,
   "metadata": {
    "scrolled": true
   },
   "outputs": [],
   "source": [
    "print(f\"There are {j_works['message']['total-results']} results... \\n\")\n",
    "print(\"Displaying 20 Titles: \\n\")\n",
    "works_data =j_works['message']['items']\n",
    "works_data[20]['volume']\n",
    "print(\" \".join([f\"\"\"\"{w.get('title')[0]}\";; Vol: {w.get('volume', None)} Iss: {w.get('issue', None)} \\n\"\"\" for w in works_data]))"
   ]
  },
  {
   "cell_type": "markdown",
   "metadata": {},
   "source": [
    "Get Throughput for today"
   ]
  },
  {
   "cell_type": "code",
   "execution_count": null,
   "metadata": {},
   "outputs": [],
   "source": [
    "cr = requests.head(\"https://api.crossref.org/\")\n",
    "int(cr.headers['x-rate-limit-limit']) / int(cr.headers['x-rate-limit-interval'][:-1])"
   ]
  },
  {
   "cell_type": "markdown",
   "metadata": {},
   "source": [
    "Perform a keyword query for an article"
   ]
  },
  {
   "cell_type": "code",
   "execution_count": 1,
   "metadata": {
    "pycharm": {
     "is_executing": false
    }
   },
   "outputs": [],
   "source": [
    "from habanero import Crossref\n",
    "cr = Crossref(mailto=\"markus.walder00@gmail.com\")\n",
    "to_select = [\"abstract\", \"title\", \"original-title\", \"issue\", \"short-title\", \"DOI\", \"published-print\", \"volume\", \"author\", 'URL', 'ISSN']"
   ]
  },
  {
   "cell_type": "code",
   "execution_count": 3,
   "metadata": {
    "pycharm": {
     "is_executing": false
    },
    "scrolled": true
   },
   "outputs": [],
   "source": [
    "query_string = \"aerhdghsf\"\n",
    "res = cr.works(limit=5, query_bibliographic=query_string,# query_author=\"Gluck Buglion\",\n",
    "        filter={\"has-abstract\":True, \"type\":\"journal-article\", \"from-print-pub-date\":\"2018-01\" , \"until-print-pub-date\" :\"2019-01\" },\n",
    "        select= to_select)"
   ]
  },
  {
   "cell_type": "code",
   "execution_count": 4,
   "metadata": {
    "pycharm": {
     "is_executing": false,
     "name": "#%%\n"
    }
   },
   "outputs": [
    {
     "data": {
      "text/plain": [
       "dict_keys(['status', 'message-type', 'message-version', 'message'])"
      ]
     },
     "execution_count": 4,
     "metadata": {},
     "output_type": "execute_result"
    }
   ],
   "source": [
    "res.keys() "
   ]
  },
  {
   "cell_type": "code",
   "execution_count": 3,
   "metadata": {},
   "outputs": [],
   "source": [
    "doi = \"10.1386/eme.17.4.465_1\"\n",
    "doi_response =cr.works(ids = doi)"
   ]
  },
  {
   "cell_type": "code",
   "execution_count": 17,
   "metadata": {},
   "outputs": [
    {
     "data": {
      "text/plain": [
       "[2018, 12, 1]"
      ]
     },
     "execution_count": 17,
     "metadata": {},
     "output_type": "execute_result"
    }
   ],
   "source": [
    "doi_response['message'].get('issued')['date-parts'][0]"
   ]
  },
  {
   "cell_type": "code",
   "execution_count": 7,
   "metadata": {},
   "outputs": [
    {
     "name": "stdout",
     "output_type": "stream",
     "text": [
      "Error\n"
     ]
    }
   ],
   "source": [
    "import habanero\n",
    "import requests\n",
    "nonsense_doi = \"10.1386/eme.17.334.465_1\"\n",
    "try:\n",
    "    nonsense_doi_response =cr.works(ids = nonsense_doi)\n",
    "except requests.exceptions.HTTPError as e:\n",
    "    print(\"Error\")"
   ]
  },
  {
   "cell_type": "code",
   "execution_count": 21,
   "metadata": {},
   "outputs": [],
   "source": [
    "nonsense_query = \"nonsense\"\n",
    "resp =cr.works(limit=1, query_bibliographic=nonsense_query)"
   ]
  },
  {
   "cell_type": "code",
   "execution_count": 22,
   "metadata": {},
   "outputs": [
    {
     "data": {
      "text/plain": [
       "{'facets': {},\n",
       " 'total-results': 6036,\n",
       " 'items': [{'indexed': {'date-parts': [[2020, 7, 3]],\n",
       "    'date-time': '2020-07-03T10:10:53Z',\n",
       "    'timestamp': 1593771053300},\n",
       "   'reference-count': 0,\n",
       "   'publisher': 'Stanford University Press',\n",
       "   'isbn-type': [{'value': '9780804783064', 'type': 'electronic'}],\n",
       "   'content-domain': {'domain': [], 'crossmark-restriction': False},\n",
       "   'published-print': {'date-parts': [[2020, 12, 31]]},\n",
       "   'DOI': '10.1515/9780804783064-001',\n",
       "   'type': 'book-chapter',\n",
       "   'created': {'date-parts': [[2020, 7, 3]],\n",
       "    'date-time': '2020-07-03T09:51:02Z',\n",
       "    'timestamp': 1593769862000},\n",
       "   'page': '1-14',\n",
       "   'source': 'Crossref',\n",
       "   'is-referenced-by-count': 0,\n",
       "   'title': ['1. Introduction: Nonsense, Victorian Nonsense, Romantic Nonsense'],\n",
       "   'prefix': '10.1515',\n",
       "   'member': '374',\n",
       "   'container-title': ['In Praise of Nonsense'],\n",
       "   'link': [{'URL': 'https://www.degruyter.com/view/book/9780804783064/10.1515/9780804783064-001.xml',\n",
       "     'content-type': 'text/html',\n",
       "     'content-version': 'vor',\n",
       "     'intended-application': 'text-mining'}],\n",
       "   'deposited': {'date-parts': [[2020, 7, 3]],\n",
       "    'date-time': '2020-07-03T09:51:04Z',\n",
       "    'timestamp': 1593769864000},\n",
       "   'score': 17.657764,\n",
       "   'issued': {'date-parts': [[2020, 12, 31]]},\n",
       "   'ISBN': ['9780804783064'],\n",
       "   'references-count': 0,\n",
       "   'URL': 'http://dx.doi.org/10.1515/9780804783064-001'}],\n",
       " 'items-per-page': 1,\n",
       " 'query': {'start-index': 0, 'search-terms': None}}"
      ]
     },
     "execution_count": 22,
     "metadata": {},
     "output_type": "execute_result"
    }
   ],
   "source": [
    "resp[\"message\"]"
   ]
  },
  {
   "cell_type": "code",
   "execution_count": 13,
   "metadata": {},
   "outputs": [
    {
     "data": {
      "text/plain": [
       "'Photojournalism is a vital resource for thinking, feeling, expressing, acting and dealing with problems of collective living, argues Robert Hariman and John Louis Lucaites. It is a kind of ‘equipment for living’. This article proposes the concept rhetorical working through as a way of describing how photojournalistic rhetoric functions as ‘equipment for living’. It argues that humans constantly perform three kinds of rhetorical working through: dealing with issues and arguments, dealing with social relations and dealing with identity and self.'"
      ]
     },
     "execution_count": 13,
     "metadata": {},
     "output_type": "execute_result"
    }
   ],
   "source": [
    "import re\n",
    "jats_regex = re.compile(r\"<jats:\\w*>|</jats:\\w*>\")#\"|</jats(.)*>\")\n",
    "#jats_regex.sub(\"\", doi_response['message'].get('abstract'))\n",
    "jats_regex.sub(\"\", doi_response['message'].get('abstract'))"
   ]
  },
  {
   "cell_type": "markdown",
   "metadata": {},
   "source": [
    "Further Filters\n",
    "\n",
    "from-pub-date\t{date}\tmetadata where published date is since (inclusive) {date}\n",
    "until-pub-date\t{date}\tmetadata where published date is before (inclusive) {date}\n",
    "from-online-pub-date\t{date}\tmetadata where online published date is since (inclusive) {date}\n",
    "until-online-pub-date\t{date}\tmetadata where online published date is before (inclusive) {date}\n",
    "from-print-pub-date\t{date}\tmetadata where print published date is since (inclusive) {date}\n",
    "until-print-pub-date\t{date}\tmetadata where print published date is before (inclusive) {date}"
   ]
  },
  {
   "cell_type": "code",
   "execution_count": null,
   "metadata": {
    "pycharm": {
     "name": "#%% \n"
    }
   },
   "outputs": [],
   "source": [
    "from sources.data_processing.repositories import CrossrefRepository\n",
    "from sources.data_processing.queries import JournalTimeIntervalQuery\n",
    "\n",
    "cr = CrossrefRepository()\n",
    "result = cr.execute_query(JournalTimeIntervalQuery())\n"
   ]
  },
  {
   "cell_type": "code",
   "execution_count": 7,
   "metadata": {
    "pycharm": {
     "name": "#%%\n"
    }
   },
   "outputs": [],
   "source": [
    "from habanero import Crossref\n",
    "cr = Crossref()\n",
    "to_select = [\n",
    "            \"abstract\",\n",
    "            \"title\",\n",
    "            \"original-title\",\n",
    "            \"issue\",\n",
    "            \"short-title\",\n",
    "            \"DOI\",\n",
    "            \"issued\",\n",
    "            \"volume\",\n",
    "            \"author\",\n",
    "            \"URL\",\n",
    "            \"ISSN\",\n",
    "            \"publisher\",\n",
    "        ]"
   ]
  },
  {
   "cell_type": "code",
   "execution_count": 14,
   "metadata": {},
   "outputs": [
    {
     "data": {
      "text/plain": [
       "[{'publisher': 'Wiley',\n",
       "  'issue': '2',\n",
       "  'DOI': '10.1111/jeb.13403',\n",
       "  'title': ['Releasing small ejaculates slowly increases per‐gamete fertilization success in an external fertilizer:\\n            Galeolaria caespitosa\\n            (Polychaeta: Serpulidae)'],\n",
       "  'volume': '32',\n",
       "  'author': [{'ORCID': 'http://orcid.org/0000-0001-6883-0367',\n",
       "    'authenticated-orcid': False,\n",
       "    'given': 'Colin',\n",
       "    'family': 'Olito',\n",
       "    'sequence': 'first',\n",
       "    'affiliation': [{'name': 'Centre for Geometric BiologySchool of Biological SciencesMonash University Clayton Victoria Australia'}]},\n",
       "   {'given': 'Dustin J.',\n",
       "    'family': 'Marshall',\n",
       "    'sequence': 'additional',\n",
       "    'affiliation': [{'name': 'Centre for Geometric BiologySchool of Biological SciencesMonash University Clayton Victoria Australia'}]}],\n",
       "  'issued': {'date-parts': [[2018, 12, 14]]},\n",
       "  'URL': 'http://dx.doi.org/10.1111/jeb.13403',\n",
       "  'ISSN': ['1010-061X', '1420-9101']},\n",
       " {'publisher': 'Wiley',\n",
       "  'issue': '2',\n",
       "  'DOI': '10.1111/jeb.13400',\n",
       "  'title': ['Developmental stress and telomere dynamics in a genetically polymorphic species'],\n",
       "  'volume': '32',\n",
       "  'author': [{'ORCID': 'http://orcid.org/0000-0001-5705-9845',\n",
       "    'authenticated-orcid': False,\n",
       "    'given': 'Andrea S.',\n",
       "    'family': 'Grunst',\n",
       "    'sequence': 'first',\n",
       "    'affiliation': [{'name': 'Department of BiologyThe Center for Genomic AdvocacyIndiana State University Terre Haute Indiana'},\n",
       "     {'name': 'Department of Biology, Behavioural Ecology and Ecophysiology Research GroupUniversity of Antwerp Wilrijk Belgium'}]},\n",
       "   {'ORCID': 'http://orcid.org/0000-0002-3425-4020',\n",
       "    'authenticated-orcid': False,\n",
       "    'given': 'Melissa L.',\n",
       "    'family': 'Grunst',\n",
       "    'sequence': 'additional',\n",
       "    'affiliation': [{'name': 'Department of BiologyThe Center for Genomic AdvocacyIndiana State University Terre Haute Indiana'},\n",
       "     {'name': 'Department of Biology, Behavioural Ecology and Ecophysiology Research GroupUniversity of Antwerp Wilrijk Belgium'}]},\n",
       "   {'ORCID': 'http://orcid.org/0000-0001-5612-246X',\n",
       "    'authenticated-orcid': False,\n",
       "    'given': 'Rusty A.',\n",
       "    'family': 'Gonser',\n",
       "    'sequence': 'additional',\n",
       "    'affiliation': [{'name': 'Department of BiologyThe Center for Genomic AdvocacyIndiana State University Terre Haute Indiana'}]},\n",
       "   {'given': 'Elaina M.',\n",
       "    'family': 'Tuttle',\n",
       "    'sequence': 'additional',\n",
       "    'affiliation': [{'name': 'Department of BiologyThe Center for Genomic AdvocacyIndiana State University Terre Haute Indiana'}]}],\n",
       "  'issued': {'date-parts': [[2018, 12, 3]]},\n",
       "  'URL': 'http://dx.doi.org/10.1111/jeb.13400',\n",
       "  'ISSN': ['1010-061X', '1420-9101']},\n",
       " {'publisher': 'Wiley',\n",
       "  'issue': '2',\n",
       "  'DOI': '10.1111/jeb.2019.32.issue-2',\n",
       "  'volume': '32',\n",
       "  'issued': {'date-parts': [[2018, 12, 3]]},\n",
       "  'URL': 'http://dx.doi.org/10.1111/jeb.2019.32.issue-2',\n",
       "  'ISSN': ['1010-061X', '1420-9101']},\n",
       " {'publisher': 'Wiley',\n",
       "  'issue': '5',\n",
       "  'DOI': '10.1111/jeb.13258',\n",
       "  'title': ['Egg‐laying environment modulates offspring responses to predation risk in an amphibian'],\n",
       "  'volume': '31',\n",
       "  'author': [{'ORCID': 'http://orcid.org/0000-0002-2634-8393',\n",
       "    'authenticated-orcid': False,\n",
       "    'given': 'Zoltán',\n",
       "    'family': 'Tóth',\n",
       "    'sequence': 'first',\n",
       "    'affiliation': [{'name': 'Lendület Evolutionary Ecology Research Group Plant Protection Institute Centre for Agricultural Research Hungarian Academy of Sciences Budapest Hungary'}]},\n",
       "   {'given': 'Attila',\n",
       "    'family': 'Hettyey',\n",
       "    'sequence': 'additional',\n",
       "    'affiliation': [{'name': 'Lendület Evolutionary Ecology Research Group Plant Protection Institute Centre for Agricultural Research Hungarian Academy of Sciences Budapest Hungary'}]}],\n",
       "  'issued': {'date-parts': [[2018, 3, 23]]},\n",
       "  'URL': 'http://dx.doi.org/10.1111/jeb.13258',\n",
       "  'ISSN': ['1010-061X', '1420-9101']},\n",
       " {'publisher': 'Wiley',\n",
       "  'DOI': '10.1111/jeb.13404',\n",
       "  'title': ['Moderate heritability and low evolvability of sperm morphology in a species with high risk of sperm competition, the collared flycatcher\\n            Ficedula albicollis'],\n",
       "  'author': [{'given': 'Anaïs',\n",
       "    'family': 'Edme',\n",
       "    'sequence': 'first',\n",
       "    'affiliation': [{'name': 'Department of Zoology and Laboratory of Ornithology Faculty of Science Palacky University Olomouc Czech Republic'}]},\n",
       "   {'given': 'Petr',\n",
       "    'family': 'Zobač',\n",
       "    'sequence': 'additional',\n",
       "    'affiliation': [{'name': 'Department of Zoology and Laboratory of Ornithology Faculty of Science Palacky University Olomouc Czech Republic'}]},\n",
       "   {'given': 'Peter',\n",
       "    'family': 'Korsten',\n",
       "    'sequence': 'additional',\n",
       "    'affiliation': [{'name': 'Department of Animal Behaviour Bielefeld University Bielefeld Germany'}]},\n",
       "   {'given': 'Tomáš',\n",
       "    'family': 'Albrecht',\n",
       "    'sequence': 'additional',\n",
       "    'affiliation': [{'name': 'Institute of Vertebrate Biology Czech Academy of Sciences Brno Czech Republic'},\n",
       "     {'name': 'Department of Zoology Faculty of Science Charles University in Prague Prague Czech Republic'}]},\n",
       "   {'given': 'Tim',\n",
       "    'family': 'Schmoll',\n",
       "    'sequence': 'additional',\n",
       "    'affiliation': [{'name': 'Evolutionary Biology Bielefeld University Bielefeld Germany'}]},\n",
       "   {'ORCID': 'http://orcid.org/0000-0002-6183-686X',\n",
       "    'authenticated-orcid': False,\n",
       "    'given': 'Miloš',\n",
       "    'family': 'Krist',\n",
       "    'sequence': 'additional',\n",
       "    'affiliation': [{'name': 'Department of Zoology and Laboratory of Ornithology Faculty of Science Palacky University Olomouc Czech Republic'},\n",
       "     {'name': 'Museum of Natural History Olomouc Czech Republic'}]}],\n",
       "  'issued': {'date-parts': [[2018, 12, 10]]},\n",
       "  'URL': 'http://dx.doi.org/10.1111/jeb.13404',\n",
       "  'ISSN': ['1010-061X', '1420-9101']},\n",
       " {'publisher': 'Wiley',\n",
       "  'issue': '5',\n",
       "  'DOI': '10.1111/jeb.13261',\n",
       "  'title': ['Animal behaviour and algal camouflage jointly structure predation and selection'],\n",
       "  'volume': '31',\n",
       "  'author': [{'ORCID': 'http://orcid.org/0000-0003-3036-9880',\n",
       "    'authenticated-orcid': False,\n",
       "    'given': 'Denon',\n",
       "    'family': 'Start',\n",
       "    'sequence': 'first',\n",
       "    'affiliation': [{'name': 'Ecology &amp; Evolutionary Biology University of Toronto Toronto ON Canada'}]}],\n",
       "  'issued': {'date-parts': [[2018, 3, 22]]},\n",
       "  'URL': 'http://dx.doi.org/10.1111/jeb.13261',\n",
       "  'ISSN': ['1010-061X', '1420-9101']},\n",
       " {'publisher': 'Wiley',\n",
       "  'issue': '5',\n",
       "  'DOI': '10.1111/jeb.2018.31.issue-5',\n",
       "  'volume': '31',\n",
       "  'issued': {'date-parts': [[2018, 3, 3]]},\n",
       "  'URL': 'http://dx.doi.org/10.1111/jeb.2018.31.issue-5',\n",
       "  'ISSN': ['1010-061X', '1420-9101']},\n",
       " {'publisher': 'Wiley',\n",
       "  'issue': '5',\n",
       "  'DOI': '10.1111/jeb.13253',\n",
       "  'title': ['The evolutionary stability of attenuators that mask information about animals that social partners can exploit'],\n",
       "  'volume': '31',\n",
       "  'author': [{'given': 'Sean',\n",
       "    'family': 'Hackett',\n",
       "    'sequence': 'first',\n",
       "    'affiliation': [{'name': 'Department of Zoology University of Oxford Oxford UK'}]},\n",
       "   {'ORCID': 'http://orcid.org/0000-0001-8943-6609',\n",
       "    'authenticated-orcid': False,\n",
       "    'given': 'Graeme D.',\n",
       "    'family': 'Ruxton',\n",
       "    'sequence': 'additional',\n",
       "    'affiliation': [{'name': 'School of Biology University of St Andrews St Andrews UK'}]}],\n",
       "  'issued': {'date-parts': [[2018, 3, 23]]},\n",
       "  'URL': 'http://dx.doi.org/10.1111/jeb.13253',\n",
       "  'ISSN': ['1010-061X', '1420-9101']},\n",
       " {'publisher': 'Wiley',\n",
       "  'issue': '5',\n",
       "  'DOI': '10.1111/jeb.13251',\n",
       "  'title': ['A biomechanical analysis of prognathous and orthognathous insect head capsules: evidence for a many‐to‐one mapping of form to function'],\n",
       "  'volume': '31',\n",
       "  'author': [{'ORCID': 'http://orcid.org/0000-0003-4385-6039',\n",
       "    'authenticated-orcid': False,\n",
       "    'given': 'A.',\n",
       "    'family': 'Blanke',\n",
       "    'sequence': 'first',\n",
       "    'affiliation': [{'name': 'Institute of Zoology Biocenter Cologne University of Cologne Cologne Germany'},\n",
       "     {'name': 'Medical and Biological Engineering Research Group School of Engineering and Computer Science University of Hull Hull UK'}]},\n",
       "   {'given': 'M.',\n",
       "    'family': 'Pinheiro',\n",
       "    'sequence': 'additional',\n",
       "    'affiliation': [{'name': 'Medical and Biological Engineering Research Group School of Engineering and Computer Science University of Hull Hull UK'}]},\n",
       "   {'given': 'P. J.',\n",
       "    'family': 'Watson',\n",
       "    'sequence': 'additional',\n",
       "    'affiliation': [{'name': 'Medical and Biological Engineering Research Group School of Engineering and Computer Science University of Hull Hull UK'}]},\n",
       "   {'given': 'M. J.',\n",
       "    'family': 'Fagan',\n",
       "    'sequence': 'additional',\n",
       "    'affiliation': [{'name': 'Medical and Biological Engineering Research Group School of Engineering and Computer Science University of Hull Hull UK'}]}],\n",
       "  'issued': {'date-parts': [[2018, 3, 24]]},\n",
       "  'URL': 'http://dx.doi.org/10.1111/jeb.13251',\n",
       "  'ISSN': ['1010-061X', '1420-9101']},\n",
       " {'publisher': 'Wiley',\n",
       "  'issue': '5',\n",
       "  'DOI': '10.1111/jeb.13250',\n",
       "  'title': ['Proximate mechanisms of the differences in reproductive success of males bearing different alleles of Pgdh – a gene involved in a sexual conflict in bulb mite'],\n",
       "  'volume': '31',\n",
       "  'author': [{'given': 'Anna M.',\n",
       "    'family': 'Skwierzyńska',\n",
       "    'sequence': 'first',\n",
       "    'affiliation': [{'name': 'Institute of Environmental Sciences Jagiellonian University Kraków Poland'}]},\n",
       "   {'given': 'Agata',\n",
       "    'family': 'Plesnar‐Bielak',\n",
       "    'sequence': 'additional',\n",
       "    'affiliation': [{'name': 'Institute of Environmental Sciences Jagiellonian University Kraków Poland'}]}],\n",
       "  'issued': {'date-parts': [[2018, 3, 23]]},\n",
       "  'URL': 'http://dx.doi.org/10.1111/jeb.13250',\n",
       "  'ISSN': ['1010-061X', '1420-9101']},\n",
       " {'publisher': 'Wiley',\n",
       "  'issue': '5',\n",
       "  'DOI': '10.1111/jeb.13255',\n",
       "  'title': ['Modelling the influence of parental effects on gene‐network evolution'],\n",
       "  'volume': '31',\n",
       "  'author': [{'ORCID': 'http://orcid.org/0000-0002-0895-2941',\n",
       "    'authenticated-orcid': False,\n",
       "    'given': 'Andreas',\n",
       "    'family': 'Odorico',\n",
       "    'sequence': 'first',\n",
       "    'affiliation': [{'name': 'Laboratoire Évolution, Génomes, Comportement, Écologie CNRS, IRD Univ. Paris‐Sud Université Paris‐Saclay Gif‐sur‐Yvette France'}]},\n",
       "   {'ORCID': 'http://orcid.org/0000-0001-7830-1573',\n",
       "    'authenticated-orcid': False,\n",
       "    'given': 'Estelle',\n",
       "    'family': 'Rünneburger',\n",
       "    'sequence': 'additional',\n",
       "    'affiliation': [{'name': 'Laboratoire Évolution, Génomes, Comportement, Écologie CNRS, IRD Univ. Paris‐Sud Université Paris‐Saclay Gif‐sur‐Yvette France'}]},\n",
       "   {'ORCID': 'http://orcid.org/0000-0002-2158-3458',\n",
       "    'authenticated-orcid': False,\n",
       "    'given': 'Arnaud',\n",
       "    'family': 'Le Rouzic',\n",
       "    'sequence': 'additional',\n",
       "    'affiliation': [{'name': 'Laboratoire Évolution, Génomes, Comportement, Écologie CNRS, IRD Univ. Paris‐Sud Université Paris‐Saclay Gif‐sur‐Yvette France'}]}],\n",
       "  'issued': {'date-parts': [[2018, 3, 24]]},\n",
       "  'URL': 'http://dx.doi.org/10.1111/jeb.13255',\n",
       "  'ISSN': ['1010-061X', '1420-9101']},\n",
       " {'publisher': 'Wiley',\n",
       "  'issue': '5',\n",
       "  'DOI': '10.1111/jeb.13158',\n",
       "  'title': ['Issue Information'],\n",
       "  'volume': '31',\n",
       "  'issued': {'date-parts': [[2018, 5]]},\n",
       "  'URL': 'http://dx.doi.org/10.1111/jeb.13158',\n",
       "  'ISSN': ['1010-061X', '1420-9101']},\n",
       " {'publisher': 'Wiley',\n",
       "  'issue': '5',\n",
       "  'DOI': '10.1111/jeb.13276',\n",
       "  'title': ['Corrigendum: A multigenerational effect of parental age on offspring size but not fitness in common duckweed (\\n            Lemna minor\\n            )'],\n",
       "  'volume': '31',\n",
       "  'issued': {'date-parts': [[2018, 5]]},\n",
       "  'URL': 'http://dx.doi.org/10.1111/jeb.13276',\n",
       "  'ISSN': ['1010-061X', '1420-9101']},\n",
       " {'publisher': 'Wiley',\n",
       "  'issue': '5',\n",
       "  'DOI': '10.1111/jeb.13260',\n",
       "  'title': ['Correlated evolution of thermal niches and functional physiology in tropical freshwater fishes'],\n",
       "  'volume': '31',\n",
       "  'author': [{'ORCID': 'http://orcid.org/0000-0002-4662-1932',\n",
       "    'authenticated-orcid': False,\n",
       "    'given': 'Zachary W.',\n",
       "    'family': 'Culumber',\n",
       "    'sequence': 'first',\n",
       "    'affiliation': [{'name': 'Division of Biology Kansas State University Manhattan KS USA'}]},\n",
       "   {'ORCID': 'http://orcid.org/0000-0002-0326-0890',\n",
       "    'authenticated-orcid': False,\n",
       "    'given': 'Michael',\n",
       "    'family': 'Tobler',\n",
       "    'sequence': 'additional',\n",
       "    'affiliation': [{'name': 'Division of Biology Kansas State University Manhattan KS USA'}]}],\n",
       "  'issued': {'date-parts': [[2018, 3, 26]]},\n",
       "  'URL': 'http://dx.doi.org/10.1111/jeb.13260',\n",
       "  'ISSN': ['1010-061X', '1420-9101']},\n",
       " {'publisher': 'Wiley',\n",
       "  'issue': '5',\n",
       "  'DOI': '10.1111/jeb.13265',\n",
       "  'title': ['Host association influences variation at salivary protein genes in the bat ectoparasite\\n            Cimex adjunctus'],\n",
       "  'volume': '31',\n",
       "  'author': [{'ORCID': 'http://orcid.org/0000-0002-3567-1213',\n",
       "    'authenticated-orcid': False,\n",
       "    'given': 'Benoit',\n",
       "    'family': 'Talbot',\n",
       "    'sequence': 'first',\n",
       "    'affiliation': [{'name': 'Department of Biology University of Western Ontario London ON Canada'}]},\n",
       "   {'given': 'Maarten J.',\n",
       "    'family': 'Vonhof',\n",
       "    'sequence': 'additional',\n",
       "    'affiliation': [{'name': 'Department of Biological Sciences Western Michigan University Kalamazoo MI USA'}]},\n",
       "   {'given': 'Hugh G.',\n",
       "    'family': 'Broders',\n",
       "    'sequence': 'additional',\n",
       "    'affiliation': [{'name': 'Department of Biology University of Waterloo Waterloo ON Canada'}]},\n",
       "   {'given': 'Brock',\n",
       "    'family': 'Fenton',\n",
       "    'sequence': 'additional',\n",
       "    'affiliation': [{'name': 'Department of Biology University of Western Ontario London ON Canada'}]},\n",
       "   {'given': 'Nusha',\n",
       "    'family': 'Keyghobadi',\n",
       "    'sequence': 'additional',\n",
       "    'affiliation': [{'name': 'Department of Biology University of Western Ontario London ON Canada'}]}],\n",
       "  'issued': {'date-parts': [[2018, 4, 11]]},\n",
       "  'URL': 'http://dx.doi.org/10.1111/jeb.13265',\n",
       "  'ISSN': ['1010-061X', '1420-9101']},\n",
       " {'publisher': 'Wiley',\n",
       "  'issue': '5',\n",
       "  'DOI': '10.1111/jeb.13254',\n",
       "  'title': ['Flexible parents: joint effects of handicapping and brood size manipulation on female parental care in\\n            Nicrophorus vespilloides'],\n",
       "  'volume': '31',\n",
       "  'author': [{'ORCID': 'http://orcid.org/0000-0002-4215-277X',\n",
       "    'authenticated-orcid': False,\n",
       "    'given': 'Tom',\n",
       "    'family': 'Ratz',\n",
       "    'sequence': 'first',\n",
       "    'affiliation': [{'name': 'Institute of Evolutionary Biology University of Edinburgh Edinburgh UK'}]},\n",
       "   {'given': 'Per T.',\n",
       "    'family': 'Smiseth',\n",
       "    'sequence': 'additional',\n",
       "    'affiliation': [{'name': 'Institute of Evolutionary Biology University of Edinburgh Edinburgh UK'}]}],\n",
       "  'issued': {'date-parts': [[2018, 3, 21]]},\n",
       "  'URL': 'http://dx.doi.org/10.1111/jeb.13254',\n",
       "  'ISSN': ['1010-061X', '1420-9101']},\n",
       " {'publisher': 'Wiley',\n",
       "  'issue': '5',\n",
       "  'DOI': '10.1111/jeb.13264',\n",
       "  'title': ['Adaptation in temporally variable environments: stickleback armor in periodically breaching bar‐built estuaries'],\n",
       "  'volume': '31',\n",
       "  'author': [{'ORCID': 'http://orcid.org/0000-0003-0738-5540',\n",
       "    'authenticated-orcid': False,\n",
       "    'given': 'Antoine',\n",
       "    'family': 'Paccard',\n",
       "    'sequence': 'first',\n",
       "    'affiliation': [{'name': 'Redpath Museum and Department of Biology McGill University Montreal QC Canada'}]},\n",
       "   {'given': 'Ben A.',\n",
       "    'family': 'Wasserman',\n",
       "    'sequence': 'additional',\n",
       "    'affiliation': [{'name': 'Department of Ecology and Evolutionary Biology University of California Santa Cruz CA USA'}]},\n",
       "   {'given': 'Dieta',\n",
       "    'family': 'Hanson',\n",
       "    'sequence': 'additional',\n",
       "    'affiliation': [{'name': 'Redpath Museum and Department of Biology McGill University Montreal QC Canada'}]},\n",
       "   {'given': 'Louis',\n",
       "    'family': 'Astorg',\n",
       "    'sequence': 'additional',\n",
       "    'affiliation': [{'name': 'Pavillon des Sciences Biologiques Université du Québec à Montréal Montréal QC Canada'}]},\n",
       "   {'given': 'Dan',\n",
       "    'family': 'Durston',\n",
       "    'sequence': 'additional',\n",
       "    'affiliation': [{'name': 'Department of Biology University of Victoria Victoria BC Canada'}]},\n",
       "   {'given': 'Sara',\n",
       "    'family': 'Kurland',\n",
       "    'sequence': 'additional',\n",
       "    'affiliation': [{'name': 'Zoologiska Institutionen: Populations Genetik Stockholm University Stockholm Sweden'}]},\n",
       "   {'given': 'Travis M.',\n",
       "    'family': 'Apgar',\n",
       "    'sequence': 'additional',\n",
       "    'affiliation': [{'name': 'Department of Ecology and Evolutionary Biology University of California Santa Cruz CA USA'}]},\n",
       "   {'given': 'Rana W.',\n",
       "    'family': 'El‐Sabaawi',\n",
       "    'sequence': 'additional',\n",
       "    'affiliation': [{'name': 'Department of Biology University of Victoria Victoria BC Canada'}]},\n",
       "   {'given': 'Eric P.',\n",
       "    'family': 'Palkovacs',\n",
       "    'sequence': 'additional',\n",
       "    'affiliation': [{'name': 'Department of Ecology and Evolutionary Biology University of California Santa Cruz CA USA'}]},\n",
       "   {'given': 'Andrew P.',\n",
       "    'family': 'Hendry',\n",
       "    'sequence': 'additional',\n",
       "    'affiliation': [{'name': 'Redpath Museum and Department of Biology McGill University Montreal QC Canada'}]},\n",
       "   {'given': 'Rowan D. H.',\n",
       "    'family': 'Barrett',\n",
       "    'sequence': 'additional',\n",
       "    'affiliation': [{'name': 'Redpath Museum and Department of Biology McGill University Montreal QC Canada'}]}],\n",
       "  'issued': {'date-parts': [[2018, 4, 6]]},\n",
       "  'URL': 'http://dx.doi.org/10.1111/jeb.13264',\n",
       "  'ISSN': ['1010-061X', '1420-9101']},\n",
       " {'publisher': 'Wiley',\n",
       "  'issue': '5',\n",
       "  'DOI': '10.1111/jeb.13257',\n",
       "  'title': ['Structure versus time in the evolutionary diversification of avian carotenoid metabolic networks'],\n",
       "  'volume': '31',\n",
       "  'author': [{'ORCID': 'http://orcid.org/0000-0002-4487-6915',\n",
       "    'authenticated-orcid': False,\n",
       "    'given': 'Erin S.',\n",
       "    'family': 'Morrison',\n",
       "    'sequence': 'first',\n",
       "    'affiliation': [{'name': 'Department of Ecology and Evolutionary Biology University of Arizona Tucson AZ USA'}]},\n",
       "   {'given': 'Alexander V.',\n",
       "    'family': 'Badyaev',\n",
       "    'sequence': 'additional',\n",
       "    'affiliation': [{'name': 'Department of Ecology and Evolutionary Biology University of Arizona Tucson AZ USA'}]}],\n",
       "  'issued': {'date-parts': [[2018, 3, 24]]},\n",
       "  'URL': 'http://dx.doi.org/10.1111/jeb.13257',\n",
       "  'ISSN': ['1010-061X', '1420-9101']},\n",
       " {'publisher': 'Wiley',\n",
       "  'issue': '5',\n",
       "  'DOI': '10.1111/jeb.13256',\n",
       "  'title': ['Pelvis morphology suggests that early Mesozoic birds were too heavy to contact incubate their eggs'],\n",
       "  'volume': '31',\n",
       "  'author': [{'ORCID': 'http://orcid.org/0000-0002-9587-6149',\n",
       "    'authenticated-orcid': False,\n",
       "    'given': 'D.',\n",
       "    'family': 'Charles Deeming',\n",
       "    'sequence': 'first',\n",
       "    'affiliation': [{'name': 'Joseph Banks Laboratories School of Life Sciences University of Lincoln Lincoln UK'}]},\n",
       "   {'given': 'Gerald',\n",
       "    'family': 'Mayr',\n",
       "    'sequence': 'additional',\n",
       "    'affiliation': [{'name': 'Ornithological Section Senckenberg Research Institute and Natural History Museum Frankfurt Frankfurt am Main Germany'}]}],\n",
       "  'issued': {'date-parts': [[2018, 3, 26]]},\n",
       "  'URL': 'http://dx.doi.org/10.1111/jeb.13256',\n",
       "  'ISSN': ['1010-061X', '1420-9101']},\n",
       " {'publisher': 'Wiley',\n",
       "  'issue': '4',\n",
       "  'DOI': '10.1111/jeb.13289',\n",
       "  'title': ['Retracted: The evolutionary history of colour polymorphism in\\n            Ischnura\\n            damselflies'],\n",
       "  'volume': '33',\n",
       "  'author': [{'given': 'Rosa A.',\n",
       "    'family': 'Sánchez-Guillén',\n",
       "    'sequence': 'first',\n",
       "    'affiliation': []},\n",
       "   {'given': 'Adolfo',\n",
       "    'family': 'Cordero-Rivera',\n",
       "    'sequence': 'additional',\n",
       "    'affiliation': []},\n",
       "   {'given': 'Anais',\n",
       "    'family': 'Rivas-Torres',\n",
       "    'sequence': 'additional',\n",
       "    'affiliation': []},\n",
       "   {'given': 'Maren',\n",
       "    'family': 'Wellenreuther',\n",
       "    'sequence': 'additional',\n",
       "    'affiliation': []},\n",
       "   {'given': 'Seth',\n",
       "    'family': 'Bybee',\n",
       "    'sequence': 'additional',\n",
       "    'affiliation': []},\n",
       "   {'given': 'Bengt',\n",
       "    'family': 'Hansson',\n",
       "    'sequence': 'additional',\n",
       "    'affiliation': []},\n",
       "   {'given': 'María I.',\n",
       "    'family': 'Velasquez-Vélez',\n",
       "    'sequence': 'additional',\n",
       "    'affiliation': []},\n",
       "   {'given': 'Emilio',\n",
       "    'family': 'Realpe',\n",
       "    'sequence': 'additional',\n",
       "    'affiliation': []},\n",
       "   {'given': 'Jesús R.',\n",
       "    'family': 'Chávez-Ríos',\n",
       "    'sequence': 'additional',\n",
       "    'affiliation': []},\n",
       "   {'given': 'Fabricio',\n",
       "    'family': 'Villalobos',\n",
       "    'sequence': 'additional',\n",
       "    'affiliation': []},\n",
       "   {'given': 'Henri',\n",
       "    'family': 'Dumont',\n",
       "    'sequence': 'additional',\n",
       "    'affiliation': []}],\n",
       "  'issued': {'date-parts': [[2018, 5, 24]]},\n",
       "  'URL': 'http://dx.doi.org/10.1111/jeb.13289',\n",
       "  'ISSN': ['1010-061X', '1420-9101']}]"
      ]
     },
     "execution_count": 14,
     "metadata": {},
     "output_type": "execute_result"
    }
   ],
   "source": [
    "resp = cr.journals(ids=[\"1420 - 9101\"], works=True, select=to_select, filter={\"from-pub-date\":\"2018-01-01\", \"until-pub-date\":\"2019-01-01\"})\n",
    "resp[\"message\"][\"items\"]"
   ]
  },
  {
   "cell_type": "code",
   "execution_count": 15,
   "metadata": {},
   "outputs": [
    {
     "data": {
      "text/plain": [
       "{'facets': {},\n",
       " 'total-results': 22,\n",
       " 'items': [{'publisher': 'Wiley',\n",
       "   'issue': '2',\n",
       "   'DOI': '10.1111/jeb.13403',\n",
       "   'title': ['Releasing small ejaculates slowly increases per‐gamete fertilization success in an external fertilizer:\\n            Galeolaria caespitosa\\n            (Polychaeta: Serpulidae)'],\n",
       "   'volume': '32',\n",
       "   'author': [{'ORCID': 'http://orcid.org/0000-0001-6883-0367',\n",
       "     'authenticated-orcid': False,\n",
       "     'given': 'Colin',\n",
       "     'family': 'Olito',\n",
       "     'sequence': 'first',\n",
       "     'affiliation': [{'name': 'Centre for Geometric BiologySchool of Biological SciencesMonash University Clayton Victoria Australia'}]},\n",
       "    {'given': 'Dustin J.',\n",
       "     'family': 'Marshall',\n",
       "     'sequence': 'additional',\n",
       "     'affiliation': [{'name': 'Centre for Geometric BiologySchool of Biological SciencesMonash University Clayton Victoria Australia'}]}],\n",
       "   'issued': {'date-parts': [[2018, 12, 14]]},\n",
       "   'URL': 'http://dx.doi.org/10.1111/jeb.13403',\n",
       "   'ISSN': ['1010-061X', '1420-9101']},\n",
       "  {'publisher': 'Wiley',\n",
       "   'issue': '2',\n",
       "   'DOI': '10.1111/jeb.13400',\n",
       "   'title': ['Developmental stress and telomere dynamics in a genetically polymorphic species'],\n",
       "   'volume': '32',\n",
       "   'author': [{'ORCID': 'http://orcid.org/0000-0001-5705-9845',\n",
       "     'authenticated-orcid': False,\n",
       "     'given': 'Andrea S.',\n",
       "     'family': 'Grunst',\n",
       "     'sequence': 'first',\n",
       "     'affiliation': [{'name': 'Department of BiologyThe Center for Genomic AdvocacyIndiana State University Terre Haute Indiana'},\n",
       "      {'name': 'Department of Biology, Behavioural Ecology and Ecophysiology Research GroupUniversity of Antwerp Wilrijk Belgium'}]},\n",
       "    {'ORCID': 'http://orcid.org/0000-0002-3425-4020',\n",
       "     'authenticated-orcid': False,\n",
       "     'given': 'Melissa L.',\n",
       "     'family': 'Grunst',\n",
       "     'sequence': 'additional',\n",
       "     'affiliation': [{'name': 'Department of BiologyThe Center for Genomic AdvocacyIndiana State University Terre Haute Indiana'},\n",
       "      {'name': 'Department of Biology, Behavioural Ecology and Ecophysiology Research GroupUniversity of Antwerp Wilrijk Belgium'}]},\n",
       "    {'ORCID': 'http://orcid.org/0000-0001-5612-246X',\n",
       "     'authenticated-orcid': False,\n",
       "     'given': 'Rusty A.',\n",
       "     'family': 'Gonser',\n",
       "     'sequence': 'additional',\n",
       "     'affiliation': [{'name': 'Department of BiologyThe Center for Genomic AdvocacyIndiana State University Terre Haute Indiana'}]},\n",
       "    {'given': 'Elaina M.',\n",
       "     'family': 'Tuttle',\n",
       "     'sequence': 'additional',\n",
       "     'affiliation': [{'name': 'Department of BiologyThe Center for Genomic AdvocacyIndiana State University Terre Haute Indiana'}]}],\n",
       "   'issued': {'date-parts': [[2018, 12, 3]]},\n",
       "   'URL': 'http://dx.doi.org/10.1111/jeb.13400',\n",
       "   'ISSN': ['1010-061X', '1420-9101']},\n",
       "  {'publisher': 'Wiley',\n",
       "   'issue': '2',\n",
       "   'DOI': '10.1111/jeb.2019.32.issue-2',\n",
       "   'volume': '32',\n",
       "   'issued': {'date-parts': [[2018, 12, 3]]},\n",
       "   'URL': 'http://dx.doi.org/10.1111/jeb.2019.32.issue-2',\n",
       "   'ISSN': ['1010-061X', '1420-9101']},\n",
       "  {'publisher': 'Wiley',\n",
       "   'issue': '5',\n",
       "   'DOI': '10.1111/jeb.13258',\n",
       "   'title': ['Egg‐laying environment modulates offspring responses to predation risk in an amphibian'],\n",
       "   'volume': '31',\n",
       "   'author': [{'ORCID': 'http://orcid.org/0000-0002-2634-8393',\n",
       "     'authenticated-orcid': False,\n",
       "     'given': 'Zoltán',\n",
       "     'family': 'Tóth',\n",
       "     'sequence': 'first',\n",
       "     'affiliation': [{'name': 'Lendület Evolutionary Ecology Research Group Plant Protection Institute Centre for Agricultural Research Hungarian Academy of Sciences Budapest Hungary'}]},\n",
       "    {'given': 'Attila',\n",
       "     'family': 'Hettyey',\n",
       "     'sequence': 'additional',\n",
       "     'affiliation': [{'name': 'Lendület Evolutionary Ecology Research Group Plant Protection Institute Centre for Agricultural Research Hungarian Academy of Sciences Budapest Hungary'}]}],\n",
       "   'issued': {'date-parts': [[2018, 3, 23]]},\n",
       "   'URL': 'http://dx.doi.org/10.1111/jeb.13258',\n",
       "   'ISSN': ['1010-061X', '1420-9101']},\n",
       "  {'publisher': 'Wiley',\n",
       "   'DOI': '10.1111/jeb.13404',\n",
       "   'title': ['Moderate heritability and low evolvability of sperm morphology in a species with high risk of sperm competition, the collared flycatcher\\n            Ficedula albicollis'],\n",
       "   'author': [{'given': 'Anaïs',\n",
       "     'family': 'Edme',\n",
       "     'sequence': 'first',\n",
       "     'affiliation': [{'name': 'Department of Zoology and Laboratory of Ornithology Faculty of Science Palacky University Olomouc Czech Republic'}]},\n",
       "    {'given': 'Petr',\n",
       "     'family': 'Zobač',\n",
       "     'sequence': 'additional',\n",
       "     'affiliation': [{'name': 'Department of Zoology and Laboratory of Ornithology Faculty of Science Palacky University Olomouc Czech Republic'}]},\n",
       "    {'given': 'Peter',\n",
       "     'family': 'Korsten',\n",
       "     'sequence': 'additional',\n",
       "     'affiliation': [{'name': 'Department of Animal Behaviour Bielefeld University Bielefeld Germany'}]},\n",
       "    {'given': 'Tomáš',\n",
       "     'family': 'Albrecht',\n",
       "     'sequence': 'additional',\n",
       "     'affiliation': [{'name': 'Institute of Vertebrate Biology Czech Academy of Sciences Brno Czech Republic'},\n",
       "      {'name': 'Department of Zoology Faculty of Science Charles University in Prague Prague Czech Republic'}]},\n",
       "    {'given': 'Tim',\n",
       "     'family': 'Schmoll',\n",
       "     'sequence': 'additional',\n",
       "     'affiliation': [{'name': 'Evolutionary Biology Bielefeld University Bielefeld Germany'}]},\n",
       "    {'ORCID': 'http://orcid.org/0000-0002-6183-686X',\n",
       "     'authenticated-orcid': False,\n",
       "     'given': 'Miloš',\n",
       "     'family': 'Krist',\n",
       "     'sequence': 'additional',\n",
       "     'affiliation': [{'name': 'Department of Zoology and Laboratory of Ornithology Faculty of Science Palacky University Olomouc Czech Republic'},\n",
       "      {'name': 'Museum of Natural History Olomouc Czech Republic'}]}],\n",
       "   'issued': {'date-parts': [[2018, 12, 10]]},\n",
       "   'URL': 'http://dx.doi.org/10.1111/jeb.13404',\n",
       "   'ISSN': ['1010-061X', '1420-9101']},\n",
       "  {'publisher': 'Wiley',\n",
       "   'issue': '5',\n",
       "   'DOI': '10.1111/jeb.13261',\n",
       "   'title': ['Animal behaviour and algal camouflage jointly structure predation and selection'],\n",
       "   'volume': '31',\n",
       "   'author': [{'ORCID': 'http://orcid.org/0000-0003-3036-9880',\n",
       "     'authenticated-orcid': False,\n",
       "     'given': 'Denon',\n",
       "     'family': 'Start',\n",
       "     'sequence': 'first',\n",
       "     'affiliation': [{'name': 'Ecology &amp; Evolutionary Biology University of Toronto Toronto ON Canada'}]}],\n",
       "   'issued': {'date-parts': [[2018, 3, 22]]},\n",
       "   'URL': 'http://dx.doi.org/10.1111/jeb.13261',\n",
       "   'ISSN': ['1010-061X', '1420-9101']},\n",
       "  {'publisher': 'Wiley',\n",
       "   'issue': '5',\n",
       "   'DOI': '10.1111/jeb.2018.31.issue-5',\n",
       "   'volume': '31',\n",
       "   'issued': {'date-parts': [[2018, 3, 3]]},\n",
       "   'URL': 'http://dx.doi.org/10.1111/jeb.2018.31.issue-5',\n",
       "   'ISSN': ['1010-061X', '1420-9101']},\n",
       "  {'publisher': 'Wiley',\n",
       "   'issue': '5',\n",
       "   'DOI': '10.1111/jeb.13253',\n",
       "   'title': ['The evolutionary stability of attenuators that mask information about animals that social partners can exploit'],\n",
       "   'volume': '31',\n",
       "   'author': [{'given': 'Sean',\n",
       "     'family': 'Hackett',\n",
       "     'sequence': 'first',\n",
       "     'affiliation': [{'name': 'Department of Zoology University of Oxford Oxford UK'}]},\n",
       "    {'ORCID': 'http://orcid.org/0000-0001-8943-6609',\n",
       "     'authenticated-orcid': False,\n",
       "     'given': 'Graeme D.',\n",
       "     'family': 'Ruxton',\n",
       "     'sequence': 'additional',\n",
       "     'affiliation': [{'name': 'School of Biology University of St Andrews St Andrews UK'}]}],\n",
       "   'issued': {'date-parts': [[2018, 3, 23]]},\n",
       "   'URL': 'http://dx.doi.org/10.1111/jeb.13253',\n",
       "   'ISSN': ['1010-061X', '1420-9101']},\n",
       "  {'publisher': 'Wiley',\n",
       "   'issue': '5',\n",
       "   'DOI': '10.1111/jeb.13251',\n",
       "   'title': ['A biomechanical analysis of prognathous and orthognathous insect head capsules: evidence for a many‐to‐one mapping of form to function'],\n",
       "   'volume': '31',\n",
       "   'author': [{'ORCID': 'http://orcid.org/0000-0003-4385-6039',\n",
       "     'authenticated-orcid': False,\n",
       "     'given': 'A.',\n",
       "     'family': 'Blanke',\n",
       "     'sequence': 'first',\n",
       "     'affiliation': [{'name': 'Institute of Zoology Biocenter Cologne University of Cologne Cologne Germany'},\n",
       "      {'name': 'Medical and Biological Engineering Research Group School of Engineering and Computer Science University of Hull Hull UK'}]},\n",
       "    {'given': 'M.',\n",
       "     'family': 'Pinheiro',\n",
       "     'sequence': 'additional',\n",
       "     'affiliation': [{'name': 'Medical and Biological Engineering Research Group School of Engineering and Computer Science University of Hull Hull UK'}]},\n",
       "    {'given': 'P. J.',\n",
       "     'family': 'Watson',\n",
       "     'sequence': 'additional',\n",
       "     'affiliation': [{'name': 'Medical and Biological Engineering Research Group School of Engineering and Computer Science University of Hull Hull UK'}]},\n",
       "    {'given': 'M. J.',\n",
       "     'family': 'Fagan',\n",
       "     'sequence': 'additional',\n",
       "     'affiliation': [{'name': 'Medical and Biological Engineering Research Group School of Engineering and Computer Science University of Hull Hull UK'}]}],\n",
       "   'issued': {'date-parts': [[2018, 3, 24]]},\n",
       "   'URL': 'http://dx.doi.org/10.1111/jeb.13251',\n",
       "   'ISSN': ['1010-061X', '1420-9101']},\n",
       "  {'publisher': 'Wiley',\n",
       "   'issue': '5',\n",
       "   'DOI': '10.1111/jeb.13250',\n",
       "   'title': ['Proximate mechanisms of the differences in reproductive success of males bearing different alleles of Pgdh – a gene involved in a sexual conflict in bulb mite'],\n",
       "   'volume': '31',\n",
       "   'author': [{'given': 'Anna M.',\n",
       "     'family': 'Skwierzyńska',\n",
       "     'sequence': 'first',\n",
       "     'affiliation': [{'name': 'Institute of Environmental Sciences Jagiellonian University Kraków Poland'}]},\n",
       "    {'given': 'Agata',\n",
       "     'family': 'Plesnar‐Bielak',\n",
       "     'sequence': 'additional',\n",
       "     'affiliation': [{'name': 'Institute of Environmental Sciences Jagiellonian University Kraków Poland'}]}],\n",
       "   'issued': {'date-parts': [[2018, 3, 23]]},\n",
       "   'URL': 'http://dx.doi.org/10.1111/jeb.13250',\n",
       "   'ISSN': ['1010-061X', '1420-9101']},\n",
       "  {'publisher': 'Wiley',\n",
       "   'issue': '5',\n",
       "   'DOI': '10.1111/jeb.13255',\n",
       "   'title': ['Modelling the influence of parental effects on gene‐network evolution'],\n",
       "   'volume': '31',\n",
       "   'author': [{'ORCID': 'http://orcid.org/0000-0002-0895-2941',\n",
       "     'authenticated-orcid': False,\n",
       "     'given': 'Andreas',\n",
       "     'family': 'Odorico',\n",
       "     'sequence': 'first',\n",
       "     'affiliation': [{'name': 'Laboratoire Évolution, Génomes, Comportement, Écologie CNRS, IRD Univ. Paris‐Sud Université Paris‐Saclay Gif‐sur‐Yvette France'}]},\n",
       "    {'ORCID': 'http://orcid.org/0000-0001-7830-1573',\n",
       "     'authenticated-orcid': False,\n",
       "     'given': 'Estelle',\n",
       "     'family': 'Rünneburger',\n",
       "     'sequence': 'additional',\n",
       "     'affiliation': [{'name': 'Laboratoire Évolution, Génomes, Comportement, Écologie CNRS, IRD Univ. Paris‐Sud Université Paris‐Saclay Gif‐sur‐Yvette France'}]},\n",
       "    {'ORCID': 'http://orcid.org/0000-0002-2158-3458',\n",
       "     'authenticated-orcid': False,\n",
       "     'given': 'Arnaud',\n",
       "     'family': 'Le Rouzic',\n",
       "     'sequence': 'additional',\n",
       "     'affiliation': [{'name': 'Laboratoire Évolution, Génomes, Comportement, Écologie CNRS, IRD Univ. Paris‐Sud Université Paris‐Saclay Gif‐sur‐Yvette France'}]}],\n",
       "   'issued': {'date-parts': [[2018, 3, 24]]},\n",
       "   'URL': 'http://dx.doi.org/10.1111/jeb.13255',\n",
       "   'ISSN': ['1010-061X', '1420-9101']},\n",
       "  {'publisher': 'Wiley',\n",
       "   'issue': '5',\n",
       "   'DOI': '10.1111/jeb.13158',\n",
       "   'title': ['Issue Information'],\n",
       "   'volume': '31',\n",
       "   'issued': {'date-parts': [[2018, 5]]},\n",
       "   'URL': 'http://dx.doi.org/10.1111/jeb.13158',\n",
       "   'ISSN': ['1010-061X', '1420-9101']},\n",
       "  {'publisher': 'Wiley',\n",
       "   'issue': '5',\n",
       "   'DOI': '10.1111/jeb.13276',\n",
       "   'title': ['Corrigendum: A multigenerational effect of parental age on offspring size but not fitness in common duckweed (\\n            Lemna minor\\n            )'],\n",
       "   'volume': '31',\n",
       "   'issued': {'date-parts': [[2018, 5]]},\n",
       "   'URL': 'http://dx.doi.org/10.1111/jeb.13276',\n",
       "   'ISSN': ['1010-061X', '1420-9101']},\n",
       "  {'publisher': 'Wiley',\n",
       "   'issue': '5',\n",
       "   'DOI': '10.1111/jeb.13260',\n",
       "   'title': ['Correlated evolution of thermal niches and functional physiology in tropical freshwater fishes'],\n",
       "   'volume': '31',\n",
       "   'author': [{'ORCID': 'http://orcid.org/0000-0002-4662-1932',\n",
       "     'authenticated-orcid': False,\n",
       "     'given': 'Zachary W.',\n",
       "     'family': 'Culumber',\n",
       "     'sequence': 'first',\n",
       "     'affiliation': [{'name': 'Division of Biology Kansas State University Manhattan KS USA'}]},\n",
       "    {'ORCID': 'http://orcid.org/0000-0002-0326-0890',\n",
       "     'authenticated-orcid': False,\n",
       "     'given': 'Michael',\n",
       "     'family': 'Tobler',\n",
       "     'sequence': 'additional',\n",
       "     'affiliation': [{'name': 'Division of Biology Kansas State University Manhattan KS USA'}]}],\n",
       "   'issued': {'date-parts': [[2018, 3, 26]]},\n",
       "   'URL': 'http://dx.doi.org/10.1111/jeb.13260',\n",
       "   'ISSN': ['1010-061X', '1420-9101']},\n",
       "  {'publisher': 'Wiley',\n",
       "   'issue': '5',\n",
       "   'DOI': '10.1111/jeb.13265',\n",
       "   'title': ['Host association influences variation at salivary protein genes in the bat ectoparasite\\n            Cimex adjunctus'],\n",
       "   'volume': '31',\n",
       "   'author': [{'ORCID': 'http://orcid.org/0000-0002-3567-1213',\n",
       "     'authenticated-orcid': False,\n",
       "     'given': 'Benoit',\n",
       "     'family': 'Talbot',\n",
       "     'sequence': 'first',\n",
       "     'affiliation': [{'name': 'Department of Biology University of Western Ontario London ON Canada'}]},\n",
       "    {'given': 'Maarten J.',\n",
       "     'family': 'Vonhof',\n",
       "     'sequence': 'additional',\n",
       "     'affiliation': [{'name': 'Department of Biological Sciences Western Michigan University Kalamazoo MI USA'}]},\n",
       "    {'given': 'Hugh G.',\n",
       "     'family': 'Broders',\n",
       "     'sequence': 'additional',\n",
       "     'affiliation': [{'name': 'Department of Biology University of Waterloo Waterloo ON Canada'}]},\n",
       "    {'given': 'Brock',\n",
       "     'family': 'Fenton',\n",
       "     'sequence': 'additional',\n",
       "     'affiliation': [{'name': 'Department of Biology University of Western Ontario London ON Canada'}]},\n",
       "    {'given': 'Nusha',\n",
       "     'family': 'Keyghobadi',\n",
       "     'sequence': 'additional',\n",
       "     'affiliation': [{'name': 'Department of Biology University of Western Ontario London ON Canada'}]}],\n",
       "   'issued': {'date-parts': [[2018, 4, 11]]},\n",
       "   'URL': 'http://dx.doi.org/10.1111/jeb.13265',\n",
       "   'ISSN': ['1010-061X', '1420-9101']},\n",
       "  {'publisher': 'Wiley',\n",
       "   'issue': '5',\n",
       "   'DOI': '10.1111/jeb.13254',\n",
       "   'title': ['Flexible parents: joint effects of handicapping and brood size manipulation on female parental care in\\n            Nicrophorus vespilloides'],\n",
       "   'volume': '31',\n",
       "   'author': [{'ORCID': 'http://orcid.org/0000-0002-4215-277X',\n",
       "     'authenticated-orcid': False,\n",
       "     'given': 'Tom',\n",
       "     'family': 'Ratz',\n",
       "     'sequence': 'first',\n",
       "     'affiliation': [{'name': 'Institute of Evolutionary Biology University of Edinburgh Edinburgh UK'}]},\n",
       "    {'given': 'Per T.',\n",
       "     'family': 'Smiseth',\n",
       "     'sequence': 'additional',\n",
       "     'affiliation': [{'name': 'Institute of Evolutionary Biology University of Edinburgh Edinburgh UK'}]}],\n",
       "   'issued': {'date-parts': [[2018, 3, 21]]},\n",
       "   'URL': 'http://dx.doi.org/10.1111/jeb.13254',\n",
       "   'ISSN': ['1010-061X', '1420-9101']},\n",
       "  {'publisher': 'Wiley',\n",
       "   'issue': '5',\n",
       "   'DOI': '10.1111/jeb.13264',\n",
       "   'title': ['Adaptation in temporally variable environments: stickleback armor in periodically breaching bar‐built estuaries'],\n",
       "   'volume': '31',\n",
       "   'author': [{'ORCID': 'http://orcid.org/0000-0003-0738-5540',\n",
       "     'authenticated-orcid': False,\n",
       "     'given': 'Antoine',\n",
       "     'family': 'Paccard',\n",
       "     'sequence': 'first',\n",
       "     'affiliation': [{'name': 'Redpath Museum and Department of Biology McGill University Montreal QC Canada'}]},\n",
       "    {'given': 'Ben A.',\n",
       "     'family': 'Wasserman',\n",
       "     'sequence': 'additional',\n",
       "     'affiliation': [{'name': 'Department of Ecology and Evolutionary Biology University of California Santa Cruz CA USA'}]},\n",
       "    {'given': 'Dieta',\n",
       "     'family': 'Hanson',\n",
       "     'sequence': 'additional',\n",
       "     'affiliation': [{'name': 'Redpath Museum and Department of Biology McGill University Montreal QC Canada'}]},\n",
       "    {'given': 'Louis',\n",
       "     'family': 'Astorg',\n",
       "     'sequence': 'additional',\n",
       "     'affiliation': [{'name': 'Pavillon des Sciences Biologiques Université du Québec à Montréal Montréal QC Canada'}]},\n",
       "    {'given': 'Dan',\n",
       "     'family': 'Durston',\n",
       "     'sequence': 'additional',\n",
       "     'affiliation': [{'name': 'Department of Biology University of Victoria Victoria BC Canada'}]},\n",
       "    {'given': 'Sara',\n",
       "     'family': 'Kurland',\n",
       "     'sequence': 'additional',\n",
       "     'affiliation': [{'name': 'Zoologiska Institutionen: Populations Genetik Stockholm University Stockholm Sweden'}]},\n",
       "    {'given': 'Travis M.',\n",
       "     'family': 'Apgar',\n",
       "     'sequence': 'additional',\n",
       "     'affiliation': [{'name': 'Department of Ecology and Evolutionary Biology University of California Santa Cruz CA USA'}]},\n",
       "    {'given': 'Rana W.',\n",
       "     'family': 'El‐Sabaawi',\n",
       "     'sequence': 'additional',\n",
       "     'affiliation': [{'name': 'Department of Biology University of Victoria Victoria BC Canada'}]},\n",
       "    {'given': 'Eric P.',\n",
       "     'family': 'Palkovacs',\n",
       "     'sequence': 'additional',\n",
       "     'affiliation': [{'name': 'Department of Ecology and Evolutionary Biology University of California Santa Cruz CA USA'}]},\n",
       "    {'given': 'Andrew P.',\n",
       "     'family': 'Hendry',\n",
       "     'sequence': 'additional',\n",
       "     'affiliation': [{'name': 'Redpath Museum and Department of Biology McGill University Montreal QC Canada'}]},\n",
       "    {'given': 'Rowan D. H.',\n",
       "     'family': 'Barrett',\n",
       "     'sequence': 'additional',\n",
       "     'affiliation': [{'name': 'Redpath Museum and Department of Biology McGill University Montreal QC Canada'}]}],\n",
       "   'issued': {'date-parts': [[2018, 4, 6]]},\n",
       "   'URL': 'http://dx.doi.org/10.1111/jeb.13264',\n",
       "   'ISSN': ['1010-061X', '1420-9101']},\n",
       "  {'publisher': 'Wiley',\n",
       "   'issue': '5',\n",
       "   'DOI': '10.1111/jeb.13257',\n",
       "   'title': ['Structure versus time in the evolutionary diversification of avian carotenoid metabolic networks'],\n",
       "   'volume': '31',\n",
       "   'author': [{'ORCID': 'http://orcid.org/0000-0002-4487-6915',\n",
       "     'authenticated-orcid': False,\n",
       "     'given': 'Erin S.',\n",
       "     'family': 'Morrison',\n",
       "     'sequence': 'first',\n",
       "     'affiliation': [{'name': 'Department of Ecology and Evolutionary Biology University of Arizona Tucson AZ USA'}]},\n",
       "    {'given': 'Alexander V.',\n",
       "     'family': 'Badyaev',\n",
       "     'sequence': 'additional',\n",
       "     'affiliation': [{'name': 'Department of Ecology and Evolutionary Biology University of Arizona Tucson AZ USA'}]}],\n",
       "   'issued': {'date-parts': [[2018, 3, 24]]},\n",
       "   'URL': 'http://dx.doi.org/10.1111/jeb.13257',\n",
       "   'ISSN': ['1010-061X', '1420-9101']},\n",
       "  {'publisher': 'Wiley',\n",
       "   'issue': '5',\n",
       "   'DOI': '10.1111/jeb.13256',\n",
       "   'title': ['Pelvis morphology suggests that early Mesozoic birds were too heavy to contact incubate their eggs'],\n",
       "   'volume': '31',\n",
       "   'author': [{'ORCID': 'http://orcid.org/0000-0002-9587-6149',\n",
       "     'authenticated-orcid': False,\n",
       "     'given': 'D.',\n",
       "     'family': 'Charles Deeming',\n",
       "     'sequence': 'first',\n",
       "     'affiliation': [{'name': 'Joseph Banks Laboratories School of Life Sciences University of Lincoln Lincoln UK'}]},\n",
       "    {'given': 'Gerald',\n",
       "     'family': 'Mayr',\n",
       "     'sequence': 'additional',\n",
       "     'affiliation': [{'name': 'Ornithological Section Senckenberg Research Institute and Natural History Museum Frankfurt Frankfurt am Main Germany'}]}],\n",
       "   'issued': {'date-parts': [[2018, 3, 26]]},\n",
       "   'URL': 'http://dx.doi.org/10.1111/jeb.13256',\n",
       "   'ISSN': ['1010-061X', '1420-9101']},\n",
       "  {'publisher': 'Wiley',\n",
       "   'issue': '4',\n",
       "   'DOI': '10.1111/jeb.13289',\n",
       "   'title': ['Retracted: The evolutionary history of colour polymorphism in\\n            Ischnura\\n            damselflies'],\n",
       "   'volume': '33',\n",
       "   'author': [{'given': 'Rosa A.',\n",
       "     'family': 'Sánchez-Guillén',\n",
       "     'sequence': 'first',\n",
       "     'affiliation': []},\n",
       "    {'given': 'Adolfo',\n",
       "     'family': 'Cordero-Rivera',\n",
       "     'sequence': 'additional',\n",
       "     'affiliation': []},\n",
       "    {'given': 'Anais',\n",
       "     'family': 'Rivas-Torres',\n",
       "     'sequence': 'additional',\n",
       "     'affiliation': []},\n",
       "    {'given': 'Maren',\n",
       "     'family': 'Wellenreuther',\n",
       "     'sequence': 'additional',\n",
       "     'affiliation': []},\n",
       "    {'given': 'Seth',\n",
       "     'family': 'Bybee',\n",
       "     'sequence': 'additional',\n",
       "     'affiliation': []},\n",
       "    {'given': 'Bengt',\n",
       "     'family': 'Hansson',\n",
       "     'sequence': 'additional',\n",
       "     'affiliation': []},\n",
       "    {'given': 'María I.',\n",
       "     'family': 'Velasquez-Vélez',\n",
       "     'sequence': 'additional',\n",
       "     'affiliation': []},\n",
       "    {'given': 'Emilio',\n",
       "     'family': 'Realpe',\n",
       "     'sequence': 'additional',\n",
       "     'affiliation': []},\n",
       "    {'given': 'Jesús R.',\n",
       "     'family': 'Chávez-Ríos',\n",
       "     'sequence': 'additional',\n",
       "     'affiliation': []},\n",
       "    {'given': 'Fabricio',\n",
       "     'family': 'Villalobos',\n",
       "     'sequence': 'additional',\n",
       "     'affiliation': []},\n",
       "    {'given': 'Henri',\n",
       "     'family': 'Dumont',\n",
       "     'sequence': 'additional',\n",
       "     'affiliation': []}],\n",
       "   'issued': {'date-parts': [[2018, 5, 24]]},\n",
       "   'URL': 'http://dx.doi.org/10.1111/jeb.13289',\n",
       "   'ISSN': ['1010-061X', '1420-9101']}],\n",
       " 'items-per-page': 20,\n",
       " 'query': {'start-index': 0, 'search-terms': None}}"
      ]
     },
     "execution_count": 15,
     "metadata": {},
     "output_type": "execute_result"
    }
   ],
   "source": [
    "resp[\"message\"]"
   ]
  }
 ],
 "metadata": {
  "kernelspec": {
   "display_name": "Python 3",
   "language": "python",
   "name": "python3"
  },
  "language_info": {
   "codemirror_mode": {
    "name": "ipython",
    "version": 3
   },
   "file_extension": ".py",
   "mimetype": "text/x-python",
   "name": "python",
   "nbconvert_exporter": "python",
   "pygments_lexer": "ipython3",
   "version": "3.7.9"
  },
  "pycharm": {
   "stem_cell": {
    "cell_type": "raw",
    "metadata": {
     "collapsed": false
    },
    "source": []
   }
  }
 },
 "nbformat": 4,
 "nbformat_minor": 1
}
