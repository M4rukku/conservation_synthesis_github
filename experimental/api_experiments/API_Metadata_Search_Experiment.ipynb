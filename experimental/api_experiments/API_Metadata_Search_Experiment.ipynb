{
 "cells": [
  {
   "cell_type": "markdown",
   "metadata": {
    "pycharm": {
     "is_executing": false
    }
   },
   "source": [
    "## Openaire API"
   ]
  },
  {
   "cell_type": "code",
   "execution_count": 1,
   "metadata": {
    "pycharm": {
     "is_executing": false
    }
   },
   "outputs": [],
   "source": [
    "openaire_api_endpoint = \"http://api.openaire.eu/search/publications\"\n",
    "parameters = {\"size\" : \"3\", \"format\" : \"json\", \n",
    "               \"author\": \"Fuwen Wei, Yonggang Nie, Lei Shan; YiBo Hu\"} #\"title\" : \"xxx\","
   ]
  },
  {
   "cell_type": "code",
   "execution_count": null,
   "metadata": {
    "pycharm": {
     "is_executing": false,
     "name": "#%%\n"
    }
   },
   "outputs": [],
   "source": [
    "import requests\n",
    "response = requests.get(openaire_api_endpoint,\n",
    "                        params=parameters)"
   ]
  },
  {
   "cell_type": "code",
   "execution_count": null,
   "metadata": {
    "pycharm": {
     "is_executing": false
    }
   },
   "outputs": [],
   "source": [
    "import json\n",
    "response_dict = json.loads(response.text)\n",
    "#print(response_dict['response']['results']['result'][0]['metadata'])"
   ]
  },
  {
   "cell_type": "code",
   "execution_count": null,
   "metadata": {
    "pycharm": {
     "is_executing": false
    }
   },
   "outputs": [],
   "source": [
    "oaf_result_entity = response_dict['response']['results']['result'][0]['metadata']['oaf:entity']['oaf:result']"
   ]
  },
  {
   "cell_type": "code",
   "execution_count": null,
   "metadata": {
    "pycharm": {
     "is_executing": false
    }
   },
   "outputs": [],
   "source": [
    "oaf_result_entity.keys()\n",
    "#oaf_result_entity[ 'publisher']"
   ]
  },
  {
   "cell_type": "code",
   "execution_count": null,
   "metadata": {
    "pycharm": {
     "is_executing": false
    }
   },
   "outputs": [],
   "source": [
    "oaf_result_entity['pid']\n",
    "#oaf_result_entity['pid']['$']"
   ]
  },
  {
   "cell_type": "code",
   "execution_count": null,
   "metadata": {
    "pycharm": {
     "is_executing": false,
     "name": "#%%\n"
    }
   },
   "outputs": [],
   "source": [
    "oaf_result_entity['originalId'] #Contains DOI and ISSN!"
   ]
  },
  {
   "cell_type": "code",
   "execution_count": null,
   "metadata": {},
   "outputs": [],
   "source": [
    "oaf_result_entity['title'] # Maybe have some sensible string comparison algorithm"
   ]
  },
  {
   "cell_type": "code",
   "execution_count": null,
   "metadata": {},
   "outputs": [],
   "source": [
    "oaf_result_entity['creator']"
   ]
  },
  {
   "cell_type": "code",
   "execution_count": null,
   "metadata": {
    "pycharm": {
     "is_executing": false
    }
   },
   "outputs": [],
   "source": [
    "oaf_result_entity['description']"
   ]
  },
  {
   "cell_type": "markdown",
   "metadata": {},
   "source": [
    "## API OAI"
   ]
  },
  {
   "cell_type": "code",
   "execution_count": null,
   "metadata": {},
   "outputs": [],
   "source": [
    "from sickle import Sickle"
   ]
  },
  {
   "cell_type": "code",
   "execution_count": null,
   "metadata": {},
   "outputs": [],
   "source": [
    "sickle = Sickle(endpoint=\"https://data.mendeley.com/oai\", http_method=\"GET\", max_retries= 2, \n",
    "                protocol_version=\"2.0\", default_retry_after=3)\n",
    "records = sickle.ListRecords(metadataPrefix='oai_dc')"
   ]
  },
  {
   "cell_type": "code",
   "execution_count": null,
   "metadata": {},
   "outputs": [],
   "source": [
    "id = sickle.Identify()"
   ]
  },
  {
   "cell_type": "code",
   "execution_count": null,
   "metadata": {
    "scrolled": true
   },
   "outputs": [],
   "source": [
    "id.granularity"
   ]
  },
  {
   "cell_type": "markdown",
   "metadata": {},
   "source": [
    "## CROSSREF\n",
    "\n",
    "Note: Postponed; xml query only allows lookup of doi from metadata; might be useful (ABSTRACT is just maybe included ) https://github.com/Crossref/rest-api-doc/blob/master/api_format.md"
   ]
  },
  {
   "cell_type": "code",
   "execution_count": null,
   "metadata": {},
   "outputs": [],
   "source": [
    "query = \"https://doi.crossref.org/openurl/?pid=mw784@cam.ac.uk&id=doi:10.1103/PhysRev.47.777&noredirect=true\"\n",
    "response = requests.get(query)"
   ]
  },
  {
   "cell_type": "code",
   "execution_count": null,
   "metadata": {
    "scrolled": true
   },
   "outputs": [],
   "source": [
    "from habanero import Crossref\n",
    "cr = Crossref()\n",
    "#cr.journals(ids = \"0071-3260\", works = True)"
   ]
  },
  {
   "cell_type": "code",
   "execution_count": null,
   "metadata": {},
   "outputs": [],
   "source": [
    "res = cr.journals(ids = \"2167-8359\", works = True, cursor = \"*\", cursor_max = 200, progress_bar = True)"
   ]
  },
  {
   "cell_type": "code",
   "execution_count": null,
   "metadata": {
    "scrolled": true
   },
   "outputs": [],
   "source": [
    "cr.types(works = True)"
   ]
  },
  {
   "cell_type": "code",
   "execution_count": null,
   "metadata": {},
   "outputs": [],
   "source": [
    "journ = cr.journals(works=False, query=\"Evolutionary Biology\", limit=50, progress_bar=True)['message']['items']  #['items-per-page'] #50 i"
   ]
  },
  {
   "cell_type": "code",
   "execution_count": null,
   "metadata": {},
   "outputs": [],
   "source": [
    "journ[0]['title']\n",
    "journ[0]['publisher']\n",
    "journ[0]['issn-type']\n",
    "journ[0]['ISSN']"
   ]
  },
  {
   "cell_type": "code",
   "execution_count": null,
   "metadata": {
    "scrolled": true
   },
   "outputs": [],
   "source": [
    "print(\"\\n\".join([j['title'] + \" published by \" + j['publisher'] \n",
    "                 + \" has ID: \" + \" \".join(j['ISSN']) for j in journ]))"
   ]
  },
  {
   "cell_type": "code",
   "execution_count": null,
   "metadata": {},
   "outputs": [],
   "source": [
    "j_works = cr.journals(ids=[\"1934-2845\"], limit=100, select=[\"title\", \"DOI\", \"issue\", \"volume\"], sort='published-print', order='desc', filter = {'from_pub_date': '2019-01-01'}, works=True, progress_bar=True)"
   ]
  },
  {
   "cell_type": "code",
   "execution_count": null,
   "metadata": {
    "scrolled": true
   },
   "outputs": [],
   "source": [
    "print(f\"There are {j_works['message']['total-results']} results... \\n\")\n",
    "print(\"Displaying 20 Titles: \\n\")\n",
    "works_data =j_works['message']['items']\n",
    "works_data[20]['volume']\n",
    "print(\" \".join([f\"\"\"\"{w.get('title')[0]}\";; Vol: {w.get('volume', None)} Iss: {w.get('issue', None)} \\n\"\"\" for w in works_data]))"
   ]
  },
  {
   "cell_type": "markdown",
   "metadata": {},
   "source": [
    "Get Throughput for today"
   ]
  },
  {
   "cell_type": "code",
   "execution_count": null,
   "metadata": {},
   "outputs": [],
   "source": [
    "cr = requests.head(\"https://api.crossref.org/\")\n",
    "int(cr.headers['x-rate-limit-limit']) / int(cr.headers['x-rate-limit-interval'][:-1])"
   ]
  },
  {
   "cell_type": "markdown",
   "metadata": {},
   "source": [
    "Perform a keyword query for an article"
   ]
  },
  {
   "cell_type": "code",
   "execution_count": 1,
   "metadata": {
    "pycharm": {
     "is_executing": false
    }
   },
   "outputs": [],
   "source": [
    "from habanero import Crossref\n",
    "cr = Crossref(mailto=\"markus.walder00@gmail.com\")\n",
    "to_select = [\"abstract\", \"title\", \"original-title\", \"issue\", \"short-title\", \"DOI\", \"published-print\", \"volume\", \"author\", 'URL', 'ISSN']"
   ]
  },
  {
   "cell_type": "code",
   "execution_count": 3,
   "metadata": {
    "scrolled": true,
    "pycharm": {
     "is_executing": false
    }
   },
   "outputs": [],
   "source": [
    "query_string = \"aerhdghsf\"\n",
    "res = cr.works(limit=5, query_bibliographic=query_string,# query_author=\"Gluck Buglion\",\n",
    "        filter={\"has-abstract\":True, \"type\":\"journal-article\", \"from-print-pub-date\":\"2018-01\" , \"until-print-pub-date\" :\"2019-01\" },\n",
    "        select= to_select)"
   ]
  },
  {
   "cell_type": "code",
   "execution_count": 4,
   "outputs": [
    {
     "data": {
      "text/plain": "dict_keys(['status', 'message-type', 'message-version', 'message'])"
     },
     "metadata": {},
     "output_type": "execute_result",
     "execution_count": 4
    }
   ],
   "source": [
    "res.keys() "
   ],
   "metadata": {
    "collapsed": false,
    "pycharm": {
     "name": "#%%\n",
     "is_executing": false
    }
   }
  },
  {
   "cell_type": "code",
   "execution_count": 3,
   "metadata": {},
   "outputs": [],
   "source": [
    "doi = \"10.1386/eme.17.4.465_1\"\n",
    "doi_response =cr.works(ids = doi)"
   ]
  },
  {
   "cell_type": "code",
   "execution_count": 17,
   "metadata": {},
   "outputs": [
    {
     "data": {
      "text/plain": [
       "[2018, 12, 1]"
      ]
     },
     "execution_count": 17,
     "metadata": {},
     "output_type": "execute_result"
    }
   ],
   "source": [
    "doi_response['message'].get('issued')['date-parts'][0]"
   ]
  },
  {
   "cell_type": "code",
   "execution_count": 7,
   "metadata": {},
   "outputs": [
    {
     "name": "stdout",
     "output_type": "stream",
     "text": [
      "Error\n"
     ]
    }
   ],
   "source": [
    "import habanero\n",
    "import requests\n",
    "nonsense_doi = \"10.1386/eme.17.334.465_1\"\n",
    "try:\n",
    "    nonsense_doi_response =cr.works(ids = nonsense_doi)\n",
    "except requests.exceptions.HTTPError as e:\n",
    "    print(\"Error\")"
   ]
  },
  {
   "cell_type": "code",
   "execution_count": 21,
   "metadata": {},
   "outputs": [],
   "source": [
    "nonsense_query = \"nonsense\"\n",
    "resp =cr.works(limit=1, query_bibliographic=nonsense_query)"
   ]
  },
  {
   "cell_type": "code",
   "execution_count": 22,
   "metadata": {},
   "outputs": [
    {
     "data": {
      "text/plain": [
       "{'facets': {},\n",
       " 'total-results': 6036,\n",
       " 'items': [{'indexed': {'date-parts': [[2020, 7, 3]],\n",
       "    'date-time': '2020-07-03T10:10:53Z',\n",
       "    'timestamp': 1593771053300},\n",
       "   'reference-count': 0,\n",
       "   'publisher': 'Stanford University Press',\n",
       "   'isbn-type': [{'value': '9780804783064', 'type': 'electronic'}],\n",
       "   'content-domain': {'domain': [], 'crossmark-restriction': False},\n",
       "   'published-print': {'date-parts': [[2020, 12, 31]]},\n",
       "   'DOI': '10.1515/9780804783064-001',\n",
       "   'type': 'book-chapter',\n",
       "   'created': {'date-parts': [[2020, 7, 3]],\n",
       "    'date-time': '2020-07-03T09:51:02Z',\n",
       "    'timestamp': 1593769862000},\n",
       "   'page': '1-14',\n",
       "   'source': 'Crossref',\n",
       "   'is-referenced-by-count': 0,\n",
       "   'title': ['1. Introduction: Nonsense, Victorian Nonsense, Romantic Nonsense'],\n",
       "   'prefix': '10.1515',\n",
       "   'member': '374',\n",
       "   'container-title': ['In Praise of Nonsense'],\n",
       "   'link': [{'URL': 'https://www.degruyter.com/view/book/9780804783064/10.1515/9780804783064-001.xml',\n",
       "     'content-type': 'text/html',\n",
       "     'content-version': 'vor',\n",
       "     'intended-application': 'text-mining'}],\n",
       "   'deposited': {'date-parts': [[2020, 7, 3]],\n",
       "    'date-time': '2020-07-03T09:51:04Z',\n",
       "    'timestamp': 1593769864000},\n",
       "   'score': 17.657764,\n",
       "   'issued': {'date-parts': [[2020, 12, 31]]},\n",
       "   'ISBN': ['9780804783064'],\n",
       "   'references-count': 0,\n",
       "   'URL': 'http://dx.doi.org/10.1515/9780804783064-001'}],\n",
       " 'items-per-page': 1,\n",
       " 'query': {'start-index': 0, 'search-terms': None}}"
      ]
     },
     "execution_count": 22,
     "metadata": {},
     "output_type": "execute_result"
    }
   ],
   "source": [
    "resp[\"message\"]"
   ]
  },
  {
   "cell_type": "code",
   "execution_count": 13,
   "metadata": {},
   "outputs": [
    {
     "data": {
      "text/plain": [
       "'Photojournalism is a vital resource for thinking, feeling, expressing, acting and dealing with problems of collective living, argues Robert Hariman and John Louis Lucaites. It is a kind of ‘equipment for living’. This article proposes the concept rhetorical working through as a way of describing how photojournalistic rhetoric functions as ‘equipment for living’. It argues that humans constantly perform three kinds of rhetorical working through: dealing with issues and arguments, dealing with social relations and dealing with identity and self.'"
      ]
     },
     "execution_count": 13,
     "metadata": {},
     "output_type": "execute_result"
    }
   ],
   "source": [
    "import re\n",
    "jats_regex = re.compile(r\"<jats:\\w*>|</jats:\\w*>\")#\"|</jats(.)*>\")\n",
    "#jats_regex.sub(\"\", doi_response['message'].get('abstract'))\n",
    "jats_regex.sub(\"\", doi_response['message'].get('abstract'))"
   ]
  },
  {
   "cell_type": "markdown",
   "metadata": {},
   "source": [
    "Further Filters\n",
    "\n",
    "from-pub-date\t{date}\tmetadata where published date is since (inclusive) {date}\n",
    "until-pub-date\t{date}\tmetadata where published date is before (inclusive) {date}\n",
    "from-online-pub-date\t{date}\tmetadata where online published date is since (inclusive) {date}\n",
    "until-online-pub-date\t{date}\tmetadata where online published date is before (inclusive) {date}\n",
    "from-print-pub-date\t{date}\tmetadata where print published date is since (inclusive) {date}\n",
    "until-print-pub-date\t{date}\tmetadata where print published date is before (inclusive) {date}"
   ]
  },
  {
   "cell_type": "markdown",
   "metadata": {
    "pycharm": {
     "name": "#%% md\n"
    }
   },
   "source": [
    "\n",
    "\n"
   ]
  }
 ],
 "metadata": {
  "kernelspec": {
   "display_name": "Python 3",
   "language": "python",
   "name": "python3"
  },
  "language_info": {
   "codemirror_mode": {
    "name": "ipython",
    "version": 3
   },
   "file_extension": ".py",
   "mimetype": "text/x-python",
   "name": "python",
   "nbconvert_exporter": "python",
   "pygments_lexer": "ipython3",
   "version": "3.7.9"
  },
  "pycharm": {
   "stem_cell": {
    "cell_type": "raw",
    "source": [],
    "metadata": {
     "collapsed": false
    }
   }
  }
 },
 "nbformat": 4,
 "nbformat_minor": 1
}