{
 "cells": [
  {
   "cell_type": "code",
   "execution_count": 1,
   "metadata": {
    "collapsed": true,
    "pycharm": {
     "is_executing": false
    }
   },
   "outputs": [],
   "source": [
    "from sources.data_controller.controller_interface import UserQueryHandler, UserQueryInformation\n",
    "from sources.data_controller.controller import QueryDispatcher\n",
    "from sources.databases.journal_name_issn_database import JournalNameIssnDatabase\n",
    "from pathlib import Path\n",
    "from datetime import date"
   ]
  },
  {
   "cell_type": "code",
   "execution_count": 3,
   "outputs": [],
   "source": [
    "with JournalNameIssnDatabase() as db:\n",
    "    cpy = db._name_issn_db"
   ],
   "metadata": {
    "collapsed": false,
    "pycharm": {
     "name": "#%%\n",
     "is_executing": false
    }
   }
  },
  {
   "cell_type": "code",
   "execution_count": 12,
   "outputs": [],
   "source": [
    "all_journals = list(cpy.keys())\n",
    "start_date = date(2020,1,1)\n",
    "end_date = date.today() #date(2020,1,1)\n",
    "\n",
    "def download_callback(num, perc):\n",
    "    print(f\"Loaded {num} articles - {perc*100}% done!\")"
   ],
   "metadata": {
    "collapsed": false,
    "pycharm": {
     "name": "#%%\n",
     "is_executing": false
    }
   }
  },
  {
   "cell_type": "code",
   "execution_count": 13,
   "outputs": [],
   "source": [
    "queries = []\n",
    "last=0\n",
    "for rng in range(15, len(all_journals), 15):\n",
    "    queries.append(UserQueryInformation\n",
    "                   (journals_to_query=all_journals[last:rng],\n",
    "                    start_date_range=start_date,\n",
    "                    end_date_range=end_date))\n",
    "    last=rng\n",
    "\n",
    "queries.append(UserQueryInformation\n",
    "                   (journals_to_query=all_journals[last:],\n",
    "                    start_date_range=start_date,\n",
    "                    end_date_range=end_date))"
   ],
   "metadata": {
    "collapsed": false,
    "pycharm": {
     "name": "#%%\n",
     "is_executing": false
    }
   }
  },
  {
   "cell_type": "code",
   "execution_count": 14,
   "outputs": [
    {
     "data": {
      "text/plain": "25"
     },
     "metadata": {},
     "output_type": "execute_result",
     "execution_count": 14
    }
   ],
   "source": [
    "def response_cb():\n",
    "    print(\"Finished processing query! \\n\\n\")\n",
    "    \n",
    "len(queries)"
   ],
   "metadata": {
    "collapsed": false,
    "pycharm": {
     "name": "#%%\n",
     "is_executing": false
    }
   }
  },
  {
   "cell_type": "code",
   "execution_count": 15,
   "outputs": [],
   "source": [
    "uq = QueryDispatcher()\n",
    "#  \n"
   ],
   "metadata": {
    "collapsed": false,
    "pycharm": {
     "name": "#%%\n",
     "is_executing": false
    }
   }
  },
  {
   "cell_type": "code",
   "execution_count": 9,
   "outputs": [
    {
     "data": {
      "text/plain": "[<_MainThread(MainThread, started 32040)>,\n <Thread(Thread-4, started daemon 33872)>,\n <Heartbeat(Thread-5, started daemon 23028)>,\n <HistorySavingThread(IPythonHistorySavingThread, started 3704)>,\n <ParentPollerWindows(Thread-3, started daemon 5280)>]"
     },
     "metadata": {},
     "output_type": "execute_result",
     "execution_count": 9
    }
   ],
   "source": [
    "import threading\n",
    "threading.enumerate()"
   ],
   "metadata": {
    "collapsed": false,
    "pycharm": {
     "name": "#%%\n",
     "is_executing": false
    }
   }
  },
  {
   "cell_type": "code",
   "execution_count": 17,
   "outputs": [
    {
     "name": "stdout",
     "text": [
      "Processing query 0\n",
      "Loaded 33 articles - 1.3637253409313352% done!\n",
      "Loaded 283 articles - 10.603222180591983% done!\n",
      "Loaded 389 articles - 100.0% done!\n",
      "Finished processing query! \n",
      "\n",
      "\n",
      "Processing query 1\n",
      "Loaded 50 articles - 1.6258360122676718% done!\n",
      "Loaded 300 articles - 9.755016073606031% done!\n",
      "Loaded 359 articles - 100.0% done!\n",
      "Finished processing query! \n",
      "\n",
      "\n",
      "Processing query 2\n",
      "Loaded 81 articles - 4.4733727810650885% done!\n",
      "Loaded 252 articles - 100.0% done!\n",
      "Finished processing query! \n",
      "\n",
      "\n",
      "Processing query 3\n",
      "Loaded 0 articles - 0.0% done!\n",
      "Loaded 71 articles - 2.9983108108108105% done!\n",
      "Loaded 149 articles - 100.0% done!\n",
      "Finished processing query! \n",
      "\n",
      "\n",
      "Processing query 4\n",
      "Loaded 5 articles - 0.39533915938410324% done!\n",
      "Loaded 248 articles - 7.499296765119551% done!\n",
      "Loaded 328 articles - 100.0% done!\n",
      "Finished processing query! \n",
      "\n",
      "\n",
      "Processing query 5\n",
      "Loaded 142 articles - 6.516750803120698% done!\n",
      "Loaded 230 articles - 100.0% done!\n",
      "Finished processing query! \n",
      "\n",
      "\n",
      "Processing query 6\n",
      "Loaded 185 articles - 7.578084997439836% done!\n",
      "Loaded 380 articles - 100.0% done!\n",
      "Finished processing query! \n",
      "\n",
      "\n",
      "Processing query 7\n",
      "Loaded 9 articles - 0.670926517571885% done!\n",
      "Loaded 43 articles - 2.8395914919757357% done!\n",
      "Loaded 95 articles - 100.0% done!\n",
      "Finished processing query! \n",
      "\n",
      "\n",
      "Processing query 8\n",
      "Loaded 0 articles - 100.0% done!\n",
      "Finished processing query! \n",
      "\n",
      "\n"
     ],
     "output_type": "stream"
    }
   ],
   "source": [
    "cnt = 0\n",
    "for i, query in enumerate(queries):\n",
    "    if i>8:\n",
    "        continue\n",
    "    print(f\"Processing query {i}\")\n",
    "    uq._load_and_synchronize_in_background(query,\n",
    "                          fetch_article_cb=download_callback,\n",
    "                          finished_execution_cb=response_cb,\n",
    "                          fetch_article_cb_freq=250,\n",
    "                          classify_data_cb=None,\n",
    "                            classify_data_cb_freq=100)"
   ],
   "metadata": {
    "collapsed": false,
    "pycharm": {
     "name": "#%%\n",
     "is_executing": false
    }
   }
  },
  {
   "cell_type": "code",
   "execution_count": 11,
   "outputs": [
    {
     "data": {
      "text/plain": "50"
     },
     "metadata": {},
     "output_type": "execute_result",
     "execution_count": 11
    }
   ],
   "source": [],
   "metadata": {
    "collapsed": false,
    "pycharm": {
     "name": "#%%\n",
     "is_executing": false
    }
   }
  }
 ],
 "metadata": {
  "kernelspec": {
   "display_name": "Python 3",
   "language": "python",
   "name": "python3"
  },
  "language_info": {
   "codemirror_mode": {
    "name": "ipython",
    "version": 2
   },
   "file_extension": ".py",
   "mimetype": "text/x-python",
   "name": "python",
   "nbconvert_exporter": "python",
   "pygments_lexer": "ipython2",
   "version": "2.7.6"
  },
  "pycharm": {
   "stem_cell": {
    "cell_type": "raw",
    "source": [],
    "metadata": {
     "collapsed": false
    }
   }
  }
 },
 "nbformat": 4,
 "nbformat_minor": 0
}