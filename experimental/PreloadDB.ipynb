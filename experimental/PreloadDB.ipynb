{
 "cells": [
  {
   "cell_type": "code",
   "execution_count": 1,
   "metadata": {
    "collapsed": true,
    "pycharm": {
     "is_executing": false
    }
   },
   "outputs": [],
   "source": [
    "from sources.data_controller.controller_interface import UserQueryHandler, UserQueryInformation\n",
    "from sources.data_controller.controller import QueryDispatcher\n",
    "from sources.databases.journal_name_issn_database import JournalNameIssnDatabase\n",
    "from pathlib import Path\n",
    "from datetime import date"
   ]
  },
  {
   "cell_type": "code",
   "execution_count": 2,
   "outputs": [],
   "source": [
    "with JournalNameIssnDatabase() as db:\n",
    "    cpy = db._name_issn_db"
   ],
   "metadata": {
    "collapsed": false,
    "pycharm": {
     "name": "#%%\n",
     "is_executing": false
    }
   }
  },
  {
   "cell_type": "code",
   "execution_count": 3,
   "outputs": [],
   "source": [
    "all_journals = list(cpy.keys())\n",
    "start_date = date(2000,1,1)\n",
    "end_date = date(2005,1,1)\n",
    "\n",
    "def download_callback(num, perc):\n",
    "    print(f\"Loaded {num} articles - {perc*100}% done!\")"
   ],
   "metadata": {
    "collapsed": false,
    "pycharm": {
     "name": "#%%\n",
     "is_executing": false
    }
   }
  },
  {
   "cell_type": "code",
   "execution_count": 4,
   "outputs": [],
   "source": [
    "queries = []\n",
    "last=0\n",
    "for rng in range(15, len(all_journals), 15):\n",
    "    queries.append(UserQueryInformation\n",
    "                   (journals_to_query=all_journals[last:rng],\n",
    "                    start_date_range=start_date,\n",
    "                    end_date_range=end_date))\n",
    "    last=rng\n",
    "\n",
    "queries.append(UserQueryInformation\n",
    "                   (journals_to_query=all_journals[last:],\n",
    "                    start_date_range=start_date,\n",
    "                    end_date_range=end_date))"
   ],
   "metadata": {
    "collapsed": false,
    "pycharm": {
     "name": "#%%\n",
     "is_executing": false
    }
   }
  },
  {
   "cell_type": "code",
   "execution_count": 5,
   "outputs": [
    {
     "data": {
      "text/plain": "25"
     },
     "metadata": {},
     "output_type": "execute_result",
     "execution_count": 5
    }
   ],
   "source": [
    "def response_cb():\n",
    "    print(\"Finished processing query! \\n\\n\")\n",
    "    \n",
    "len(queries)"
   ],
   "metadata": {
    "collapsed": false,
    "pycharm": {
     "name": "#%%\n",
     "is_executing": false
    }
   }
  },
  {
   "cell_type": "code",
   "execution_count": 6,
   "outputs": [],
   "source": [
    "uq = QueryDispatcher()\n",
    "#  \n"
   ],
   "metadata": {
    "collapsed": false,
    "pycharm": {
     "name": "#%%\n",
     "is_executing": false
    }
   }
  },
  {
   "cell_type": "code",
   "execution_count": null,
   "outputs": [],
   "source": [
    "import threading\n",
    "threading.enumerate()"
   ],
   "metadata": {
    "collapsed": false,
    "pycharm": {
     "name": "#%%\n",
     "is_executing": true
    }
   }
  },
  {
   "cell_type": "code",
   "execution_count": null,
   "outputs": [
    {
     "name": "stdout",
     "text": [
      "Loaded 106 articles - 1.828847481021394% done!\n",
      "Loaded 216 articles - 2.6719793741943048% done!\n",
      "Loaded 292 articles - 4.134576907686151% done!\n",
      "Loaded 335 articles - 4.381427976933595% done!\n",
      "Loaded 456 articles - 6.390416678665016% done!\n",
      "Loaded 492 articles - 7.037185410713173% done!\n",
      "Loaded 554 articles - 8.01861237886282% done!\n"
     ],
     "output_type": "stream"
    }
   ],
   "source": [
    "for i, query in enumerate(queries):\n",
    "    if i<13 or i>20:\n",
    "        continue\n",
    "    uq._load_and_synchronize_in_background(query,\n",
    "                          fetch_article_cb=download_callback,\n",
    "                          finished_execution_cb=response_cb,\n",
    "                          fetch_article_cb_freq=250,\n",
    "                          classify_data_cb=None,\n",
    "                            classify_data_cb_freq=100)"
   ],
   "metadata": {
    "collapsed": false,
    "pycharm": {
     "name": "#%%\n",
     "is_executing": true
    }
   }
  },
  {
   "cell_type": "code",
   "execution_count": null,
   "outputs": [],
   "source": [
    "start_date = date(2005,1,1)\n",
    "end_date = date(2010,1,1)\n",
    "queries = []\n",
    "last=0\n",
    "for rng in range(15, len(all_journals), 15):\n",
    "    queries.append(UserQueryInformation\n",
    "                   (journals_to_query=all_journals[last:rng],\n",
    "                    start_date_range=start_date,\n",
    "                    end_date_range=end_date))\n",
    "    last=rng\n",
    "\n",
    "queries.append(UserQueryInformation\n",
    "                   (journals_to_query=all_journals[last:],\n",
    "                    start_date_range=start_date))\n"
   ],
   "metadata": {
    "collapsed": false,
    "pycharm": {
     "name": "#%%\n",
     "is_executing": true
    }
   }
  },
  {
   "cell_type": "code",
   "execution_count": null,
   "outputs": [],
   "source": [
    "for i, query in enumerate(queries):\n",
    "    uq._load_and_synchronize_in_background(query,\n",
    "                          fetch_article_cb=download_callback,\n",
    "                          finished_execution_cb=response_cb,\n",
    "                          fetch_article_cb_freq=1000,\n",
    "                          classify_data_cb=None,\n",
    "                            classify_data_cb_freq=100)\n",
    "\n"
   ],
   "metadata": {
    "collapsed": false,
    "pycharm": {
     "name": "#%%\n",
     "is_executing": true
    }
   }
  }
 ],
 "metadata": {
  "kernelspec": {
   "display_name": "Python 3",
   "language": "python",
   "name": "python3"
  },
  "language_info": {
   "codemirror_mode": {
    "name": "ipython",
    "version": 2
   },
   "file_extension": ".py",
   "mimetype": "text/x-python",
   "name": "python",
   "nbconvert_exporter": "python",
   "pygments_lexer": "ipython2",
   "version": "2.7.6"
  },
  "pycharm": {
   "stem_cell": {
    "cell_type": "raw",
    "source": [],
    "metadata": {
     "collapsed": false
    }
   }
  }
 },
 "nbformat": 4,
 "nbformat_minor": 0
}